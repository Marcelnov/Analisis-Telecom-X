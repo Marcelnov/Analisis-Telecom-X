{
  "nbformat": 4,
  "nbformat_minor": 0,
  "metadata": {
    "colab": {
      "provenance": [],
      "toc_visible": true
    },
    "kernelspec": {
      "name": "python3",
      "display_name": "Python 3"
    },
    "language_info": {
      "name": "python"
    }
  },
  "cells": [
    {
      "cell_type": "code",
      "execution_count": null,
      "metadata": {
        "id": "s_H94Qw1TxsQ"
      },
      "outputs": [],
      "source": []
    },
    {
      "cell_type": "markdown",
      "source": [
        "# Desafio Telecom X"
      ],
      "metadata": {
        "id": "R4X1LgJoT0my"
      }
    },
    {
      "cell_type": "markdown",
      "source": [
        "**Nombre del proyecto:** \"Churn de Clientes\"\n",
        "\n",
        "**Descripción**\n",
        "\n",
        "La empresa Telecom X enfrenta un alta tasa de cancelacion y necesita comprender los factores que le llevaa a esta perdida de clientes\n",
        "\n",
        "Los datos usados para este analisis se extraen de la base de datos de cliente de la empresa, están disponibles en formato JSON y contienen información esencial sobre los clientes, incluyendo datos demográficos, tipo de servicio contratado y estado de evasión."
      ],
      "metadata": {
        "id": "rLvoe4s-hlQ4"
      }
    },
    {
      "cell_type": "markdown",
      "source": [
        "## 1)   Extraccion de Datos\n"
      ],
      "metadata": {
        "id": "oMpJzDIxVu1C"
      }
    },
    {
      "cell_type": "code",
      "metadata": {
        "colab": {
          "base_uri": "https://localhost:8080/",
          "height": 536
        },
        "id": "c8a5e4a2",
        "outputId": "3cd45dca-fcf5-49e0-b907-91e7ab54e4b4"
      },
      "source": [
        "\n",
        "import pandas as pd\n",
        "\n",
        "url = 'https://raw.githubusercontent.com/ingridcristh/challenge2-data-science-LATAM/main/TelecomX_Data.json'\n",
        "df = pd.read_json(url)\n",
        "display(df.sample(10))"
      ],
      "execution_count": null,
      "outputs": [
        {
          "output_type": "display_data",
          "data": {
            "text/plain": [
              "      customerID Churn                                           customer  \\\n",
              "270   0394-YONDK    No  {'gender': 'Male', 'SeniorCitizen': 0, 'Partne...   \n",
              "4695  6432-TWQLB   Yes  {'gender': 'Male', 'SeniorCitizen': 0, 'Partne...   \n",
              "6396  8780-RSYYU    No  {'gender': 'Female', 'SeniorCitizen': 0, 'Part...   \n",
              "4317  5930-GBIWP    No  {'gender': 'Male', 'SeniorCitizen': 0, 'Partne...   \n",
              "856   1215-FIGMP    No  {'gender': 'Male', 'SeniorCitizen': 0, 'Partne...   \n",
              "1757  2498-XLDZR    No  {'gender': 'Female', 'SeniorCitizen': 0, 'Part...   \n",
              "2630  3665-JATSN    No  {'gender': 'Female', 'SeniorCitizen': 0, 'Part...   \n",
              "4517  6194-HBGQN    No  {'gender': 'Male', 'SeniorCitizen': 0, 'Partne...   \n",
              "2455  3422-WJOYD    No  {'gender': 'Male', 'SeniorCitizen': 0, 'Partne...   \n",
              "2972  4123-FCVCB    No  {'gender': 'Female', 'SeniorCitizen': 0, 'Part...   \n",
              "\n",
              "                                                  phone  \\\n",
              "270     {'PhoneService': 'Yes', 'MultipleLines': 'Yes'}   \n",
              "4695    {'PhoneService': 'Yes', 'MultipleLines': 'Yes'}   \n",
              "6396     {'PhoneService': 'Yes', 'MultipleLines': 'No'}   \n",
              "4317    {'PhoneService': 'Yes', 'MultipleLines': 'Yes'}   \n",
              "856     {'PhoneService': 'Yes', 'MultipleLines': 'Yes'}   \n",
              "1757     {'PhoneService': 'Yes', 'MultipleLines': 'No'}   \n",
              "2630  {'PhoneService': 'No', 'MultipleLines': 'No ph...   \n",
              "4517    {'PhoneService': 'Yes', 'MultipleLines': 'Yes'}   \n",
              "2455     {'PhoneService': 'Yes', 'MultipleLines': 'No'}   \n",
              "2972    {'PhoneService': 'Yes', 'MultipleLines': 'Yes'}   \n",
              "\n",
              "                                               internet  \\\n",
              "270   {'InternetService': 'No', 'OnlineSecurity': 'N...   \n",
              "4695  {'InternetService': 'Fiber optic', 'OnlineSecu...   \n",
              "6396  {'InternetService': 'No', 'OnlineSecurity': 'N...   \n",
              "4317  {'InternetService': 'DSL', 'OnlineSecurity': '...   \n",
              "856   {'InternetService': 'Fiber optic', 'OnlineSecu...   \n",
              "1757  {'InternetService': 'DSL', 'OnlineSecurity': '...   \n",
              "2630  {'InternetService': 'DSL', 'OnlineSecurity': '...   \n",
              "4517  {'InternetService': 'DSL', 'OnlineSecurity': '...   \n",
              "2455  {'InternetService': 'DSL', 'OnlineSecurity': '...   \n",
              "2972  {'InternetService': 'DSL', 'OnlineSecurity': '...   \n",
              "\n",
              "                                                account  \n",
              "270   {'Contract': 'Two year', 'PaperlessBilling': '...  \n",
              "4695  {'Contract': 'Month-to-month', 'PaperlessBilli...  \n",
              "6396  {'Contract': 'Month-to-month', 'PaperlessBilli...  \n",
              "4317  {'Contract': 'Two year', 'PaperlessBilling': '...  \n",
              "856   {'Contract': 'Month-to-month', 'PaperlessBilli...  \n",
              "1757  {'Contract': 'Two year', 'PaperlessBilling': '...  \n",
              "2630  {'Contract': 'Month-to-month', 'PaperlessBilli...  \n",
              "4517  {'Contract': 'One year', 'PaperlessBilling': '...  \n",
              "2455  {'Contract': 'One year', 'PaperlessBilling': '...  \n",
              "2972  {'Contract': 'One year', 'PaperlessBilling': '...  "
            ],
            "text/html": [
              "\n",
              "  <div id=\"df-b112deff-706a-4596-9b5a-0a6f9d376678\" class=\"colab-df-container\">\n",
              "    <div>\n",
              "<style scoped>\n",
              "    .dataframe tbody tr th:only-of-type {\n",
              "        vertical-align: middle;\n",
              "    }\n",
              "\n",
              "    .dataframe tbody tr th {\n",
              "        vertical-align: top;\n",
              "    }\n",
              "\n",
              "    .dataframe thead th {\n",
              "        text-align: right;\n",
              "    }\n",
              "</style>\n",
              "<table border=\"1\" class=\"dataframe\">\n",
              "  <thead>\n",
              "    <tr style=\"text-align: right;\">\n",
              "      <th></th>\n",
              "      <th>customerID</th>\n",
              "      <th>Churn</th>\n",
              "      <th>customer</th>\n",
              "      <th>phone</th>\n",
              "      <th>internet</th>\n",
              "      <th>account</th>\n",
              "    </tr>\n",
              "  </thead>\n",
              "  <tbody>\n",
              "    <tr>\n",
              "      <th>270</th>\n",
              "      <td>0394-YONDK</td>\n",
              "      <td>No</td>\n",
              "      <td>{'gender': 'Male', 'SeniorCitizen': 0, 'Partne...</td>\n",
              "      <td>{'PhoneService': 'Yes', 'MultipleLines': 'Yes'}</td>\n",
              "      <td>{'InternetService': 'No', 'OnlineSecurity': 'N...</td>\n",
              "      <td>{'Contract': 'Two year', 'PaperlessBilling': '...</td>\n",
              "    </tr>\n",
              "    <tr>\n",
              "      <th>4695</th>\n",
              "      <td>6432-TWQLB</td>\n",
              "      <td>Yes</td>\n",
              "      <td>{'gender': 'Male', 'SeniorCitizen': 0, 'Partne...</td>\n",
              "      <td>{'PhoneService': 'Yes', 'MultipleLines': 'Yes'}</td>\n",
              "      <td>{'InternetService': 'Fiber optic', 'OnlineSecu...</td>\n",
              "      <td>{'Contract': 'Month-to-month', 'PaperlessBilli...</td>\n",
              "    </tr>\n",
              "    <tr>\n",
              "      <th>6396</th>\n",
              "      <td>8780-RSYYU</td>\n",
              "      <td>No</td>\n",
              "      <td>{'gender': 'Female', 'SeniorCitizen': 0, 'Part...</td>\n",
              "      <td>{'PhoneService': 'Yes', 'MultipleLines': 'No'}</td>\n",
              "      <td>{'InternetService': 'No', 'OnlineSecurity': 'N...</td>\n",
              "      <td>{'Contract': 'Month-to-month', 'PaperlessBilli...</td>\n",
              "    </tr>\n",
              "    <tr>\n",
              "      <th>4317</th>\n",
              "      <td>5930-GBIWP</td>\n",
              "      <td>No</td>\n",
              "      <td>{'gender': 'Male', 'SeniorCitizen': 0, 'Partne...</td>\n",
              "      <td>{'PhoneService': 'Yes', 'MultipleLines': 'Yes'}</td>\n",
              "      <td>{'InternetService': 'DSL', 'OnlineSecurity': '...</td>\n",
              "      <td>{'Contract': 'Two year', 'PaperlessBilling': '...</td>\n",
              "    </tr>\n",
              "    <tr>\n",
              "      <th>856</th>\n",
              "      <td>1215-FIGMP</td>\n",
              "      <td>No</td>\n",
              "      <td>{'gender': 'Male', 'SeniorCitizen': 0, 'Partne...</td>\n",
              "      <td>{'PhoneService': 'Yes', 'MultipleLines': 'Yes'}</td>\n",
              "      <td>{'InternetService': 'Fiber optic', 'OnlineSecu...</td>\n",
              "      <td>{'Contract': 'Month-to-month', 'PaperlessBilli...</td>\n",
              "    </tr>\n",
              "    <tr>\n",
              "      <th>1757</th>\n",
              "      <td>2498-XLDZR</td>\n",
              "      <td>No</td>\n",
              "      <td>{'gender': 'Female', 'SeniorCitizen': 0, 'Part...</td>\n",
              "      <td>{'PhoneService': 'Yes', 'MultipleLines': 'No'}</td>\n",
              "      <td>{'InternetService': 'DSL', 'OnlineSecurity': '...</td>\n",
              "      <td>{'Contract': 'Two year', 'PaperlessBilling': '...</td>\n",
              "    </tr>\n",
              "    <tr>\n",
              "      <th>2630</th>\n",
              "      <td>3665-JATSN</td>\n",
              "      <td>No</td>\n",
              "      <td>{'gender': 'Female', 'SeniorCitizen': 0, 'Part...</td>\n",
              "      <td>{'PhoneService': 'No', 'MultipleLines': 'No ph...</td>\n",
              "      <td>{'InternetService': 'DSL', 'OnlineSecurity': '...</td>\n",
              "      <td>{'Contract': 'Month-to-month', 'PaperlessBilli...</td>\n",
              "    </tr>\n",
              "    <tr>\n",
              "      <th>4517</th>\n",
              "      <td>6194-HBGQN</td>\n",
              "      <td>No</td>\n",
              "      <td>{'gender': 'Male', 'SeniorCitizen': 0, 'Partne...</td>\n",
              "      <td>{'PhoneService': 'Yes', 'MultipleLines': 'Yes'}</td>\n",
              "      <td>{'InternetService': 'DSL', 'OnlineSecurity': '...</td>\n",
              "      <td>{'Contract': 'One year', 'PaperlessBilling': '...</td>\n",
              "    </tr>\n",
              "    <tr>\n",
              "      <th>2455</th>\n",
              "      <td>3422-WJOYD</td>\n",
              "      <td>No</td>\n",
              "      <td>{'gender': 'Male', 'SeniorCitizen': 0, 'Partne...</td>\n",
              "      <td>{'PhoneService': 'Yes', 'MultipleLines': 'No'}</td>\n",
              "      <td>{'InternetService': 'DSL', 'OnlineSecurity': '...</td>\n",
              "      <td>{'Contract': 'One year', 'PaperlessBilling': '...</td>\n",
              "    </tr>\n",
              "    <tr>\n",
              "      <th>2972</th>\n",
              "      <td>4123-FCVCB</td>\n",
              "      <td>No</td>\n",
              "      <td>{'gender': 'Female', 'SeniorCitizen': 0, 'Part...</td>\n",
              "      <td>{'PhoneService': 'Yes', 'MultipleLines': 'Yes'}</td>\n",
              "      <td>{'InternetService': 'DSL', 'OnlineSecurity': '...</td>\n",
              "      <td>{'Contract': 'One year', 'PaperlessBilling': '...</td>\n",
              "    </tr>\n",
              "  </tbody>\n",
              "</table>\n",
              "</div>\n",
              "    <div class=\"colab-df-buttons\">\n",
              "\n",
              "  <div class=\"colab-df-container\">\n",
              "    <button class=\"colab-df-convert\" onclick=\"convertToInteractive('df-b112deff-706a-4596-9b5a-0a6f9d376678')\"\n",
              "            title=\"Convert this dataframe to an interactive table.\"\n",
              "            style=\"display:none;\">\n",
              "\n",
              "  <svg xmlns=\"http://www.w3.org/2000/svg\" height=\"24px\" viewBox=\"0 -960 960 960\">\n",
              "    <path d=\"M120-120v-720h720v720H120Zm60-500h600v-160H180v160Zm220 220h160v-160H400v160Zm0 220h160v-160H400v160ZM180-400h160v-160H180v160Zm440 0h160v-160H620v160ZM180-180h160v-160H180v160Zm440 0h160v-160H620v160Z\"/>\n",
              "  </svg>\n",
              "    </button>\n",
              "\n",
              "  <style>\n",
              "    .colab-df-container {\n",
              "      display:flex;\n",
              "      gap: 12px;\n",
              "    }\n",
              "\n",
              "    .colab-df-convert {\n",
              "      background-color: #E8F0FE;\n",
              "      border: none;\n",
              "      border-radius: 50%;\n",
              "      cursor: pointer;\n",
              "      display: none;\n",
              "      fill: #1967D2;\n",
              "      height: 32px;\n",
              "      padding: 0 0 0 0;\n",
              "      width: 32px;\n",
              "    }\n",
              "\n",
              "    .colab-df-convert:hover {\n",
              "      background-color: #E2EBFA;\n",
              "      box-shadow: 0px 1px 2px rgba(60, 64, 67, 0.3), 0px 1px 3px 1px rgba(60, 64, 67, 0.15);\n",
              "      fill: #174EA6;\n",
              "    }\n",
              "\n",
              "    .colab-df-buttons div {\n",
              "      margin-bottom: 4px;\n",
              "    }\n",
              "\n",
              "    [theme=dark] .colab-df-convert {\n",
              "      background-color: #3B4455;\n",
              "      fill: #D2E3FC;\n",
              "    }\n",
              "\n",
              "    [theme=dark] .colab-df-convert:hover {\n",
              "      background-color: #434B5C;\n",
              "      box-shadow: 0px 1px 3px 1px rgba(0, 0, 0, 0.15);\n",
              "      filter: drop-shadow(0px 1px 2px rgba(0, 0, 0, 0.3));\n",
              "      fill: #FFFFFF;\n",
              "    }\n",
              "  </style>\n",
              "\n",
              "    <script>\n",
              "      const buttonEl =\n",
              "        document.querySelector('#df-b112deff-706a-4596-9b5a-0a6f9d376678 button.colab-df-convert');\n",
              "      buttonEl.style.display =\n",
              "        google.colab.kernel.accessAllowed ? 'block' : 'none';\n",
              "\n",
              "      async function convertToInteractive(key) {\n",
              "        const element = document.querySelector('#df-b112deff-706a-4596-9b5a-0a6f9d376678');\n",
              "        const dataTable =\n",
              "          await google.colab.kernel.invokeFunction('convertToInteractive',\n",
              "                                                    [key], {});\n",
              "        if (!dataTable) return;\n",
              "\n",
              "        const docLinkHtml = 'Like what you see? Visit the ' +\n",
              "          '<a target=\"_blank\" href=https://colab.research.google.com/notebooks/data_table.ipynb>data table notebook</a>'\n",
              "          + ' to learn more about interactive tables.';\n",
              "        element.innerHTML = '';\n",
              "        dataTable['output_type'] = 'display_data';\n",
              "        await google.colab.output.renderOutput(dataTable, element);\n",
              "        const docLink = document.createElement('div');\n",
              "        docLink.innerHTML = docLinkHtml;\n",
              "        element.appendChild(docLink);\n",
              "      }\n",
              "    </script>\n",
              "  </div>\n",
              "\n",
              "\n",
              "    <div id=\"df-472e7863-a4a8-42b2-9b0d-939bcfbe3f20\">\n",
              "      <button class=\"colab-df-quickchart\" onclick=\"quickchart('df-472e7863-a4a8-42b2-9b0d-939bcfbe3f20')\"\n",
              "                title=\"Suggest charts\"\n",
              "                style=\"display:none;\">\n",
              "\n",
              "<svg xmlns=\"http://www.w3.org/2000/svg\" height=\"24px\"viewBox=\"0 0 24 24\"\n",
              "     width=\"24px\">\n",
              "    <g>\n",
              "        <path d=\"M19 3H5c-1.1 0-2 .9-2 2v14c0 1.1.9 2 2 2h14c1.1 0 2-.9 2-2V5c0-1.1-.9-2-2-2zM9 17H7v-7h2v7zm4 0h-2V7h2v10zm4 0h-2v-4h2v4z\"/>\n",
              "    </g>\n",
              "</svg>\n",
              "      </button>\n",
              "\n",
              "<style>\n",
              "  .colab-df-quickchart {\n",
              "      --bg-color: #E8F0FE;\n",
              "      --fill-color: #1967D2;\n",
              "      --hover-bg-color: #E2EBFA;\n",
              "      --hover-fill-color: #174EA6;\n",
              "      --disabled-fill-color: #AAA;\n",
              "      --disabled-bg-color: #DDD;\n",
              "  }\n",
              "\n",
              "  [theme=dark] .colab-df-quickchart {\n",
              "      --bg-color: #3B4455;\n",
              "      --fill-color: #D2E3FC;\n",
              "      --hover-bg-color: #434B5C;\n",
              "      --hover-fill-color: #FFFFFF;\n",
              "      --disabled-bg-color: #3B4455;\n",
              "      --disabled-fill-color: #666;\n",
              "  }\n",
              "\n",
              "  .colab-df-quickchart {\n",
              "    background-color: var(--bg-color);\n",
              "    border: none;\n",
              "    border-radius: 50%;\n",
              "    cursor: pointer;\n",
              "    display: none;\n",
              "    fill: var(--fill-color);\n",
              "    height: 32px;\n",
              "    padding: 0;\n",
              "    width: 32px;\n",
              "  }\n",
              "\n",
              "  .colab-df-quickchart:hover {\n",
              "    background-color: var(--hover-bg-color);\n",
              "    box-shadow: 0 1px 2px rgba(60, 64, 67, 0.3), 0 1px 3px 1px rgba(60, 64, 67, 0.15);\n",
              "    fill: var(--button-hover-fill-color);\n",
              "  }\n",
              "\n",
              "  .colab-df-quickchart-complete:disabled,\n",
              "  .colab-df-quickchart-complete:disabled:hover {\n",
              "    background-color: var(--disabled-bg-color);\n",
              "    fill: var(--disabled-fill-color);\n",
              "    box-shadow: none;\n",
              "  }\n",
              "\n",
              "  .colab-df-spinner {\n",
              "    border: 2px solid var(--fill-color);\n",
              "    border-color: transparent;\n",
              "    border-bottom-color: var(--fill-color);\n",
              "    animation:\n",
              "      spin 1s steps(1) infinite;\n",
              "  }\n",
              "\n",
              "  @keyframes spin {\n",
              "    0% {\n",
              "      border-color: transparent;\n",
              "      border-bottom-color: var(--fill-color);\n",
              "      border-left-color: var(--fill-color);\n",
              "    }\n",
              "    20% {\n",
              "      border-color: transparent;\n",
              "      border-left-color: var(--fill-color);\n",
              "      border-top-color: var(--fill-color);\n",
              "    }\n",
              "    30% {\n",
              "      border-color: transparent;\n",
              "      border-left-color: var(--fill-color);\n",
              "      border-top-color: var(--fill-color);\n",
              "      border-right-color: var(--fill-color);\n",
              "    }\n",
              "    40% {\n",
              "      border-color: transparent;\n",
              "      border-right-color: var(--fill-color);\n",
              "      border-top-color: var(--fill-color);\n",
              "    }\n",
              "    60% {\n",
              "      border-color: transparent;\n",
              "      border-right-color: var(--fill-color);\n",
              "    }\n",
              "    80% {\n",
              "      border-color: transparent;\n",
              "      border-right-color: var(--fill-color);\n",
              "      border-bottom-color: var(--fill-color);\n",
              "    }\n",
              "    90% {\n",
              "      border-color: transparent;\n",
              "      border-bottom-color: var(--fill-color);\n",
              "    }\n",
              "  }\n",
              "</style>\n",
              "\n",
              "      <script>\n",
              "        async function quickchart(key) {\n",
              "          const quickchartButtonEl =\n",
              "            document.querySelector('#' + key + ' button');\n",
              "          quickchartButtonEl.disabled = true;  // To prevent multiple clicks.\n",
              "          quickchartButtonEl.classList.add('colab-df-spinner');\n",
              "          try {\n",
              "            const charts = await google.colab.kernel.invokeFunction(\n",
              "                'suggestCharts', [key], {});\n",
              "          } catch (error) {\n",
              "            console.error('Error during call to suggestCharts:', error);\n",
              "          }\n",
              "          quickchartButtonEl.classList.remove('colab-df-spinner');\n",
              "          quickchartButtonEl.classList.add('colab-df-quickchart-complete');\n",
              "        }\n",
              "        (() => {\n",
              "          let quickchartButtonEl =\n",
              "            document.querySelector('#df-472e7863-a4a8-42b2-9b0d-939bcfbe3f20 button');\n",
              "          quickchartButtonEl.style.display =\n",
              "            google.colab.kernel.accessAllowed ? 'block' : 'none';\n",
              "        })();\n",
              "      </script>\n",
              "    </div>\n",
              "\n",
              "    </div>\n",
              "  </div>\n"
            ],
            "application/vnd.google.colaboratory.intrinsic+json": {
              "type": "dataframe",
              "summary": "{\n  \"name\": \"display(df\",\n  \"rows\": 10,\n  \"fields\": [\n    {\n      \"column\": \"customerID\",\n      \"properties\": {\n        \"dtype\": \"string\",\n        \"num_unique_values\": 10,\n        \"samples\": [\n          \"3422-WJOYD\",\n          \"6432-TWQLB\",\n          \"2498-XLDZR\"\n        ],\n        \"semantic_type\": \"\",\n        \"description\": \"\"\n      }\n    },\n    {\n      \"column\": \"Churn\",\n      \"properties\": {\n        \"dtype\": \"category\",\n        \"num_unique_values\": 2,\n        \"samples\": [\n          \"Yes\",\n          \"No\"\n        ],\n        \"semantic_type\": \"\",\n        \"description\": \"\"\n      }\n    },\n    {\n      \"column\": \"customer\",\n      \"properties\": {\n        \"dtype\": \"object\",\n        \"semantic_type\": \"\",\n        \"description\": \"\"\n      }\n    },\n    {\n      \"column\": \"phone\",\n      \"properties\": {\n        \"dtype\": \"object\",\n        \"semantic_type\": \"\",\n        \"description\": \"\"\n      }\n    },\n    {\n      \"column\": \"internet\",\n      \"properties\": {\n        \"dtype\": \"object\",\n        \"semantic_type\": \"\",\n        \"description\": \"\"\n      }\n    },\n    {\n      \"column\": \"account\",\n      \"properties\": {\n        \"dtype\": \"object\",\n        \"semantic_type\": \"\",\n        \"description\": \"\"\n      }\n    }\n  ]\n}"
            }
          },
          "metadata": {}
        }
      ]
    },
    {
      "cell_type": "markdown",
      "source": [
        "## 2.) Conoce el conjunto de Datos\n"
      ],
      "metadata": {
        "id": "ZFktfdLAYIcd"
      }
    },
    {
      "cell_type": "code",
      "metadata": {
        "colab": {
          "base_uri": "https://localhost:8080/"
        },
        "id": "690f4797",
        "outputId": "9c454c1e-75b7-40fb-f652-2c41fa7c74f3"
      },
      "source": [
        "import requests\n",
        "\n",
        "url = 'https://raw.githubusercontent.com/ingridcristh/challenge2-data-science-LATAM/main/TelecomX_diccionario.md'\n",
        "dicc = requests.get(url)\n",
        "dicc.raise_for_status() # Raise an exception for bad status codes\n",
        "markdown_content = dicc.text\n",
        "\n",
        "print(markdown_content)"
      ],
      "execution_count": null,
      "outputs": [
        {
          "output_type": "stream",
          "name": "stdout",
          "text": [
            "#### Diccionario de datos\n",
            "\n",
            "- `customerID`: número de identificación único de cada cliente\n",
            "- `Churn`: si el cliente dejó o no la empresa\n",
            "- `gender`: género (masculino y femenino)\n",
            "- `SeniorCitizen`: información sobre si un cliente tiene o no una edad igual o mayor a 65 años\n",
            "- `Partner`: si el cliente tiene o no una pareja\n",
            "- `Dependents`: si el cliente tiene o no dependientes\n",
            "- `tenure`: meses de contrato del cliente\n",
            "- `PhoneService`: suscripción al servicio telefónico\n",
            "- `MultipleLines`: suscripción a más de una línea telefónica\n",
            "- `InternetService`: suscripción a un proveedor de internet\n",
            "- `OnlineSecurity`: suscripción adicional de seguridad en línea\n",
            "- `OnlineBackup`: suscripción adicional de respaldo en línea\n",
            "- `DeviceProtection`: suscripción adicional de protección del dispositivo\n",
            "- `TechSupport`: suscripción adicional de soporte técnico, menor tiempo de espera\n",
            "- `StreamingTV`: suscripción de televisión por cable\n",
            "- `StreamingMovies`: suscripción de streaming de películas\n",
            "- `Contract`: tipo de contrato\n",
            "- `PaperlessBilling`: si el cliente prefiere recibir la factura en línea\n",
            "- `PaymentMethod`: forma de pago\n",
            "- `Charges.Monthly`: total de todos los servicios del cliente por mes\n",
            "- `Charges.Total`: total gastado por el cliente\n"
          ]
        }
      ]
    },
    {
      "cell_type": "markdown",
      "source": [
        "### Informacion general de Dataframe"
      ],
      "metadata": {
        "id": "Wxpsh7Utcz3G"
      }
    },
    {
      "cell_type": "code",
      "source": [
        "# Mostrar información general del DataFrame (columnas, tipos de datos, valores no nulos)\n",
        "display(df.info())\n"
      ],
      "metadata": {
        "colab": {
          "base_uri": "https://localhost:8080/",
          "height": 260
        },
        "id": "0G6joU_arVu_",
        "outputId": "b1f97682-56e0-44ee-8ce3-7e5b3775f962"
      },
      "execution_count": null,
      "outputs": [
        {
          "output_type": "stream",
          "name": "stdout",
          "text": [
            "<class 'pandas.core.frame.DataFrame'>\n",
            "RangeIndex: 7267 entries, 0 to 7266\n",
            "Data columns (total 6 columns):\n",
            " #   Column      Non-Null Count  Dtype \n",
            "---  ------      --------------  ----- \n",
            " 0   customerID  7267 non-null   object\n",
            " 1   Churn       7267 non-null   object\n",
            " 2   customer    7267 non-null   object\n",
            " 3   phone       7267 non-null   object\n",
            " 4   internet    7267 non-null   object\n",
            " 5   account     7267 non-null   object\n",
            "dtypes: object(6)\n",
            "memory usage: 340.8+ KB\n"
          ]
        },
        {
          "output_type": "display_data",
          "data": {
            "text/plain": [
              "None"
            ]
          },
          "metadata": {}
        }
      ]
    },
    {
      "cell_type": "markdown",
      "source": [
        "### Previsualizacion del dataframe"
      ],
      "metadata": {
        "id": "CjI2ONmFdAm-"
      }
    },
    {
      "cell_type": "code",
      "source": [
        "\n",
        "# las cinco primeras muestras\n",
        "# mas un sample de 10 muestras aleatorias\n",
        "display(df.head())"
      ],
      "metadata": {
        "colab": {
          "base_uri": "https://localhost:8080/",
          "height": 293
        },
        "id": "buo7RInxMbSt",
        "outputId": "ae42029c-919d-4441-d8a6-52283153c0a7"
      },
      "execution_count": null,
      "outputs": [
        {
          "output_type": "display_data",
          "data": {
            "text/plain": [
              "   customerID Churn                                           customer  \\\n",
              "0  0002-ORFBO    No  {'gender': 'Female', 'SeniorCitizen': 0, 'Part...   \n",
              "1  0003-MKNFE    No  {'gender': 'Male', 'SeniorCitizen': 0, 'Partne...   \n",
              "2  0004-TLHLJ   Yes  {'gender': 'Male', 'SeniorCitizen': 0, 'Partne...   \n",
              "3  0011-IGKFF   Yes  {'gender': 'Male', 'SeniorCitizen': 1, 'Partne...   \n",
              "4  0013-EXCHZ   Yes  {'gender': 'Female', 'SeniorCitizen': 1, 'Part...   \n",
              "\n",
              "                                             phone  \\\n",
              "0   {'PhoneService': 'Yes', 'MultipleLines': 'No'}   \n",
              "1  {'PhoneService': 'Yes', 'MultipleLines': 'Yes'}   \n",
              "2   {'PhoneService': 'Yes', 'MultipleLines': 'No'}   \n",
              "3   {'PhoneService': 'Yes', 'MultipleLines': 'No'}   \n",
              "4   {'PhoneService': 'Yes', 'MultipleLines': 'No'}   \n",
              "\n",
              "                                            internet  \\\n",
              "0  {'InternetService': 'DSL', 'OnlineSecurity': '...   \n",
              "1  {'InternetService': 'DSL', 'OnlineSecurity': '...   \n",
              "2  {'InternetService': 'Fiber optic', 'OnlineSecu...   \n",
              "3  {'InternetService': 'Fiber optic', 'OnlineSecu...   \n",
              "4  {'InternetService': 'Fiber optic', 'OnlineSecu...   \n",
              "\n",
              "                                             account  \n",
              "0  {'Contract': 'One year', 'PaperlessBilling': '...  \n",
              "1  {'Contract': 'Month-to-month', 'PaperlessBilli...  \n",
              "2  {'Contract': 'Month-to-month', 'PaperlessBilli...  \n",
              "3  {'Contract': 'Month-to-month', 'PaperlessBilli...  \n",
              "4  {'Contract': 'Month-to-month', 'PaperlessBilli...  "
            ],
            "text/html": [
              "\n",
              "  <div id=\"df-0da0db9d-2d19-4fe0-aa10-0c9df5814489\" class=\"colab-df-container\">\n",
              "    <div>\n",
              "<style scoped>\n",
              "    .dataframe tbody tr th:only-of-type {\n",
              "        vertical-align: middle;\n",
              "    }\n",
              "\n",
              "    .dataframe tbody tr th {\n",
              "        vertical-align: top;\n",
              "    }\n",
              "\n",
              "    .dataframe thead th {\n",
              "        text-align: right;\n",
              "    }\n",
              "</style>\n",
              "<table border=\"1\" class=\"dataframe\">\n",
              "  <thead>\n",
              "    <tr style=\"text-align: right;\">\n",
              "      <th></th>\n",
              "      <th>customerID</th>\n",
              "      <th>Churn</th>\n",
              "      <th>customer</th>\n",
              "      <th>phone</th>\n",
              "      <th>internet</th>\n",
              "      <th>account</th>\n",
              "    </tr>\n",
              "  </thead>\n",
              "  <tbody>\n",
              "    <tr>\n",
              "      <th>0</th>\n",
              "      <td>0002-ORFBO</td>\n",
              "      <td>No</td>\n",
              "      <td>{'gender': 'Female', 'SeniorCitizen': 0, 'Part...</td>\n",
              "      <td>{'PhoneService': 'Yes', 'MultipleLines': 'No'}</td>\n",
              "      <td>{'InternetService': 'DSL', 'OnlineSecurity': '...</td>\n",
              "      <td>{'Contract': 'One year', 'PaperlessBilling': '...</td>\n",
              "    </tr>\n",
              "    <tr>\n",
              "      <th>1</th>\n",
              "      <td>0003-MKNFE</td>\n",
              "      <td>No</td>\n",
              "      <td>{'gender': 'Male', 'SeniorCitizen': 0, 'Partne...</td>\n",
              "      <td>{'PhoneService': 'Yes', 'MultipleLines': 'Yes'}</td>\n",
              "      <td>{'InternetService': 'DSL', 'OnlineSecurity': '...</td>\n",
              "      <td>{'Contract': 'Month-to-month', 'PaperlessBilli...</td>\n",
              "    </tr>\n",
              "    <tr>\n",
              "      <th>2</th>\n",
              "      <td>0004-TLHLJ</td>\n",
              "      <td>Yes</td>\n",
              "      <td>{'gender': 'Male', 'SeniorCitizen': 0, 'Partne...</td>\n",
              "      <td>{'PhoneService': 'Yes', 'MultipleLines': 'No'}</td>\n",
              "      <td>{'InternetService': 'Fiber optic', 'OnlineSecu...</td>\n",
              "      <td>{'Contract': 'Month-to-month', 'PaperlessBilli...</td>\n",
              "    </tr>\n",
              "    <tr>\n",
              "      <th>3</th>\n",
              "      <td>0011-IGKFF</td>\n",
              "      <td>Yes</td>\n",
              "      <td>{'gender': 'Male', 'SeniorCitizen': 1, 'Partne...</td>\n",
              "      <td>{'PhoneService': 'Yes', 'MultipleLines': 'No'}</td>\n",
              "      <td>{'InternetService': 'Fiber optic', 'OnlineSecu...</td>\n",
              "      <td>{'Contract': 'Month-to-month', 'PaperlessBilli...</td>\n",
              "    </tr>\n",
              "    <tr>\n",
              "      <th>4</th>\n",
              "      <td>0013-EXCHZ</td>\n",
              "      <td>Yes</td>\n",
              "      <td>{'gender': 'Female', 'SeniorCitizen': 1, 'Part...</td>\n",
              "      <td>{'PhoneService': 'Yes', 'MultipleLines': 'No'}</td>\n",
              "      <td>{'InternetService': 'Fiber optic', 'OnlineSecu...</td>\n",
              "      <td>{'Contract': 'Month-to-month', 'PaperlessBilli...</td>\n",
              "    </tr>\n",
              "  </tbody>\n",
              "</table>\n",
              "</div>\n",
              "    <div class=\"colab-df-buttons\">\n",
              "\n",
              "  <div class=\"colab-df-container\">\n",
              "    <button class=\"colab-df-convert\" onclick=\"convertToInteractive('df-0da0db9d-2d19-4fe0-aa10-0c9df5814489')\"\n",
              "            title=\"Convert this dataframe to an interactive table.\"\n",
              "            style=\"display:none;\">\n",
              "\n",
              "  <svg xmlns=\"http://www.w3.org/2000/svg\" height=\"24px\" viewBox=\"0 -960 960 960\">\n",
              "    <path d=\"M120-120v-720h720v720H120Zm60-500h600v-160H180v160Zm220 220h160v-160H400v160Zm0 220h160v-160H400v160ZM180-400h160v-160H180v160Zm440 0h160v-160H620v160ZM180-180h160v-160H180v160Zm440 0h160v-160H620v160Z\"/>\n",
              "  </svg>\n",
              "    </button>\n",
              "\n",
              "  <style>\n",
              "    .colab-df-container {\n",
              "      display:flex;\n",
              "      gap: 12px;\n",
              "    }\n",
              "\n",
              "    .colab-df-convert {\n",
              "      background-color: #E8F0FE;\n",
              "      border: none;\n",
              "      border-radius: 50%;\n",
              "      cursor: pointer;\n",
              "      display: none;\n",
              "      fill: #1967D2;\n",
              "      height: 32px;\n",
              "      padding: 0 0 0 0;\n",
              "      width: 32px;\n",
              "    }\n",
              "\n",
              "    .colab-df-convert:hover {\n",
              "      background-color: #E2EBFA;\n",
              "      box-shadow: 0px 1px 2px rgba(60, 64, 67, 0.3), 0px 1px 3px 1px rgba(60, 64, 67, 0.15);\n",
              "      fill: #174EA6;\n",
              "    }\n",
              "\n",
              "    .colab-df-buttons div {\n",
              "      margin-bottom: 4px;\n",
              "    }\n",
              "\n",
              "    [theme=dark] .colab-df-convert {\n",
              "      background-color: #3B4455;\n",
              "      fill: #D2E3FC;\n",
              "    }\n",
              "\n",
              "    [theme=dark] .colab-df-convert:hover {\n",
              "      background-color: #434B5C;\n",
              "      box-shadow: 0px 1px 3px 1px rgba(0, 0, 0, 0.15);\n",
              "      filter: drop-shadow(0px 1px 2px rgba(0, 0, 0, 0.3));\n",
              "      fill: #FFFFFF;\n",
              "    }\n",
              "  </style>\n",
              "\n",
              "    <script>\n",
              "      const buttonEl =\n",
              "        document.querySelector('#df-0da0db9d-2d19-4fe0-aa10-0c9df5814489 button.colab-df-convert');\n",
              "      buttonEl.style.display =\n",
              "        google.colab.kernel.accessAllowed ? 'block' : 'none';\n",
              "\n",
              "      async function convertToInteractive(key) {\n",
              "        const element = document.querySelector('#df-0da0db9d-2d19-4fe0-aa10-0c9df5814489');\n",
              "        const dataTable =\n",
              "          await google.colab.kernel.invokeFunction('convertToInteractive',\n",
              "                                                    [key], {});\n",
              "        if (!dataTable) return;\n",
              "\n",
              "        const docLinkHtml = 'Like what you see? Visit the ' +\n",
              "          '<a target=\"_blank\" href=https://colab.research.google.com/notebooks/data_table.ipynb>data table notebook</a>'\n",
              "          + ' to learn more about interactive tables.';\n",
              "        element.innerHTML = '';\n",
              "        dataTable['output_type'] = 'display_data';\n",
              "        await google.colab.output.renderOutput(dataTable, element);\n",
              "        const docLink = document.createElement('div');\n",
              "        docLink.innerHTML = docLinkHtml;\n",
              "        element.appendChild(docLink);\n",
              "      }\n",
              "    </script>\n",
              "  </div>\n",
              "\n",
              "\n",
              "    <div id=\"df-fc564f24-255e-426a-b2bf-56ba104b466d\">\n",
              "      <button class=\"colab-df-quickchart\" onclick=\"quickchart('df-fc564f24-255e-426a-b2bf-56ba104b466d')\"\n",
              "                title=\"Suggest charts\"\n",
              "                style=\"display:none;\">\n",
              "\n",
              "<svg xmlns=\"http://www.w3.org/2000/svg\" height=\"24px\"viewBox=\"0 0 24 24\"\n",
              "     width=\"24px\">\n",
              "    <g>\n",
              "        <path d=\"M19 3H5c-1.1 0-2 .9-2 2v14c0 1.1.9 2 2 2h14c1.1 0 2-.9 2-2V5c0-1.1-.9-2-2-2zM9 17H7v-7h2v7zm4 0h-2V7h2v10zm4 0h-2v-4h2v4z\"/>\n",
              "    </g>\n",
              "</svg>\n",
              "      </button>\n",
              "\n",
              "<style>\n",
              "  .colab-df-quickchart {\n",
              "      --bg-color: #E8F0FE;\n",
              "      --fill-color: #1967D2;\n",
              "      --hover-bg-color: #E2EBFA;\n",
              "      --hover-fill-color: #174EA6;\n",
              "      --disabled-fill-color: #AAA;\n",
              "      --disabled-bg-color: #DDD;\n",
              "  }\n",
              "\n",
              "  [theme=dark] .colab-df-quickchart {\n",
              "      --bg-color: #3B4455;\n",
              "      --fill-color: #D2E3FC;\n",
              "      --hover-bg-color: #434B5C;\n",
              "      --hover-fill-color: #FFFFFF;\n",
              "      --disabled-bg-color: #3B4455;\n",
              "      --disabled-fill-color: #666;\n",
              "  }\n",
              "\n",
              "  .colab-df-quickchart {\n",
              "    background-color: var(--bg-color);\n",
              "    border: none;\n",
              "    border-radius: 50%;\n",
              "    cursor: pointer;\n",
              "    display: none;\n",
              "    fill: var(--fill-color);\n",
              "    height: 32px;\n",
              "    padding: 0;\n",
              "    width: 32px;\n",
              "  }\n",
              "\n",
              "  .colab-df-quickchart:hover {\n",
              "    background-color: var(--hover-bg-color);\n",
              "    box-shadow: 0 1px 2px rgba(60, 64, 67, 0.3), 0 1px 3px 1px rgba(60, 64, 67, 0.15);\n",
              "    fill: var(--button-hover-fill-color);\n",
              "  }\n",
              "\n",
              "  .colab-df-quickchart-complete:disabled,\n",
              "  .colab-df-quickchart-complete:disabled:hover {\n",
              "    background-color: var(--disabled-bg-color);\n",
              "    fill: var(--disabled-fill-color);\n",
              "    box-shadow: none;\n",
              "  }\n",
              "\n",
              "  .colab-df-spinner {\n",
              "    border: 2px solid var(--fill-color);\n",
              "    border-color: transparent;\n",
              "    border-bottom-color: var(--fill-color);\n",
              "    animation:\n",
              "      spin 1s steps(1) infinite;\n",
              "  }\n",
              "\n",
              "  @keyframes spin {\n",
              "    0% {\n",
              "      border-color: transparent;\n",
              "      border-bottom-color: var(--fill-color);\n",
              "      border-left-color: var(--fill-color);\n",
              "    }\n",
              "    20% {\n",
              "      border-color: transparent;\n",
              "      border-left-color: var(--fill-color);\n",
              "      border-top-color: var(--fill-color);\n",
              "    }\n",
              "    30% {\n",
              "      border-color: transparent;\n",
              "      border-left-color: var(--fill-color);\n",
              "      border-top-color: var(--fill-color);\n",
              "      border-right-color: var(--fill-color);\n",
              "    }\n",
              "    40% {\n",
              "      border-color: transparent;\n",
              "      border-right-color: var(--fill-color);\n",
              "      border-top-color: var(--fill-color);\n",
              "    }\n",
              "    60% {\n",
              "      border-color: transparent;\n",
              "      border-right-color: var(--fill-color);\n",
              "    }\n",
              "    80% {\n",
              "      border-color: transparent;\n",
              "      border-right-color: var(--fill-color);\n",
              "      border-bottom-color: var(--fill-color);\n",
              "    }\n",
              "    90% {\n",
              "      border-color: transparent;\n",
              "      border-bottom-color: var(--fill-color);\n",
              "    }\n",
              "  }\n",
              "</style>\n",
              "\n",
              "      <script>\n",
              "        async function quickchart(key) {\n",
              "          const quickchartButtonEl =\n",
              "            document.querySelector('#' + key + ' button');\n",
              "          quickchartButtonEl.disabled = true;  // To prevent multiple clicks.\n",
              "          quickchartButtonEl.classList.add('colab-df-spinner');\n",
              "          try {\n",
              "            const charts = await google.colab.kernel.invokeFunction(\n",
              "                'suggestCharts', [key], {});\n",
              "          } catch (error) {\n",
              "            console.error('Error during call to suggestCharts:', error);\n",
              "          }\n",
              "          quickchartButtonEl.classList.remove('colab-df-spinner');\n",
              "          quickchartButtonEl.classList.add('colab-df-quickchart-complete');\n",
              "        }\n",
              "        (() => {\n",
              "          let quickchartButtonEl =\n",
              "            document.querySelector('#df-fc564f24-255e-426a-b2bf-56ba104b466d button');\n",
              "          quickchartButtonEl.style.display =\n",
              "            google.colab.kernel.accessAllowed ? 'block' : 'none';\n",
              "        })();\n",
              "      </script>\n",
              "    </div>\n",
              "\n",
              "    </div>\n",
              "  </div>\n"
            ],
            "application/vnd.google.colaboratory.intrinsic+json": {
              "type": "dataframe",
              "summary": "{\n  \"name\": \"display(df\",\n  \"rows\": 5,\n  \"fields\": [\n    {\n      \"column\": \"customerID\",\n      \"properties\": {\n        \"dtype\": \"string\",\n        \"num_unique_values\": 5,\n        \"samples\": [\n          \"0003-MKNFE\",\n          \"0013-EXCHZ\",\n          \"0004-TLHLJ\"\n        ],\n        \"semantic_type\": \"\",\n        \"description\": \"\"\n      }\n    },\n    {\n      \"column\": \"Churn\",\n      \"properties\": {\n        \"dtype\": \"category\",\n        \"num_unique_values\": 2,\n        \"samples\": [\n          \"Yes\",\n          \"No\"\n        ],\n        \"semantic_type\": \"\",\n        \"description\": \"\"\n      }\n    },\n    {\n      \"column\": \"customer\",\n      \"properties\": {\n        \"dtype\": \"object\",\n        \"semantic_type\": \"\",\n        \"description\": \"\"\n      }\n    },\n    {\n      \"column\": \"phone\",\n      \"properties\": {\n        \"dtype\": \"object\",\n        \"semantic_type\": \"\",\n        \"description\": \"\"\n      }\n    },\n    {\n      \"column\": \"internet\",\n      \"properties\": {\n        \"dtype\": \"object\",\n        \"semantic_type\": \"\",\n        \"description\": \"\"\n      }\n    },\n    {\n      \"column\": \"account\",\n      \"properties\": {\n        \"dtype\": \"object\",\n        \"semantic_type\": \"\",\n        \"description\": \"\"\n      }\n    }\n  ]\n}"
            }
          },
          "metadata": {}
        }
      ]
    },
    {
      "cell_type": "code",
      "source": [
        "print(f'muestras aleatorias del data set')\n",
        "display(df.sample(10))"
      ],
      "metadata": {
        "colab": {
          "base_uri": "https://localhost:8080/",
          "height": 554
        },
        "id": "2iYlG0aChLz-",
        "outputId": "10996d5f-94b5-487f-ff3b-624ce34e178d"
      },
      "execution_count": null,
      "outputs": [
        {
          "output_type": "stream",
          "name": "stdout",
          "text": [
            "muestras aleatorias del data set\n"
          ]
        },
        {
          "output_type": "display_data",
          "data": {
            "text/plain": [
              "      customerID Churn                                           customer  \\\n",
              "2239  3129-AAQOU    No  {'gender': 'Female', 'SeniorCitizen': 0, 'Part...   \n",
              "1814  2585-KTFRE    No  {'gender': 'Male', 'SeniorCitizen': 0, 'Partne...   \n",
              "3371  4683-WYDOU    No  {'gender': 'Male', 'SeniorCitizen': 0, 'Partne...   \n",
              "609   0869-PAPRP    No  {'gender': 'Female', 'SeniorCitizen': 1, 'Part...   \n",
              "5387  7359-PTSXY   Yes  {'gender': 'Male', 'SeniorCitizen': 0, 'Partne...   \n",
              "2150  3007-FDPEA    No  {'gender': 'Female', 'SeniorCitizen': 0, 'Part...   \n",
              "5930  8097-VBQTZ    No  {'gender': 'Male', 'SeniorCitizen': 0, 'Partne...   \n",
              "4242  5834-ASPWA   Yes  {'gender': 'Male', 'SeniorCitizen': 0, 'Partne...   \n",
              "4382  6000-APYLU   Yes  {'gender': 'Male', 'SeniorCitizen': 0, 'Partne...   \n",
              "1267  1820-TQVEV   Yes  {'gender': 'Male', 'SeniorCitizen': 0, 'Partne...   \n",
              "\n",
              "                                                phone  \\\n",
              "2239  {'PhoneService': 'Yes', 'MultipleLines': 'Yes'}   \n",
              "1814   {'PhoneService': 'Yes', 'MultipleLines': 'No'}   \n",
              "3371  {'PhoneService': 'Yes', 'MultipleLines': 'Yes'}   \n",
              "609    {'PhoneService': 'Yes', 'MultipleLines': 'No'}   \n",
              "5387   {'PhoneService': 'Yes', 'MultipleLines': 'No'}   \n",
              "2150   {'PhoneService': 'Yes', 'MultipleLines': 'No'}   \n",
              "5930   {'PhoneService': 'Yes', 'MultipleLines': 'No'}   \n",
              "4242  {'PhoneService': 'Yes', 'MultipleLines': 'Yes'}   \n",
              "4382   {'PhoneService': 'Yes', 'MultipleLines': 'No'}   \n",
              "1267   {'PhoneService': 'Yes', 'MultipleLines': 'No'}   \n",
              "\n",
              "                                               internet  \\\n",
              "2239  {'InternetService': 'No', 'OnlineSecurity': 'N...   \n",
              "1814  {'InternetService': 'DSL', 'OnlineSecurity': '...   \n",
              "3371  {'InternetService': 'Fiber optic', 'OnlineSecu...   \n",
              "609   {'InternetService': 'Fiber optic', 'OnlineSecu...   \n",
              "5387  {'InternetService': 'DSL', 'OnlineSecurity': '...   \n",
              "2150  {'InternetService': 'No', 'OnlineSecurity': 'N...   \n",
              "5930  {'InternetService': 'DSL', 'OnlineSecurity': '...   \n",
              "4242  {'InternetService': 'Fiber optic', 'OnlineSecu...   \n",
              "4382  {'InternetService': 'Fiber optic', 'OnlineSecu...   \n",
              "1267  {'InternetService': 'Fiber optic', 'OnlineSecu...   \n",
              "\n",
              "                                                account  \n",
              "2239  {'Contract': 'Two year', 'PaperlessBilling': '...  \n",
              "1814  {'Contract': 'Month-to-month', 'PaperlessBilli...  \n",
              "3371  {'Contract': 'Two year', 'PaperlessBilling': '...  \n",
              "609   {'Contract': 'Month-to-month', 'PaperlessBilli...  \n",
              "5387  {'Contract': 'Month-to-month', 'PaperlessBilli...  \n",
              "2150  {'Contract': 'Month-to-month', 'PaperlessBilli...  \n",
              "5930  {'Contract': 'Month-to-month', 'PaperlessBilli...  \n",
              "4242  {'Contract': 'Month-to-month', 'PaperlessBilli...  \n",
              "4382  {'Contract': 'Month-to-month', 'PaperlessBilli...  \n",
              "1267  {'Contract': 'Month-to-month', 'PaperlessBilli...  "
            ],
            "text/html": [
              "\n",
              "  <div id=\"df-315250fd-aced-4325-a2d1-4c560720a7ef\" class=\"colab-df-container\">\n",
              "    <div>\n",
              "<style scoped>\n",
              "    .dataframe tbody tr th:only-of-type {\n",
              "        vertical-align: middle;\n",
              "    }\n",
              "\n",
              "    .dataframe tbody tr th {\n",
              "        vertical-align: top;\n",
              "    }\n",
              "\n",
              "    .dataframe thead th {\n",
              "        text-align: right;\n",
              "    }\n",
              "</style>\n",
              "<table border=\"1\" class=\"dataframe\">\n",
              "  <thead>\n",
              "    <tr style=\"text-align: right;\">\n",
              "      <th></th>\n",
              "      <th>customerID</th>\n",
              "      <th>Churn</th>\n",
              "      <th>customer</th>\n",
              "      <th>phone</th>\n",
              "      <th>internet</th>\n",
              "      <th>account</th>\n",
              "    </tr>\n",
              "  </thead>\n",
              "  <tbody>\n",
              "    <tr>\n",
              "      <th>2239</th>\n",
              "      <td>3129-AAQOU</td>\n",
              "      <td>No</td>\n",
              "      <td>{'gender': 'Female', 'SeniorCitizen': 0, 'Part...</td>\n",
              "      <td>{'PhoneService': 'Yes', 'MultipleLines': 'Yes'}</td>\n",
              "      <td>{'InternetService': 'No', 'OnlineSecurity': 'N...</td>\n",
              "      <td>{'Contract': 'Two year', 'PaperlessBilling': '...</td>\n",
              "    </tr>\n",
              "    <tr>\n",
              "      <th>1814</th>\n",
              "      <td>2585-KTFRE</td>\n",
              "      <td>No</td>\n",
              "      <td>{'gender': 'Male', 'SeniorCitizen': 0, 'Partne...</td>\n",
              "      <td>{'PhoneService': 'Yes', 'MultipleLines': 'No'}</td>\n",
              "      <td>{'InternetService': 'DSL', 'OnlineSecurity': '...</td>\n",
              "      <td>{'Contract': 'Month-to-month', 'PaperlessBilli...</td>\n",
              "    </tr>\n",
              "    <tr>\n",
              "      <th>3371</th>\n",
              "      <td>4683-WYDOU</td>\n",
              "      <td>No</td>\n",
              "      <td>{'gender': 'Male', 'SeniorCitizen': 0, 'Partne...</td>\n",
              "      <td>{'PhoneService': 'Yes', 'MultipleLines': 'Yes'}</td>\n",
              "      <td>{'InternetService': 'Fiber optic', 'OnlineSecu...</td>\n",
              "      <td>{'Contract': 'Two year', 'PaperlessBilling': '...</td>\n",
              "    </tr>\n",
              "    <tr>\n",
              "      <th>609</th>\n",
              "      <td>0869-PAPRP</td>\n",
              "      <td>No</td>\n",
              "      <td>{'gender': 'Female', 'SeniorCitizen': 1, 'Part...</td>\n",
              "      <td>{'PhoneService': 'Yes', 'MultipleLines': 'No'}</td>\n",
              "      <td>{'InternetService': 'Fiber optic', 'OnlineSecu...</td>\n",
              "      <td>{'Contract': 'Month-to-month', 'PaperlessBilli...</td>\n",
              "    </tr>\n",
              "    <tr>\n",
              "      <th>5387</th>\n",
              "      <td>7359-PTSXY</td>\n",
              "      <td>Yes</td>\n",
              "      <td>{'gender': 'Male', 'SeniorCitizen': 0, 'Partne...</td>\n",
              "      <td>{'PhoneService': 'Yes', 'MultipleLines': 'No'}</td>\n",
              "      <td>{'InternetService': 'DSL', 'OnlineSecurity': '...</td>\n",
              "      <td>{'Contract': 'Month-to-month', 'PaperlessBilli...</td>\n",
              "    </tr>\n",
              "    <tr>\n",
              "      <th>2150</th>\n",
              "      <td>3007-FDPEA</td>\n",
              "      <td>No</td>\n",
              "      <td>{'gender': 'Female', 'SeniorCitizen': 0, 'Part...</td>\n",
              "      <td>{'PhoneService': 'Yes', 'MultipleLines': 'No'}</td>\n",
              "      <td>{'InternetService': 'No', 'OnlineSecurity': 'N...</td>\n",
              "      <td>{'Contract': 'Month-to-month', 'PaperlessBilli...</td>\n",
              "    </tr>\n",
              "    <tr>\n",
              "      <th>5930</th>\n",
              "      <td>8097-VBQTZ</td>\n",
              "      <td>No</td>\n",
              "      <td>{'gender': 'Male', 'SeniorCitizen': 0, 'Partne...</td>\n",
              "      <td>{'PhoneService': 'Yes', 'MultipleLines': 'No'}</td>\n",
              "      <td>{'InternetService': 'DSL', 'OnlineSecurity': '...</td>\n",
              "      <td>{'Contract': 'Month-to-month', 'PaperlessBilli...</td>\n",
              "    </tr>\n",
              "    <tr>\n",
              "      <th>4242</th>\n",
              "      <td>5834-ASPWA</td>\n",
              "      <td>Yes</td>\n",
              "      <td>{'gender': 'Male', 'SeniorCitizen': 0, 'Partne...</td>\n",
              "      <td>{'PhoneService': 'Yes', 'MultipleLines': 'Yes'}</td>\n",
              "      <td>{'InternetService': 'Fiber optic', 'OnlineSecu...</td>\n",
              "      <td>{'Contract': 'Month-to-month', 'PaperlessBilli...</td>\n",
              "    </tr>\n",
              "    <tr>\n",
              "      <th>4382</th>\n",
              "      <td>6000-APYLU</td>\n",
              "      <td>Yes</td>\n",
              "      <td>{'gender': 'Male', 'SeniorCitizen': 0, 'Partne...</td>\n",
              "      <td>{'PhoneService': 'Yes', 'MultipleLines': 'No'}</td>\n",
              "      <td>{'InternetService': 'Fiber optic', 'OnlineSecu...</td>\n",
              "      <td>{'Contract': 'Month-to-month', 'PaperlessBilli...</td>\n",
              "    </tr>\n",
              "    <tr>\n",
              "      <th>1267</th>\n",
              "      <td>1820-TQVEV</td>\n",
              "      <td>Yes</td>\n",
              "      <td>{'gender': 'Male', 'SeniorCitizen': 0, 'Partne...</td>\n",
              "      <td>{'PhoneService': 'Yes', 'MultipleLines': 'No'}</td>\n",
              "      <td>{'InternetService': 'Fiber optic', 'OnlineSecu...</td>\n",
              "      <td>{'Contract': 'Month-to-month', 'PaperlessBilli...</td>\n",
              "    </tr>\n",
              "  </tbody>\n",
              "</table>\n",
              "</div>\n",
              "    <div class=\"colab-df-buttons\">\n",
              "\n",
              "  <div class=\"colab-df-container\">\n",
              "    <button class=\"colab-df-convert\" onclick=\"convertToInteractive('df-315250fd-aced-4325-a2d1-4c560720a7ef')\"\n",
              "            title=\"Convert this dataframe to an interactive table.\"\n",
              "            style=\"display:none;\">\n",
              "\n",
              "  <svg xmlns=\"http://www.w3.org/2000/svg\" height=\"24px\" viewBox=\"0 -960 960 960\">\n",
              "    <path d=\"M120-120v-720h720v720H120Zm60-500h600v-160H180v160Zm220 220h160v-160H400v160Zm0 220h160v-160H400v160ZM180-400h160v-160H180v160Zm440 0h160v-160H620v160ZM180-180h160v-160H180v160Zm440 0h160v-160H620v160Z\"/>\n",
              "  </svg>\n",
              "    </button>\n",
              "\n",
              "  <style>\n",
              "    .colab-df-container {\n",
              "      display:flex;\n",
              "      gap: 12px;\n",
              "    }\n",
              "\n",
              "    .colab-df-convert {\n",
              "      background-color: #E8F0FE;\n",
              "      border: none;\n",
              "      border-radius: 50%;\n",
              "      cursor: pointer;\n",
              "      display: none;\n",
              "      fill: #1967D2;\n",
              "      height: 32px;\n",
              "      padding: 0 0 0 0;\n",
              "      width: 32px;\n",
              "    }\n",
              "\n",
              "    .colab-df-convert:hover {\n",
              "      background-color: #E2EBFA;\n",
              "      box-shadow: 0px 1px 2px rgba(60, 64, 67, 0.3), 0px 1px 3px 1px rgba(60, 64, 67, 0.15);\n",
              "      fill: #174EA6;\n",
              "    }\n",
              "\n",
              "    .colab-df-buttons div {\n",
              "      margin-bottom: 4px;\n",
              "    }\n",
              "\n",
              "    [theme=dark] .colab-df-convert {\n",
              "      background-color: #3B4455;\n",
              "      fill: #D2E3FC;\n",
              "    }\n",
              "\n",
              "    [theme=dark] .colab-df-convert:hover {\n",
              "      background-color: #434B5C;\n",
              "      box-shadow: 0px 1px 3px 1px rgba(0, 0, 0, 0.15);\n",
              "      filter: drop-shadow(0px 1px 2px rgba(0, 0, 0, 0.3));\n",
              "      fill: #FFFFFF;\n",
              "    }\n",
              "  </style>\n",
              "\n",
              "    <script>\n",
              "      const buttonEl =\n",
              "        document.querySelector('#df-315250fd-aced-4325-a2d1-4c560720a7ef button.colab-df-convert');\n",
              "      buttonEl.style.display =\n",
              "        google.colab.kernel.accessAllowed ? 'block' : 'none';\n",
              "\n",
              "      async function convertToInteractive(key) {\n",
              "        const element = document.querySelector('#df-315250fd-aced-4325-a2d1-4c560720a7ef');\n",
              "        const dataTable =\n",
              "          await google.colab.kernel.invokeFunction('convertToInteractive',\n",
              "                                                    [key], {});\n",
              "        if (!dataTable) return;\n",
              "\n",
              "        const docLinkHtml = 'Like what you see? Visit the ' +\n",
              "          '<a target=\"_blank\" href=https://colab.research.google.com/notebooks/data_table.ipynb>data table notebook</a>'\n",
              "          + ' to learn more about interactive tables.';\n",
              "        element.innerHTML = '';\n",
              "        dataTable['output_type'] = 'display_data';\n",
              "        await google.colab.output.renderOutput(dataTable, element);\n",
              "        const docLink = document.createElement('div');\n",
              "        docLink.innerHTML = docLinkHtml;\n",
              "        element.appendChild(docLink);\n",
              "      }\n",
              "    </script>\n",
              "  </div>\n",
              "\n",
              "\n",
              "    <div id=\"df-0341b7b2-0cc3-412b-951e-da0cbe823a9a\">\n",
              "      <button class=\"colab-df-quickchart\" onclick=\"quickchart('df-0341b7b2-0cc3-412b-951e-da0cbe823a9a')\"\n",
              "                title=\"Suggest charts\"\n",
              "                style=\"display:none;\">\n",
              "\n",
              "<svg xmlns=\"http://www.w3.org/2000/svg\" height=\"24px\"viewBox=\"0 0 24 24\"\n",
              "     width=\"24px\">\n",
              "    <g>\n",
              "        <path d=\"M19 3H5c-1.1 0-2 .9-2 2v14c0 1.1.9 2 2 2h14c1.1 0 2-.9 2-2V5c0-1.1-.9-2-2-2zM9 17H7v-7h2v7zm4 0h-2V7h2v10zm4 0h-2v-4h2v4z\"/>\n",
              "    </g>\n",
              "</svg>\n",
              "      </button>\n",
              "\n",
              "<style>\n",
              "  .colab-df-quickchart {\n",
              "      --bg-color: #E8F0FE;\n",
              "      --fill-color: #1967D2;\n",
              "      --hover-bg-color: #E2EBFA;\n",
              "      --hover-fill-color: #174EA6;\n",
              "      --disabled-fill-color: #AAA;\n",
              "      --disabled-bg-color: #DDD;\n",
              "  }\n",
              "\n",
              "  [theme=dark] .colab-df-quickchart {\n",
              "      --bg-color: #3B4455;\n",
              "      --fill-color: #D2E3FC;\n",
              "      --hover-bg-color: #434B5C;\n",
              "      --hover-fill-color: #FFFFFF;\n",
              "      --disabled-bg-color: #3B4455;\n",
              "      --disabled-fill-color: #666;\n",
              "  }\n",
              "\n",
              "  .colab-df-quickchart {\n",
              "    background-color: var(--bg-color);\n",
              "    border: none;\n",
              "    border-radius: 50%;\n",
              "    cursor: pointer;\n",
              "    display: none;\n",
              "    fill: var(--fill-color);\n",
              "    height: 32px;\n",
              "    padding: 0;\n",
              "    width: 32px;\n",
              "  }\n",
              "\n",
              "  .colab-df-quickchart:hover {\n",
              "    background-color: var(--hover-bg-color);\n",
              "    box-shadow: 0 1px 2px rgba(60, 64, 67, 0.3), 0 1px 3px 1px rgba(60, 64, 67, 0.15);\n",
              "    fill: var(--button-hover-fill-color);\n",
              "  }\n",
              "\n",
              "  .colab-df-quickchart-complete:disabled,\n",
              "  .colab-df-quickchart-complete:disabled:hover {\n",
              "    background-color: var(--disabled-bg-color);\n",
              "    fill: var(--disabled-fill-color);\n",
              "    box-shadow: none;\n",
              "  }\n",
              "\n",
              "  .colab-df-spinner {\n",
              "    border: 2px solid var(--fill-color);\n",
              "    border-color: transparent;\n",
              "    border-bottom-color: var(--fill-color);\n",
              "    animation:\n",
              "      spin 1s steps(1) infinite;\n",
              "  }\n",
              "\n",
              "  @keyframes spin {\n",
              "    0% {\n",
              "      border-color: transparent;\n",
              "      border-bottom-color: var(--fill-color);\n",
              "      border-left-color: var(--fill-color);\n",
              "    }\n",
              "    20% {\n",
              "      border-color: transparent;\n",
              "      border-left-color: var(--fill-color);\n",
              "      border-top-color: var(--fill-color);\n",
              "    }\n",
              "    30% {\n",
              "      border-color: transparent;\n",
              "      border-left-color: var(--fill-color);\n",
              "      border-top-color: var(--fill-color);\n",
              "      border-right-color: var(--fill-color);\n",
              "    }\n",
              "    40% {\n",
              "      border-color: transparent;\n",
              "      border-right-color: var(--fill-color);\n",
              "      border-top-color: var(--fill-color);\n",
              "    }\n",
              "    60% {\n",
              "      border-color: transparent;\n",
              "      border-right-color: var(--fill-color);\n",
              "    }\n",
              "    80% {\n",
              "      border-color: transparent;\n",
              "      border-right-color: var(--fill-color);\n",
              "      border-bottom-color: var(--fill-color);\n",
              "    }\n",
              "    90% {\n",
              "      border-color: transparent;\n",
              "      border-bottom-color: var(--fill-color);\n",
              "    }\n",
              "  }\n",
              "</style>\n",
              "\n",
              "      <script>\n",
              "        async function quickchart(key) {\n",
              "          const quickchartButtonEl =\n",
              "            document.querySelector('#' + key + ' button');\n",
              "          quickchartButtonEl.disabled = true;  // To prevent multiple clicks.\n",
              "          quickchartButtonEl.classList.add('colab-df-spinner');\n",
              "          try {\n",
              "            const charts = await google.colab.kernel.invokeFunction(\n",
              "                'suggestCharts', [key], {});\n",
              "          } catch (error) {\n",
              "            console.error('Error during call to suggestCharts:', error);\n",
              "          }\n",
              "          quickchartButtonEl.classList.remove('colab-df-spinner');\n",
              "          quickchartButtonEl.classList.add('colab-df-quickchart-complete');\n",
              "        }\n",
              "        (() => {\n",
              "          let quickchartButtonEl =\n",
              "            document.querySelector('#df-0341b7b2-0cc3-412b-951e-da0cbe823a9a button');\n",
              "          quickchartButtonEl.style.display =\n",
              "            google.colab.kernel.accessAllowed ? 'block' : 'none';\n",
              "        })();\n",
              "      </script>\n",
              "    </div>\n",
              "\n",
              "    </div>\n",
              "  </div>\n"
            ],
            "application/vnd.google.colaboratory.intrinsic+json": {
              "type": "dataframe",
              "summary": "{\n  \"name\": \"display(df\",\n  \"rows\": 10,\n  \"fields\": [\n    {\n      \"column\": \"customerID\",\n      \"properties\": {\n        \"dtype\": \"string\",\n        \"num_unique_values\": 10,\n        \"samples\": [\n          \"6000-APYLU\",\n          \"2585-KTFRE\",\n          \"3007-FDPEA\"\n        ],\n        \"semantic_type\": \"\",\n        \"description\": \"\"\n      }\n    },\n    {\n      \"column\": \"Churn\",\n      \"properties\": {\n        \"dtype\": \"category\",\n        \"num_unique_values\": 2,\n        \"samples\": [\n          \"Yes\",\n          \"No\"\n        ],\n        \"semantic_type\": \"\",\n        \"description\": \"\"\n      }\n    },\n    {\n      \"column\": \"customer\",\n      \"properties\": {\n        \"dtype\": \"object\",\n        \"semantic_type\": \"\",\n        \"description\": \"\"\n      }\n    },\n    {\n      \"column\": \"phone\",\n      \"properties\": {\n        \"dtype\": \"object\",\n        \"semantic_type\": \"\",\n        \"description\": \"\"\n      }\n    },\n    {\n      \"column\": \"internet\",\n      \"properties\": {\n        \"dtype\": \"object\",\n        \"semantic_type\": \"\",\n        \"description\": \"\"\n      }\n    },\n    {\n      \"column\": \"account\",\n      \"properties\": {\n        \"dtype\": \"object\",\n        \"semantic_type\": \"\",\n        \"description\": \"\"\n      }\n    }\n  ]\n}"
            }
          },
          "metadata": {}
        }
      ]
    },
    {
      "cell_type": "markdown",
      "source": [
        "### Resultado de la revision preliminar del Dataframe"
      ],
      "metadata": {
        "id": "2ANkyGwpd9mo"
      }
    },
    {
      "cell_type": "code",
      "source": [
        "# Detectamos cuatro columnas que contenian diccionario ('customer' , ''phone' , 'internet' y 'account')\n",
        "# 1. normalizaremos para acceder a la informacion de cada diccionario\n",
        "# 2. Luego asociaremos el resultado de cada diccionario a una nueva variable y estas a su ves las anexaremos a nuestro dataframe principal\n",
        "#    omitiendo las columnas que no fueron normalizadas ('customesID' y ('Churn'))\n",
        "# 3. por ultimno hecharemos un vistazo a la informacion general de este dataset para ver que nos encontramos"
      ],
      "metadata": {
        "id": "m1_cNqxheNOl"
      },
      "execution_count": null,
      "outputs": []
    },
    {
      "cell_type": "markdown",
      "source": [
        "### Normalizar los Datos del dataframe para conocerlos mejor"
      ],
      "metadata": {
        "id": "YC_5egM_HQWT"
      }
    },
    {
      "cell_type": "markdown",
      "source": [
        "#### 1. Normalizar diccionarios"
      ],
      "metadata": {
        "id": "RmEi6Dv0kzm_"
      }
    },
    {
      "cell_type": "code",
      "metadata": {
        "id": "78a8d4eb"
      },
      "source": [
        "# normalizaremos para acceder a la informacion de cada diccionario\n",
        "\n",
        "# estamos en la etapa inicial del analisis y lo que nos ocupa es la realizacion de un reconocimiento de datos\n",
        "# el proceso de normalizar las columnas - Diccionarios = ('customer' , ''phone' , 'internet' y 'account')\n",
        "# nos permite accesar a la informacion de cada uno de estos diccionarios para adentrarnos en la informacion almacenada en esta base de datos\n",
        "\n",
        "\n",
        "\n",
        "# Normalize the 'customer' column\n",
        "customer_df = pd.json_normalize(df['customer'])\n",
        "\n",
        "# Normalize the 'phone' column\n",
        "phone_df = pd.json_normalize(df['phone'])\n",
        "\n",
        "# Normalize the 'internet' column\n",
        "internet_df = pd.json_normalize(df['internet'])\n",
        "\n",
        "# Normalize the 'account' column\n",
        "account_df = pd.json_normalize(df['account'])\n",
        "\n"
      ],
      "execution_count": null,
      "outputs": []
    },
    {
      "cell_type": "markdown",
      "source": [
        "#### 2. Diccionario Normalizado y deteccion de inconsistencias\n",
        "\n",
        "\n"
      ],
      "metadata": {
        "id": "a7oHjOf0k_Uc"
      }
    },
    {
      "cell_type": "code",
      "source": [
        "# 2. Luego asociaremos el resultado de cada diccionario a una nueva variable y estas a su ves las anexaremos a nuestro dataframe principal\n",
        "#    omitiendo las columnas que no fueron normalizadas ('customesID' y ('Churn')) y sacaremos una muestra para ver el re\n",
        "\n",
        "\n",
        "# Concatenar los marcos de datos normalizados con el marco de datos original (excluyendo las columnas anidadas originales)\n",
        "df_flat = pd.concat([df[['customerID', 'Churn']], customer_df, phone_df, internet_df, account_df], axis=1)\n",
        "\n",
        "display(df_flat.sample(8))\n",
        "\n"
      ],
      "metadata": {
        "colab": {
          "base_uri": "https://localhost:8080/",
          "height": 488
        },
        "id": "yeXAX2GCO1vt",
        "outputId": "054608fb-db31-4711-897f-68413034c853"
      },
      "execution_count": null,
      "outputs": [
        {
          "output_type": "display_data",
          "data": {
            "text/plain": [
              "      customerID Churn  gender  SeniorCitizen Partner Dependents  tenure  \\\n",
              "5876  8035-BUYVG   Yes    Male              0     Yes         No      40   \n",
              "3986  5447-WZAFP    No  Female              0      No         No      53   \n",
              "6038  8242-JSVBO    No    Male              0      No         No       7   \n",
              "4525  6202-DYYFX    No  Female              0      No         No      22   \n",
              "1254  1794-SWWKL    No    Male              0     Yes        Yes      15   \n",
              "638   0909-SDHNU    No  Female              0      No        Yes       7   \n",
              "2219  3096-JRDSO   Yes  Female              1     Yes         No      27   \n",
              "5206  7108-DGVUU    No  Female              1     Yes         No      21   \n",
              "\n",
              "     PhoneService     MultipleLines InternetService  ... OnlineBackup  \\\n",
              "5876           No  No phone service             DSL  ...          Yes   \n",
              "3986          Yes                No     Fiber optic  ...          Yes   \n",
              "6038          Yes                No             DSL  ...           No   \n",
              "4525          Yes               Yes     Fiber optic  ...           No   \n",
              "1254          Yes               Yes             DSL  ...           No   \n",
              "638            No  No phone service             DSL  ...           No   \n",
              "2219          Yes               Yes     Fiber optic  ...           No   \n",
              "5206          Yes               Yes             DSL  ...          Yes   \n",
              "\n",
              "     DeviceProtection TechSupport StreamingTV StreamingMovies        Contract  \\\n",
              "5876              Yes          No          No              No        One year   \n",
              "3986              Yes          No         Yes             Yes        One year   \n",
              "6038               No          No          No              No  Month-to-month   \n",
              "4525               No          No          No              No        One year   \n",
              "1254              Yes         Yes          No              No  Month-to-month   \n",
              "638                No          No          No              No  Month-to-month   \n",
              "2219               No         Yes         Yes             Yes  Month-to-month   \n",
              "5206              Yes          No          No             Yes        One year   \n",
              "\n",
              "     PaperlessBilling              PaymentMethod Charges.Monthly  \\\n",
              "5876              Yes           Electronic check           42.35   \n",
              "3986              Yes               Mailed check          100.30   \n",
              "6038              Yes  Bank transfer (automatic)           44.65   \n",
              "4525              Yes    Credit card (automatic)           76.00   \n",
              "1254              Yes  Bank transfer (automatic)           59.65   \n",
              "638                No               Mailed check           29.80   \n",
              "2219              Yes  Bank transfer (automatic)          104.30   \n",
              "5206               No  Bank transfer (automatic)           71.70   \n",
              "\n",
              "      Charges.Total  \n",
              "5876        1716.45  \n",
              "3986         5200.8  \n",
              "6038          322.5  \n",
              "4525         1783.6  \n",
              "1254          867.1  \n",
              "638          201.95  \n",
              "2219        2867.75  \n",
              "5206        1497.05  \n",
              "\n",
              "[8 rows x 21 columns]"
            ],
            "text/html": [
              "\n",
              "  <div id=\"df-e9c66d24-8b6b-4940-bb77-fc5831e6344d\" class=\"colab-df-container\">\n",
              "    <div>\n",
              "<style scoped>\n",
              "    .dataframe tbody tr th:only-of-type {\n",
              "        vertical-align: middle;\n",
              "    }\n",
              "\n",
              "    .dataframe tbody tr th {\n",
              "        vertical-align: top;\n",
              "    }\n",
              "\n",
              "    .dataframe thead th {\n",
              "        text-align: right;\n",
              "    }\n",
              "</style>\n",
              "<table border=\"1\" class=\"dataframe\">\n",
              "  <thead>\n",
              "    <tr style=\"text-align: right;\">\n",
              "      <th></th>\n",
              "      <th>customerID</th>\n",
              "      <th>Churn</th>\n",
              "      <th>gender</th>\n",
              "      <th>SeniorCitizen</th>\n",
              "      <th>Partner</th>\n",
              "      <th>Dependents</th>\n",
              "      <th>tenure</th>\n",
              "      <th>PhoneService</th>\n",
              "      <th>MultipleLines</th>\n",
              "      <th>InternetService</th>\n",
              "      <th>...</th>\n",
              "      <th>OnlineBackup</th>\n",
              "      <th>DeviceProtection</th>\n",
              "      <th>TechSupport</th>\n",
              "      <th>StreamingTV</th>\n",
              "      <th>StreamingMovies</th>\n",
              "      <th>Contract</th>\n",
              "      <th>PaperlessBilling</th>\n",
              "      <th>PaymentMethod</th>\n",
              "      <th>Charges.Monthly</th>\n",
              "      <th>Charges.Total</th>\n",
              "    </tr>\n",
              "  </thead>\n",
              "  <tbody>\n",
              "    <tr>\n",
              "      <th>5876</th>\n",
              "      <td>8035-BUYVG</td>\n",
              "      <td>Yes</td>\n",
              "      <td>Male</td>\n",
              "      <td>0</td>\n",
              "      <td>Yes</td>\n",
              "      <td>No</td>\n",
              "      <td>40</td>\n",
              "      <td>No</td>\n",
              "      <td>No phone service</td>\n",
              "      <td>DSL</td>\n",
              "      <td>...</td>\n",
              "      <td>Yes</td>\n",
              "      <td>Yes</td>\n",
              "      <td>No</td>\n",
              "      <td>No</td>\n",
              "      <td>No</td>\n",
              "      <td>One year</td>\n",
              "      <td>Yes</td>\n",
              "      <td>Electronic check</td>\n",
              "      <td>42.35</td>\n",
              "      <td>1716.45</td>\n",
              "    </tr>\n",
              "    <tr>\n",
              "      <th>3986</th>\n",
              "      <td>5447-WZAFP</td>\n",
              "      <td>No</td>\n",
              "      <td>Female</td>\n",
              "      <td>0</td>\n",
              "      <td>No</td>\n",
              "      <td>No</td>\n",
              "      <td>53</td>\n",
              "      <td>Yes</td>\n",
              "      <td>No</td>\n",
              "      <td>Fiber optic</td>\n",
              "      <td>...</td>\n",
              "      <td>Yes</td>\n",
              "      <td>Yes</td>\n",
              "      <td>No</td>\n",
              "      <td>Yes</td>\n",
              "      <td>Yes</td>\n",
              "      <td>One year</td>\n",
              "      <td>Yes</td>\n",
              "      <td>Mailed check</td>\n",
              "      <td>100.30</td>\n",
              "      <td>5200.8</td>\n",
              "    </tr>\n",
              "    <tr>\n",
              "      <th>6038</th>\n",
              "      <td>8242-JSVBO</td>\n",
              "      <td>No</td>\n",
              "      <td>Male</td>\n",
              "      <td>0</td>\n",
              "      <td>No</td>\n",
              "      <td>No</td>\n",
              "      <td>7</td>\n",
              "      <td>Yes</td>\n",
              "      <td>No</td>\n",
              "      <td>DSL</td>\n",
              "      <td>...</td>\n",
              "      <td>No</td>\n",
              "      <td>No</td>\n",
              "      <td>No</td>\n",
              "      <td>No</td>\n",
              "      <td>No</td>\n",
              "      <td>Month-to-month</td>\n",
              "      <td>Yes</td>\n",
              "      <td>Bank transfer (automatic)</td>\n",
              "      <td>44.65</td>\n",
              "      <td>322.5</td>\n",
              "    </tr>\n",
              "    <tr>\n",
              "      <th>4525</th>\n",
              "      <td>6202-DYYFX</td>\n",
              "      <td>No</td>\n",
              "      <td>Female</td>\n",
              "      <td>0</td>\n",
              "      <td>No</td>\n",
              "      <td>No</td>\n",
              "      <td>22</td>\n",
              "      <td>Yes</td>\n",
              "      <td>Yes</td>\n",
              "      <td>Fiber optic</td>\n",
              "      <td>...</td>\n",
              "      <td>No</td>\n",
              "      <td>No</td>\n",
              "      <td>No</td>\n",
              "      <td>No</td>\n",
              "      <td>No</td>\n",
              "      <td>One year</td>\n",
              "      <td>Yes</td>\n",
              "      <td>Credit card (automatic)</td>\n",
              "      <td>76.00</td>\n",
              "      <td>1783.6</td>\n",
              "    </tr>\n",
              "    <tr>\n",
              "      <th>1254</th>\n",
              "      <td>1794-SWWKL</td>\n",
              "      <td>No</td>\n",
              "      <td>Male</td>\n",
              "      <td>0</td>\n",
              "      <td>Yes</td>\n",
              "      <td>Yes</td>\n",
              "      <td>15</td>\n",
              "      <td>Yes</td>\n",
              "      <td>Yes</td>\n",
              "      <td>DSL</td>\n",
              "      <td>...</td>\n",
              "      <td>No</td>\n",
              "      <td>Yes</td>\n",
              "      <td>Yes</td>\n",
              "      <td>No</td>\n",
              "      <td>No</td>\n",
              "      <td>Month-to-month</td>\n",
              "      <td>Yes</td>\n",
              "      <td>Bank transfer (automatic)</td>\n",
              "      <td>59.65</td>\n",
              "      <td>867.1</td>\n",
              "    </tr>\n",
              "    <tr>\n",
              "      <th>638</th>\n",
              "      <td>0909-SDHNU</td>\n",
              "      <td>No</td>\n",
              "      <td>Female</td>\n",
              "      <td>0</td>\n",
              "      <td>No</td>\n",
              "      <td>Yes</td>\n",
              "      <td>7</td>\n",
              "      <td>No</td>\n",
              "      <td>No phone service</td>\n",
              "      <td>DSL</td>\n",
              "      <td>...</td>\n",
              "      <td>No</td>\n",
              "      <td>No</td>\n",
              "      <td>No</td>\n",
              "      <td>No</td>\n",
              "      <td>No</td>\n",
              "      <td>Month-to-month</td>\n",
              "      <td>No</td>\n",
              "      <td>Mailed check</td>\n",
              "      <td>29.80</td>\n",
              "      <td>201.95</td>\n",
              "    </tr>\n",
              "    <tr>\n",
              "      <th>2219</th>\n",
              "      <td>3096-JRDSO</td>\n",
              "      <td>Yes</td>\n",
              "      <td>Female</td>\n",
              "      <td>1</td>\n",
              "      <td>Yes</td>\n",
              "      <td>No</td>\n",
              "      <td>27</td>\n",
              "      <td>Yes</td>\n",
              "      <td>Yes</td>\n",
              "      <td>Fiber optic</td>\n",
              "      <td>...</td>\n",
              "      <td>No</td>\n",
              "      <td>No</td>\n",
              "      <td>Yes</td>\n",
              "      <td>Yes</td>\n",
              "      <td>Yes</td>\n",
              "      <td>Month-to-month</td>\n",
              "      <td>Yes</td>\n",
              "      <td>Bank transfer (automatic)</td>\n",
              "      <td>104.30</td>\n",
              "      <td>2867.75</td>\n",
              "    </tr>\n",
              "    <tr>\n",
              "      <th>5206</th>\n",
              "      <td>7108-DGVUU</td>\n",
              "      <td>No</td>\n",
              "      <td>Female</td>\n",
              "      <td>1</td>\n",
              "      <td>Yes</td>\n",
              "      <td>No</td>\n",
              "      <td>21</td>\n",
              "      <td>Yes</td>\n",
              "      <td>Yes</td>\n",
              "      <td>DSL</td>\n",
              "      <td>...</td>\n",
              "      <td>Yes</td>\n",
              "      <td>Yes</td>\n",
              "      <td>No</td>\n",
              "      <td>No</td>\n",
              "      <td>Yes</td>\n",
              "      <td>One year</td>\n",
              "      <td>No</td>\n",
              "      <td>Bank transfer (automatic)</td>\n",
              "      <td>71.70</td>\n",
              "      <td>1497.05</td>\n",
              "    </tr>\n",
              "  </tbody>\n",
              "</table>\n",
              "<p>8 rows × 21 columns</p>\n",
              "</div>\n",
              "    <div class=\"colab-df-buttons\">\n",
              "\n",
              "  <div class=\"colab-df-container\">\n",
              "    <button class=\"colab-df-convert\" onclick=\"convertToInteractive('df-e9c66d24-8b6b-4940-bb77-fc5831e6344d')\"\n",
              "            title=\"Convert this dataframe to an interactive table.\"\n",
              "            style=\"display:none;\">\n",
              "\n",
              "  <svg xmlns=\"http://www.w3.org/2000/svg\" height=\"24px\" viewBox=\"0 -960 960 960\">\n",
              "    <path d=\"M120-120v-720h720v720H120Zm60-500h600v-160H180v160Zm220 220h160v-160H400v160Zm0 220h160v-160H400v160ZM180-400h160v-160H180v160Zm440 0h160v-160H620v160ZM180-180h160v-160H180v160Zm440 0h160v-160H620v160Z\"/>\n",
              "  </svg>\n",
              "    </button>\n",
              "\n",
              "  <style>\n",
              "    .colab-df-container {\n",
              "      display:flex;\n",
              "      gap: 12px;\n",
              "    }\n",
              "\n",
              "    .colab-df-convert {\n",
              "      background-color: #E8F0FE;\n",
              "      border: none;\n",
              "      border-radius: 50%;\n",
              "      cursor: pointer;\n",
              "      display: none;\n",
              "      fill: #1967D2;\n",
              "      height: 32px;\n",
              "      padding: 0 0 0 0;\n",
              "      width: 32px;\n",
              "    }\n",
              "\n",
              "    .colab-df-convert:hover {\n",
              "      background-color: #E2EBFA;\n",
              "      box-shadow: 0px 1px 2px rgba(60, 64, 67, 0.3), 0px 1px 3px 1px rgba(60, 64, 67, 0.15);\n",
              "      fill: #174EA6;\n",
              "    }\n",
              "\n",
              "    .colab-df-buttons div {\n",
              "      margin-bottom: 4px;\n",
              "    }\n",
              "\n",
              "    [theme=dark] .colab-df-convert {\n",
              "      background-color: #3B4455;\n",
              "      fill: #D2E3FC;\n",
              "    }\n",
              "\n",
              "    [theme=dark] .colab-df-convert:hover {\n",
              "      background-color: #434B5C;\n",
              "      box-shadow: 0px 1px 3px 1px rgba(0, 0, 0, 0.15);\n",
              "      filter: drop-shadow(0px 1px 2px rgba(0, 0, 0, 0.3));\n",
              "      fill: #FFFFFF;\n",
              "    }\n",
              "  </style>\n",
              "\n",
              "    <script>\n",
              "      const buttonEl =\n",
              "        document.querySelector('#df-e9c66d24-8b6b-4940-bb77-fc5831e6344d button.colab-df-convert');\n",
              "      buttonEl.style.display =\n",
              "        google.colab.kernel.accessAllowed ? 'block' : 'none';\n",
              "\n",
              "      async function convertToInteractive(key) {\n",
              "        const element = document.querySelector('#df-e9c66d24-8b6b-4940-bb77-fc5831e6344d');\n",
              "        const dataTable =\n",
              "          await google.colab.kernel.invokeFunction('convertToInteractive',\n",
              "                                                    [key], {});\n",
              "        if (!dataTable) return;\n",
              "\n",
              "        const docLinkHtml = 'Like what you see? Visit the ' +\n",
              "          '<a target=\"_blank\" href=https://colab.research.google.com/notebooks/data_table.ipynb>data table notebook</a>'\n",
              "          + ' to learn more about interactive tables.';\n",
              "        element.innerHTML = '';\n",
              "        dataTable['output_type'] = 'display_data';\n",
              "        await google.colab.output.renderOutput(dataTable, element);\n",
              "        const docLink = document.createElement('div');\n",
              "        docLink.innerHTML = docLinkHtml;\n",
              "        element.appendChild(docLink);\n",
              "      }\n",
              "    </script>\n",
              "  </div>\n",
              "\n",
              "\n",
              "    <div id=\"df-14cc8d74-36d6-449c-b7a3-7e263c9e4991\">\n",
              "      <button class=\"colab-df-quickchart\" onclick=\"quickchart('df-14cc8d74-36d6-449c-b7a3-7e263c9e4991')\"\n",
              "                title=\"Suggest charts\"\n",
              "                style=\"display:none;\">\n",
              "\n",
              "<svg xmlns=\"http://www.w3.org/2000/svg\" height=\"24px\"viewBox=\"0 0 24 24\"\n",
              "     width=\"24px\">\n",
              "    <g>\n",
              "        <path d=\"M19 3H5c-1.1 0-2 .9-2 2v14c0 1.1.9 2 2 2h14c1.1 0 2-.9 2-2V5c0-1.1-.9-2-2-2zM9 17H7v-7h2v7zm4 0h-2V7h2v10zm4 0h-2v-4h2v4z\"/>\n",
              "    </g>\n",
              "</svg>\n",
              "      </button>\n",
              "\n",
              "<style>\n",
              "  .colab-df-quickchart {\n",
              "      --bg-color: #E8F0FE;\n",
              "      --fill-color: #1967D2;\n",
              "      --hover-bg-color: #E2EBFA;\n",
              "      --hover-fill-color: #174EA6;\n",
              "      --disabled-fill-color: #AAA;\n",
              "      --disabled-bg-color: #DDD;\n",
              "  }\n",
              "\n",
              "  [theme=dark] .colab-df-quickchart {\n",
              "      --bg-color: #3B4455;\n",
              "      --fill-color: #D2E3FC;\n",
              "      --hover-bg-color: #434B5C;\n",
              "      --hover-fill-color: #FFFFFF;\n",
              "      --disabled-bg-color: #3B4455;\n",
              "      --disabled-fill-color: #666;\n",
              "  }\n",
              "\n",
              "  .colab-df-quickchart {\n",
              "    background-color: var(--bg-color);\n",
              "    border: none;\n",
              "    border-radius: 50%;\n",
              "    cursor: pointer;\n",
              "    display: none;\n",
              "    fill: var(--fill-color);\n",
              "    height: 32px;\n",
              "    padding: 0;\n",
              "    width: 32px;\n",
              "  }\n",
              "\n",
              "  .colab-df-quickchart:hover {\n",
              "    background-color: var(--hover-bg-color);\n",
              "    box-shadow: 0 1px 2px rgba(60, 64, 67, 0.3), 0 1px 3px 1px rgba(60, 64, 67, 0.15);\n",
              "    fill: var(--button-hover-fill-color);\n",
              "  }\n",
              "\n",
              "  .colab-df-quickchart-complete:disabled,\n",
              "  .colab-df-quickchart-complete:disabled:hover {\n",
              "    background-color: var(--disabled-bg-color);\n",
              "    fill: var(--disabled-fill-color);\n",
              "    box-shadow: none;\n",
              "  }\n",
              "\n",
              "  .colab-df-spinner {\n",
              "    border: 2px solid var(--fill-color);\n",
              "    border-color: transparent;\n",
              "    border-bottom-color: var(--fill-color);\n",
              "    animation:\n",
              "      spin 1s steps(1) infinite;\n",
              "  }\n",
              "\n",
              "  @keyframes spin {\n",
              "    0% {\n",
              "      border-color: transparent;\n",
              "      border-bottom-color: var(--fill-color);\n",
              "      border-left-color: var(--fill-color);\n",
              "    }\n",
              "    20% {\n",
              "      border-color: transparent;\n",
              "      border-left-color: var(--fill-color);\n",
              "      border-top-color: var(--fill-color);\n",
              "    }\n",
              "    30% {\n",
              "      border-color: transparent;\n",
              "      border-left-color: var(--fill-color);\n",
              "      border-top-color: var(--fill-color);\n",
              "      border-right-color: var(--fill-color);\n",
              "    }\n",
              "    40% {\n",
              "      border-color: transparent;\n",
              "      border-right-color: var(--fill-color);\n",
              "      border-top-color: var(--fill-color);\n",
              "    }\n",
              "    60% {\n",
              "      border-color: transparent;\n",
              "      border-right-color: var(--fill-color);\n",
              "    }\n",
              "    80% {\n",
              "      border-color: transparent;\n",
              "      border-right-color: var(--fill-color);\n",
              "      border-bottom-color: var(--fill-color);\n",
              "    }\n",
              "    90% {\n",
              "      border-color: transparent;\n",
              "      border-bottom-color: var(--fill-color);\n",
              "    }\n",
              "  }\n",
              "</style>\n",
              "\n",
              "      <script>\n",
              "        async function quickchart(key) {\n",
              "          const quickchartButtonEl =\n",
              "            document.querySelector('#' + key + ' button');\n",
              "          quickchartButtonEl.disabled = true;  // To prevent multiple clicks.\n",
              "          quickchartButtonEl.classList.add('colab-df-spinner');\n",
              "          try {\n",
              "            const charts = await google.colab.kernel.invokeFunction(\n",
              "                'suggestCharts', [key], {});\n",
              "          } catch (error) {\n",
              "            console.error('Error during call to suggestCharts:', error);\n",
              "          }\n",
              "          quickchartButtonEl.classList.remove('colab-df-spinner');\n",
              "          quickchartButtonEl.classList.add('colab-df-quickchart-complete');\n",
              "        }\n",
              "        (() => {\n",
              "          let quickchartButtonEl =\n",
              "            document.querySelector('#df-14cc8d74-36d6-449c-b7a3-7e263c9e4991 button');\n",
              "          quickchartButtonEl.style.display =\n",
              "            google.colab.kernel.accessAllowed ? 'block' : 'none';\n",
              "        })();\n",
              "      </script>\n",
              "    </div>\n",
              "\n",
              "    </div>\n",
              "  </div>\n"
            ],
            "application/vnd.google.colaboratory.intrinsic+json": {
              "type": "dataframe"
            }
          },
          "metadata": {}
        }
      ]
    },
    {
      "cell_type": "markdown",
      "source": [
        "#### 3. Previsualizacion info general dataframe normalizado"
      ],
      "metadata": {
        "id": "dpa89WYwlmt8"
      }
    },
    {
      "cell_type": "code",
      "source": [
        "# 3. por ultimno hecharemos un vistazo a la informacion general de este dataset para ver que nos encontramos\n",
        "\n",
        "# Vizualizando del tipo de datos de todas las columnas incluidas las columnas almacenadas en cada diccionario\n",
        "display(df_flat.info())"
      ],
      "metadata": {
        "colab": {
          "base_uri": "https://localhost:8080/",
          "height": 520
        },
        "id": "aEFO-f-2gOMn",
        "outputId": "8720bbb3-2669-4c47-e48d-dba50c3a417c"
      },
      "execution_count": null,
      "outputs": [
        {
          "output_type": "stream",
          "name": "stdout",
          "text": [
            "<class 'pandas.core.frame.DataFrame'>\n",
            "RangeIndex: 7267 entries, 0 to 7266\n",
            "Data columns (total 21 columns):\n",
            " #   Column            Non-Null Count  Dtype  \n",
            "---  ------            --------------  -----  \n",
            " 0   customerID        7267 non-null   object \n",
            " 1   Churn             7267 non-null   object \n",
            " 2   gender            7267 non-null   object \n",
            " 3   SeniorCitizen     7267 non-null   int64  \n",
            " 4   Partner           7267 non-null   object \n",
            " 5   Dependents        7267 non-null   object \n",
            " 6   tenure            7267 non-null   int64  \n",
            " 7   PhoneService      7267 non-null   object \n",
            " 8   MultipleLines     7267 non-null   object \n",
            " 9   InternetService   7267 non-null   object \n",
            " 10  OnlineSecurity    7267 non-null   object \n",
            " 11  OnlineBackup      7267 non-null   object \n",
            " 12  DeviceProtection  7267 non-null   object \n",
            " 13  TechSupport       7267 non-null   object \n",
            " 14  StreamingTV       7267 non-null   object \n",
            " 15  StreamingMovies   7267 non-null   object \n",
            " 16  Contract          7267 non-null   object \n",
            " 17  PaperlessBilling  7267 non-null   object \n",
            " 18  PaymentMethod     7267 non-null   object \n",
            " 19  Charges.Monthly   7267 non-null   float64\n",
            " 20  Charges.Total     7267 non-null   object \n",
            "dtypes: float64(1), int64(2), object(18)\n",
            "memory usage: 1.2+ MB\n"
          ]
        },
        {
          "output_type": "display_data",
          "data": {
            "text/plain": [
              "None"
            ]
          },
          "metadata": {}
        }
      ]
    },
    {
      "cell_type": "markdown",
      "source": [
        "## 3.) Inconsistencias Detectadas"
      ],
      "metadata": {
        "id": "THdPn-QSwZqj"
      }
    },
    {
      "cell_type": "code",
      "source": [
        " # vemos que no todos los nombres de nuestras columnas estan escritos en miniscula\n",
        " # asi que los nombrews de cada columna estaran completamente en minuscula\n"
      ],
      "metadata": {
        "id": "SPg9PBZawh7e"
      },
      "execution_count": null,
      "outputs": []
    },
    {
      "cell_type": "markdown",
      "source": [
        "### 1. Identificar valores ausentes (NaN)\n"
      ],
      "metadata": {
        "id": "OPKQJisrAJ1n"
      }
    },
    {
      "cell_type": "code",
      "source": [
        "# 1. Identificar valores ausentes (NaN)\n",
        "print(\"--- Valores Ausentes ---\")\n",
        "display(df_flat.isnull().sum())"
      ],
      "metadata": {
        "colab": {
          "base_uri": "https://localhost:8080/",
          "height": 760
        },
        "id": "vMB2PmOE__Wf",
        "outputId": "7907d7f8-84ca-4522-8d41-d84191d2f9e9"
      },
      "execution_count": null,
      "outputs": [
        {
          "output_type": "stream",
          "name": "stdout",
          "text": [
            "--- Valores Ausentes ---\n"
          ]
        },
        {
          "output_type": "display_data",
          "data": {
            "text/plain": [
              "customerID          0\n",
              "Churn               0\n",
              "gender              0\n",
              "SeniorCitizen       0\n",
              "Partner             0\n",
              "Dependents          0\n",
              "tenure              0\n",
              "PhoneService        0\n",
              "MultipleLines       0\n",
              "InternetService     0\n",
              "OnlineSecurity      0\n",
              "OnlineBackup        0\n",
              "DeviceProtection    0\n",
              "TechSupport         0\n",
              "StreamingTV         0\n",
              "StreamingMovies     0\n",
              "Contract            0\n",
              "PaperlessBilling    0\n",
              "PaymentMethod       0\n",
              "Charges.Monthly     0\n",
              "Charges.Total       0\n",
              "dtype: int64"
            ],
            "text/html": [
              "<div>\n",
              "<style scoped>\n",
              "    .dataframe tbody tr th:only-of-type {\n",
              "        vertical-align: middle;\n",
              "    }\n",
              "\n",
              "    .dataframe tbody tr th {\n",
              "        vertical-align: top;\n",
              "    }\n",
              "\n",
              "    .dataframe thead th {\n",
              "        text-align: right;\n",
              "    }\n",
              "</style>\n",
              "<table border=\"1\" class=\"dataframe\">\n",
              "  <thead>\n",
              "    <tr style=\"text-align: right;\">\n",
              "      <th></th>\n",
              "      <th>0</th>\n",
              "    </tr>\n",
              "  </thead>\n",
              "  <tbody>\n",
              "    <tr>\n",
              "      <th>customerID</th>\n",
              "      <td>0</td>\n",
              "    </tr>\n",
              "    <tr>\n",
              "      <th>Churn</th>\n",
              "      <td>0</td>\n",
              "    </tr>\n",
              "    <tr>\n",
              "      <th>gender</th>\n",
              "      <td>0</td>\n",
              "    </tr>\n",
              "    <tr>\n",
              "      <th>SeniorCitizen</th>\n",
              "      <td>0</td>\n",
              "    </tr>\n",
              "    <tr>\n",
              "      <th>Partner</th>\n",
              "      <td>0</td>\n",
              "    </tr>\n",
              "    <tr>\n",
              "      <th>Dependents</th>\n",
              "      <td>0</td>\n",
              "    </tr>\n",
              "    <tr>\n",
              "      <th>tenure</th>\n",
              "      <td>0</td>\n",
              "    </tr>\n",
              "    <tr>\n",
              "      <th>PhoneService</th>\n",
              "      <td>0</td>\n",
              "    </tr>\n",
              "    <tr>\n",
              "      <th>MultipleLines</th>\n",
              "      <td>0</td>\n",
              "    </tr>\n",
              "    <tr>\n",
              "      <th>InternetService</th>\n",
              "      <td>0</td>\n",
              "    </tr>\n",
              "    <tr>\n",
              "      <th>OnlineSecurity</th>\n",
              "      <td>0</td>\n",
              "    </tr>\n",
              "    <tr>\n",
              "      <th>OnlineBackup</th>\n",
              "      <td>0</td>\n",
              "    </tr>\n",
              "    <tr>\n",
              "      <th>DeviceProtection</th>\n",
              "      <td>0</td>\n",
              "    </tr>\n",
              "    <tr>\n",
              "      <th>TechSupport</th>\n",
              "      <td>0</td>\n",
              "    </tr>\n",
              "    <tr>\n",
              "      <th>StreamingTV</th>\n",
              "      <td>0</td>\n",
              "    </tr>\n",
              "    <tr>\n",
              "      <th>StreamingMovies</th>\n",
              "      <td>0</td>\n",
              "    </tr>\n",
              "    <tr>\n",
              "      <th>Contract</th>\n",
              "      <td>0</td>\n",
              "    </tr>\n",
              "    <tr>\n",
              "      <th>PaperlessBilling</th>\n",
              "      <td>0</td>\n",
              "    </tr>\n",
              "    <tr>\n",
              "      <th>PaymentMethod</th>\n",
              "      <td>0</td>\n",
              "    </tr>\n",
              "    <tr>\n",
              "      <th>Charges.Monthly</th>\n",
              "      <td>0</td>\n",
              "    </tr>\n",
              "    <tr>\n",
              "      <th>Charges.Total</th>\n",
              "      <td>0</td>\n",
              "    </tr>\n",
              "  </tbody>\n",
              "</table>\n",
              "</div><br><label><b>dtype:</b> int64</label>"
            ]
          },
          "metadata": {}
        }
      ]
    },
    {
      "cell_type": "markdown",
      "source": [
        "### # 2. Identificar filas duplicadas\n"
      ],
      "metadata": {
        "id": "nnO4lPV_DX91"
      }
    },
    {
      "cell_type": "code",
      "source": [
        "\n",
        "# 2. Identificar filas duplicadas\n",
        "print(\"\\n--- Filas Duplicadas ---\")\n",
        "duplicate_rows = df_flat.duplicated().sum()\n",
        "print(f\"Número de filas duplicadas: {duplicate_rows}\")"
      ],
      "metadata": {
        "colab": {
          "base_uri": "https://localhost:8080/"
        },
        "id": "OBFQIaX6BBOV",
        "outputId": "5bcd02b3-6bad-47c0-b17d-d69726861659"
      },
      "execution_count": null,
      "outputs": [
        {
          "output_type": "stream",
          "name": "stdout",
          "text": [
            "\n",
            "--- Filas Duplicadas ---\n",
            "Número de filas duplicadas: 0\n"
          ]
        }
      ]
    },
    {
      "cell_type": "markdown",
      "source": [
        "### 3. Revisar tipos de datos e informacion general del dataframe"
      ],
      "metadata": {
        "id": "twiorlOiDkSp"
      }
    },
    {
      "cell_type": "code",
      "source": [
        "\n",
        "# 3. Revisar tipos de datos e informacion general del dataframe\n",
        "print(\"\\n--- Información General y Tipos de Datos ---\")\n",
        "display(df_flat.info())\n",
        "\n",
        "print(\"\\n--- Valores Únicos en Columnas Categóricas (ejemplo) ---\")"
      ],
      "metadata": {
        "colab": {
          "base_uri": "https://localhost:8080/",
          "height": 590
        },
        "id": "5ESkV77WBA7V",
        "outputId": "fc01df36-7d66-4a3a-bb41-014119417cce"
      },
      "execution_count": null,
      "outputs": [
        {
          "output_type": "stream",
          "name": "stdout",
          "text": [
            "\n",
            "--- Información General y Tipos de Datos ---\n",
            "<class 'pandas.core.frame.DataFrame'>\n",
            "RangeIndex: 7267 entries, 0 to 7266\n",
            "Data columns (total 21 columns):\n",
            " #   Column            Non-Null Count  Dtype  \n",
            "---  ------            --------------  -----  \n",
            " 0   customerID        7267 non-null   object \n",
            " 1   Churn             7267 non-null   object \n",
            " 2   gender            7267 non-null   object \n",
            " 3   SeniorCitizen     7267 non-null   int64  \n",
            " 4   Partner           7267 non-null   object \n",
            " 5   Dependents        7267 non-null   object \n",
            " 6   tenure            7267 non-null   int64  \n",
            " 7   PhoneService      7267 non-null   object \n",
            " 8   MultipleLines     7267 non-null   object \n",
            " 9   InternetService   7267 non-null   object \n",
            " 10  OnlineSecurity    7267 non-null   object \n",
            " 11  OnlineBackup      7267 non-null   object \n",
            " 12  DeviceProtection  7267 non-null   object \n",
            " 13  TechSupport       7267 non-null   object \n",
            " 14  StreamingTV       7267 non-null   object \n",
            " 15  StreamingMovies   7267 non-null   object \n",
            " 16  Contract          7267 non-null   object \n",
            " 17  PaperlessBilling  7267 non-null   object \n",
            " 18  PaymentMethod     7267 non-null   object \n",
            " 19  Charges.Monthly   7267 non-null   float64\n",
            " 20  Charges.Total     7267 non-null   object \n",
            "dtypes: float64(1), int64(2), object(18)\n",
            "memory usage: 1.2+ MB\n"
          ]
        },
        {
          "output_type": "display_data",
          "data": {
            "text/plain": [
              "None"
            ]
          },
          "metadata": {}
        },
        {
          "output_type": "stream",
          "name": "stdout",
          "text": [
            "\n",
            "--- Valores Únicos en Columnas Categóricas (ejemplo) ---\n"
          ]
        }
      ]
    },
    {
      "cell_type": "markdown",
      "source": [
        "### Mostrar valores únicos para todas las columnas en el DataFrame\n"
      ],
      "metadata": {
        "id": "uBheB5uADtVR"
      }
    },
    {
      "cell_type": "code",
      "metadata": {
        "colab": {
          "base_uri": "https://localhost:8080/",
          "height": 1000
        },
        "id": "cfb127ab",
        "outputId": "8b47e51e-d8fb-4a8b-86f2-0244ab6cae61"
      },
      "source": [
        "# Mostrar valores únicos para todas las columnas en el DataFrame\n",
        "for col in df_flat.columns:\n",
        "    print(f\"\\nValores únicos en '{col}':\")\n",
        "    display(df_flat[col].unique())"
      ],
      "execution_count": null,
      "outputs": [
        {
          "output_type": "stream",
          "name": "stdout",
          "text": [
            "\n",
            "Valores únicos en 'customerID':\n"
          ]
        },
        {
          "output_type": "display_data",
          "data": {
            "text/plain": [
              "array(['0002-ORFBO', '0003-MKNFE', '0004-TLHLJ', ..., '9992-UJOEL',\n",
              "       '9993-LHIEB', '9995-HOTOH'], dtype=object)"
            ]
          },
          "metadata": {}
        },
        {
          "output_type": "stream",
          "name": "stdout",
          "text": [
            "\n",
            "Valores únicos en 'Churn':\n"
          ]
        },
        {
          "output_type": "display_data",
          "data": {
            "text/plain": [
              "array(['No', 'Yes', ''], dtype=object)"
            ]
          },
          "metadata": {}
        },
        {
          "output_type": "stream",
          "name": "stdout",
          "text": [
            "\n",
            "Valores únicos en 'gender':\n"
          ]
        },
        {
          "output_type": "display_data",
          "data": {
            "text/plain": [
              "array(['Female', 'Male'], dtype=object)"
            ]
          },
          "metadata": {}
        },
        {
          "output_type": "stream",
          "name": "stdout",
          "text": [
            "\n",
            "Valores únicos en 'SeniorCitizen':\n"
          ]
        },
        {
          "output_type": "display_data",
          "data": {
            "text/plain": [
              "array([0, 1])"
            ]
          },
          "metadata": {}
        },
        {
          "output_type": "stream",
          "name": "stdout",
          "text": [
            "\n",
            "Valores únicos en 'Partner':\n"
          ]
        },
        {
          "output_type": "display_data",
          "data": {
            "text/plain": [
              "array(['Yes', 'No'], dtype=object)"
            ]
          },
          "metadata": {}
        },
        {
          "output_type": "stream",
          "name": "stdout",
          "text": [
            "\n",
            "Valores únicos en 'Dependents':\n"
          ]
        },
        {
          "output_type": "display_data",
          "data": {
            "text/plain": [
              "array(['Yes', 'No'], dtype=object)"
            ]
          },
          "metadata": {}
        },
        {
          "output_type": "stream",
          "name": "stdout",
          "text": [
            "\n",
            "Valores únicos en 'tenure':\n"
          ]
        },
        {
          "output_type": "display_data",
          "data": {
            "text/plain": [
              "array([ 9,  4, 13,  3, 71, 63,  7, 65, 54, 72,  5, 56, 34,  1, 45, 50, 23,\n",
              "       55, 26, 69, 11, 37, 49, 66, 67, 20, 43, 59, 12, 27,  2, 25, 29, 14,\n",
              "       35, 64, 39, 40,  6, 30, 70, 57, 58, 16, 32, 33, 10, 21, 61, 15, 44,\n",
              "       22, 24, 19, 47, 62, 46, 52,  8, 60, 48, 28, 41, 53, 68, 51, 31, 36,\n",
              "       17, 18, 38, 42,  0])"
            ]
          },
          "metadata": {}
        },
        {
          "output_type": "stream",
          "name": "stdout",
          "text": [
            "\n",
            "Valores únicos en 'PhoneService':\n"
          ]
        },
        {
          "output_type": "display_data",
          "data": {
            "text/plain": [
              "array(['Yes', 'No'], dtype=object)"
            ]
          },
          "metadata": {}
        },
        {
          "output_type": "stream",
          "name": "stdout",
          "text": [
            "\n",
            "Valores únicos en 'MultipleLines':\n"
          ]
        },
        {
          "output_type": "display_data",
          "data": {
            "text/plain": [
              "array(['No', 'Yes', 'No phone service'], dtype=object)"
            ]
          },
          "metadata": {}
        },
        {
          "output_type": "stream",
          "name": "stdout",
          "text": [
            "\n",
            "Valores únicos en 'InternetService':\n"
          ]
        },
        {
          "output_type": "display_data",
          "data": {
            "text/plain": [
              "array(['DSL', 'Fiber optic', 'No'], dtype=object)"
            ]
          },
          "metadata": {}
        },
        {
          "output_type": "stream",
          "name": "stdout",
          "text": [
            "\n",
            "Valores únicos en 'OnlineSecurity':\n"
          ]
        },
        {
          "output_type": "display_data",
          "data": {
            "text/plain": [
              "array(['No', 'Yes', 'No internet service'], dtype=object)"
            ]
          },
          "metadata": {}
        },
        {
          "output_type": "stream",
          "name": "stdout",
          "text": [
            "\n",
            "Valores únicos en 'OnlineBackup':\n"
          ]
        },
        {
          "output_type": "display_data",
          "data": {
            "text/plain": [
              "array(['Yes', 'No', 'No internet service'], dtype=object)"
            ]
          },
          "metadata": {}
        },
        {
          "output_type": "stream",
          "name": "stdout",
          "text": [
            "\n",
            "Valores únicos en 'DeviceProtection':\n"
          ]
        },
        {
          "output_type": "display_data",
          "data": {
            "text/plain": [
              "array(['No', 'Yes', 'No internet service'], dtype=object)"
            ]
          },
          "metadata": {}
        },
        {
          "output_type": "stream",
          "name": "stdout",
          "text": [
            "\n",
            "Valores únicos en 'TechSupport':\n"
          ]
        },
        {
          "output_type": "display_data",
          "data": {
            "text/plain": [
              "array(['Yes', 'No', 'No internet service'], dtype=object)"
            ]
          },
          "metadata": {}
        },
        {
          "output_type": "stream",
          "name": "stdout",
          "text": [
            "\n",
            "Valores únicos en 'StreamingTV':\n"
          ]
        },
        {
          "output_type": "display_data",
          "data": {
            "text/plain": [
              "array(['Yes', 'No', 'No internet service'], dtype=object)"
            ]
          },
          "metadata": {}
        },
        {
          "output_type": "stream",
          "name": "stdout",
          "text": [
            "\n",
            "Valores únicos en 'StreamingMovies':\n"
          ]
        },
        {
          "output_type": "display_data",
          "data": {
            "text/plain": [
              "array(['No', 'Yes', 'No internet service'], dtype=object)"
            ]
          },
          "metadata": {}
        },
        {
          "output_type": "stream",
          "name": "stdout",
          "text": [
            "\n",
            "Valores únicos en 'Contract':\n"
          ]
        },
        {
          "output_type": "display_data",
          "data": {
            "text/plain": [
              "array(['One year', 'Month-to-month', 'Two year'], dtype=object)"
            ]
          },
          "metadata": {}
        },
        {
          "output_type": "stream",
          "name": "stdout",
          "text": [
            "\n",
            "Valores únicos en 'PaperlessBilling':\n"
          ]
        },
        {
          "output_type": "display_data",
          "data": {
            "text/plain": [
              "array(['Yes', 'No'], dtype=object)"
            ]
          },
          "metadata": {}
        },
        {
          "output_type": "stream",
          "name": "stdout",
          "text": [
            "\n",
            "Valores únicos en 'PaymentMethod':\n"
          ]
        },
        {
          "output_type": "display_data",
          "data": {
            "text/plain": [
              "array(['Mailed check', 'Electronic check', 'Credit card (automatic)',\n",
              "       'Bank transfer (automatic)'], dtype=object)"
            ]
          },
          "metadata": {}
        },
        {
          "output_type": "stream",
          "name": "stdout",
          "text": [
            "\n",
            "Valores únicos en 'Charges.Monthly':\n"
          ]
        },
        {
          "output_type": "display_data",
          "data": {
            "text/plain": [
              "array([65.6 , 59.9 , 73.9 , ..., 91.75, 68.8 , 67.85])"
            ]
          },
          "metadata": {}
        },
        {
          "output_type": "stream",
          "name": "stdout",
          "text": [
            "\n",
            "Valores únicos en 'Charges.Total':\n"
          ]
        },
        {
          "output_type": "display_data",
          "data": {
            "text/plain": [
              "array(['593.3', '542.4', '280.85', ..., '742.9', '4627.65', '3707.6'],\n",
              "      dtype=object)"
            ]
          },
          "metadata": {}
        }
      ]
    },
    {
      "cell_type": "markdown",
      "source": [
        "### Convertir todos los nombres de las columnas a minúsculas"
      ],
      "metadata": {
        "id": "sH3g-a9HD0xD"
      }
    },
    {
      "cell_type": "code",
      "metadata": {
        "id": "1abff216",
        "colab": {
          "base_uri": "https://localhost:8080/",
          "height": 147
        },
        "outputId": "dbbc0bc2-35ab-4285-c030-13739e425319"
      },
      "source": [
        "# Convertir todos los nombres de las columnas a minúsculas y reemplazar '.' o espacios con '_'\n",
        "df_flat.columns = df_flat.columns.str.lower().str.replace('[.\\s]', '_', regex=True)\n",
        "\n",
        "# Renombrar columnas específicas\n",
        "rename_map = {\n",
        "    'customerid': 'customer_id',\n",
        "    'seniorcitizen': 'senior_citizen',\n",
        "    'phoneservice': 'phone_service',\n",
        "    'multiplelines': 'multiple_lines',\n",
        "    'internetservice': 'internet_service',\n",
        "    'onlinebackup': 'online_backup',\n",
        "    'deviceprotection': 'device_protection',\n",
        "    'techsupport': 'tech_support',\n",
        "    'streamingtv': 'streaming_tv',\n",
        "    'streamingmovies': 'streaming_movies',\n",
        "    'paperlessbilling': 'paperless_billing',\n",
        "    'paymentmethod': 'payment_method',\n",
        "    'onlinesecurity' : 'online_security'\n",
        "}\n",
        "df_flat.rename(columns=rename_map, inplace=True)\n",
        "\n",
        "\n",
        "display(df_flat.sample(1))"
      ],
      "execution_count": null,
      "outputs": [
        {
          "output_type": "display_data",
          "data": {
            "text/plain": [
              "     customer_id churn  gender  senior_citizen partner dependents  tenure  \\\n",
              "1562  2232-DMLXU   Yes  Female               0     Yes         No       1   \n",
              "\n",
              "     phone_service multiple_lines internet_service  ... online_backup  \\\n",
              "1562           Yes             No              DSL  ...            No   \n",
              "\n",
              "     device_protection tech_support streaming_tv streaming_movies  \\\n",
              "1562                No           No          Yes               No   \n",
              "\n",
              "            contract paperless_billing payment_method charges_monthly  \\\n",
              "1562  Month-to-month                No   Mailed check            55.2   \n",
              "\n",
              "      charges_total  \n",
              "1562           55.2  \n",
              "\n",
              "[1 rows x 21 columns]"
            ],
            "text/html": [
              "\n",
              "  <div id=\"df-b18ff752-282d-476e-b3e1-51520b839121\" class=\"colab-df-container\">\n",
              "    <div>\n",
              "<style scoped>\n",
              "    .dataframe tbody tr th:only-of-type {\n",
              "        vertical-align: middle;\n",
              "    }\n",
              "\n",
              "    .dataframe tbody tr th {\n",
              "        vertical-align: top;\n",
              "    }\n",
              "\n",
              "    .dataframe thead th {\n",
              "        text-align: right;\n",
              "    }\n",
              "</style>\n",
              "<table border=\"1\" class=\"dataframe\">\n",
              "  <thead>\n",
              "    <tr style=\"text-align: right;\">\n",
              "      <th></th>\n",
              "      <th>customer_id</th>\n",
              "      <th>churn</th>\n",
              "      <th>gender</th>\n",
              "      <th>senior_citizen</th>\n",
              "      <th>partner</th>\n",
              "      <th>dependents</th>\n",
              "      <th>tenure</th>\n",
              "      <th>phone_service</th>\n",
              "      <th>multiple_lines</th>\n",
              "      <th>internet_service</th>\n",
              "      <th>...</th>\n",
              "      <th>online_backup</th>\n",
              "      <th>device_protection</th>\n",
              "      <th>tech_support</th>\n",
              "      <th>streaming_tv</th>\n",
              "      <th>streaming_movies</th>\n",
              "      <th>contract</th>\n",
              "      <th>paperless_billing</th>\n",
              "      <th>payment_method</th>\n",
              "      <th>charges_monthly</th>\n",
              "      <th>charges_total</th>\n",
              "    </tr>\n",
              "  </thead>\n",
              "  <tbody>\n",
              "    <tr>\n",
              "      <th>1562</th>\n",
              "      <td>2232-DMLXU</td>\n",
              "      <td>Yes</td>\n",
              "      <td>Female</td>\n",
              "      <td>0</td>\n",
              "      <td>Yes</td>\n",
              "      <td>No</td>\n",
              "      <td>1</td>\n",
              "      <td>Yes</td>\n",
              "      <td>No</td>\n",
              "      <td>DSL</td>\n",
              "      <td>...</td>\n",
              "      <td>No</td>\n",
              "      <td>No</td>\n",
              "      <td>No</td>\n",
              "      <td>Yes</td>\n",
              "      <td>No</td>\n",
              "      <td>Month-to-month</td>\n",
              "      <td>No</td>\n",
              "      <td>Mailed check</td>\n",
              "      <td>55.2</td>\n",
              "      <td>55.2</td>\n",
              "    </tr>\n",
              "  </tbody>\n",
              "</table>\n",
              "<p>1 rows × 21 columns</p>\n",
              "</div>\n",
              "    <div class=\"colab-df-buttons\">\n",
              "\n",
              "  <div class=\"colab-df-container\">\n",
              "    <button class=\"colab-df-convert\" onclick=\"convertToInteractive('df-b18ff752-282d-476e-b3e1-51520b839121')\"\n",
              "            title=\"Convert this dataframe to an interactive table.\"\n",
              "            style=\"display:none;\">\n",
              "\n",
              "  <svg xmlns=\"http://www.w3.org/2000/svg\" height=\"24px\" viewBox=\"0 -960 960 960\">\n",
              "    <path d=\"M120-120v-720h720v720H120Zm60-500h600v-160H180v160Zm220 220h160v-160H400v160Zm0 220h160v-160H400v160ZM180-400h160v-160H180v160Zm440 0h160v-160H620v160ZM180-180h160v-160H180v160Zm440 0h160v-160H620v160Z\"/>\n",
              "  </svg>\n",
              "    </button>\n",
              "\n",
              "  <style>\n",
              "    .colab-df-container {\n",
              "      display:flex;\n",
              "      gap: 12px;\n",
              "    }\n",
              "\n",
              "    .colab-df-convert {\n",
              "      background-color: #E8F0FE;\n",
              "      border: none;\n",
              "      border-radius: 50%;\n",
              "      cursor: pointer;\n",
              "      display: none;\n",
              "      fill: #1967D2;\n",
              "      height: 32px;\n",
              "      padding: 0 0 0 0;\n",
              "      width: 32px;\n",
              "    }\n",
              "\n",
              "    .colab-df-convert:hover {\n",
              "      background-color: #E2EBFA;\n",
              "      box-shadow: 0px 1px 2px rgba(60, 64, 67, 0.3), 0px 1px 3px 1px rgba(60, 64, 67, 0.15);\n",
              "      fill: #174EA6;\n",
              "    }\n",
              "\n",
              "    .colab-df-buttons div {\n",
              "      margin-bottom: 4px;\n",
              "    }\n",
              "\n",
              "    [theme=dark] .colab-df-convert {\n",
              "      background-color: #3B4455;\n",
              "      fill: #D2E3FC;\n",
              "    }\n",
              "\n",
              "    [theme=dark] .colab-df-convert:hover {\n",
              "      background-color: #434B5C;\n",
              "      box-shadow: 0px 1px 3px 1px rgba(0, 0, 0, 0.15);\n",
              "      filter: drop-shadow(0px 1px 2px rgba(0, 0, 0, 0.3));\n",
              "      fill: #FFFFFF;\n",
              "    }\n",
              "  </style>\n",
              "\n",
              "    <script>\n",
              "      const buttonEl =\n",
              "        document.querySelector('#df-b18ff752-282d-476e-b3e1-51520b839121 button.colab-df-convert');\n",
              "      buttonEl.style.display =\n",
              "        google.colab.kernel.accessAllowed ? 'block' : 'none';\n",
              "\n",
              "      async function convertToInteractive(key) {\n",
              "        const element = document.querySelector('#df-b18ff752-282d-476e-b3e1-51520b839121');\n",
              "        const dataTable =\n",
              "          await google.colab.kernel.invokeFunction('convertToInteractive',\n",
              "                                                    [key], {});\n",
              "        if (!dataTable) return;\n",
              "\n",
              "        const docLinkHtml = 'Like what you see? Visit the ' +\n",
              "          '<a target=\"_blank\" href=https://colab.research.google.com/notebooks/data_table.ipynb>data table notebook</a>'\n",
              "          + ' to learn more about interactive tables.';\n",
              "        element.innerHTML = '';\n",
              "        dataTable['output_type'] = 'display_data';\n",
              "        await google.colab.output.renderOutput(dataTable, element);\n",
              "        const docLink = document.createElement('div');\n",
              "        docLink.innerHTML = docLinkHtml;\n",
              "        element.appendChild(docLink);\n",
              "      }\n",
              "    </script>\n",
              "  </div>\n",
              "\n",
              "\n",
              "    </div>\n",
              "  </div>\n"
            ],
            "application/vnd.google.colaboratory.intrinsic+json": {
              "type": "dataframe"
            }
          },
          "metadata": {}
        }
      ]
    },
    {
      "cell_type": "markdown",
      "source": [
        "### Conversion tipo de Dato"
      ],
      "metadata": {
        "id": "clRCowFLEGPh"
      }
    },
    {
      "cell_type": "code",
      "metadata": {
        "colab": {
          "base_uri": "https://localhost:8080/",
          "height": 760
        },
        "id": "11c9da06",
        "outputId": "8dcbb5ec-739e-4b85-93c9-607d15e5461c"
      },
      "source": [
        "# Lista de columnas candidatas para convertir a tipo 'category'\n",
        "categorical_cols_to_convert = [\n",
        "    'gender',\n",
        "    'phone_service',\n",
        "    'multiple_lines',\n",
        "    'internet_service',\n",
        "    'online_security',\n",
        "    'online_backup',\n",
        "    'device_protection',\n",
        "    'tech_support',\n",
        "    'streaming_tv',\n",
        "    'streaming_movies',\n",
        "    'contract',\n",
        "    'paperless_billing',\n",
        "    'payment_method',\n",
        "    # 'churn' - Se omite la conversión de 'churn' a categórica\n",
        "    # porque para analistas de datos, especialmente en tareas de modelado predictivo,\n",
        "    # es común trabajar con la variable objetivo (como 'churn') en su formato original (object o int/float si es binaria)\n",
        "    # o convertirla a un tipo numérico binario (0/1) más adelante en el proceso.\n",
        "    # Mantenerla como 'object' en esta etapa inicial permite flexibilidad antes de decidir su representación final.\n",
        "]\n",
        "\n",
        "# Convertir las columnas a tipo 'category'\n",
        "for col in categorical_cols_to_convert:\n",
        "    if col in df_flat.columns: # Verificar que la columna existe\n",
        "        df_flat[col] = df_flat[col].astype('category')\n",
        "\n",
        "# Mostrar los tipos de datos después de la conversión para verificar\n",
        "print(\"Tipos de datos después de convertir columnas categóricas:\")\n",
        "display(df_flat.dtypes)"
      ],
      "execution_count": null,
      "outputs": [
        {
          "output_type": "stream",
          "name": "stdout",
          "text": [
            "Tipos de datos después de convertir columnas categóricas:\n"
          ]
        },
        {
          "output_type": "display_data",
          "data": {
            "text/plain": [
              "customer_id            object\n",
              "churn                  object\n",
              "gender               category\n",
              "senior_citizen          int64\n",
              "partner                object\n",
              "dependents             object\n",
              "tenure                  int64\n",
              "phone_service        category\n",
              "multiple_lines       category\n",
              "internet_service     category\n",
              "online_security      category\n",
              "online_backup        category\n",
              "device_protection    category\n",
              "tech_support         category\n",
              "streaming_tv         category\n",
              "streaming_movies     category\n",
              "contract             category\n",
              "paperless_billing    category\n",
              "payment_method       category\n",
              "charges_monthly       float64\n",
              "charges_total          object\n",
              "dtype: object"
            ],
            "text/html": [
              "<div>\n",
              "<style scoped>\n",
              "    .dataframe tbody tr th:only-of-type {\n",
              "        vertical-align: middle;\n",
              "    }\n",
              "\n",
              "    .dataframe tbody tr th {\n",
              "        vertical-align: top;\n",
              "    }\n",
              "\n",
              "    .dataframe thead th {\n",
              "        text-align: right;\n",
              "    }\n",
              "</style>\n",
              "<table border=\"1\" class=\"dataframe\">\n",
              "  <thead>\n",
              "    <tr style=\"text-align: right;\">\n",
              "      <th></th>\n",
              "      <th>0</th>\n",
              "    </tr>\n",
              "  </thead>\n",
              "  <tbody>\n",
              "    <tr>\n",
              "      <th>customer_id</th>\n",
              "      <td>object</td>\n",
              "    </tr>\n",
              "    <tr>\n",
              "      <th>churn</th>\n",
              "      <td>object</td>\n",
              "    </tr>\n",
              "    <tr>\n",
              "      <th>gender</th>\n",
              "      <td>category</td>\n",
              "    </tr>\n",
              "    <tr>\n",
              "      <th>senior_citizen</th>\n",
              "      <td>int64</td>\n",
              "    </tr>\n",
              "    <tr>\n",
              "      <th>partner</th>\n",
              "      <td>object</td>\n",
              "    </tr>\n",
              "    <tr>\n",
              "      <th>dependents</th>\n",
              "      <td>object</td>\n",
              "    </tr>\n",
              "    <tr>\n",
              "      <th>tenure</th>\n",
              "      <td>int64</td>\n",
              "    </tr>\n",
              "    <tr>\n",
              "      <th>phone_service</th>\n",
              "      <td>category</td>\n",
              "    </tr>\n",
              "    <tr>\n",
              "      <th>multiple_lines</th>\n",
              "      <td>category</td>\n",
              "    </tr>\n",
              "    <tr>\n",
              "      <th>internet_service</th>\n",
              "      <td>category</td>\n",
              "    </tr>\n",
              "    <tr>\n",
              "      <th>online_security</th>\n",
              "      <td>category</td>\n",
              "    </tr>\n",
              "    <tr>\n",
              "      <th>online_backup</th>\n",
              "      <td>category</td>\n",
              "    </tr>\n",
              "    <tr>\n",
              "      <th>device_protection</th>\n",
              "      <td>category</td>\n",
              "    </tr>\n",
              "    <tr>\n",
              "      <th>tech_support</th>\n",
              "      <td>category</td>\n",
              "    </tr>\n",
              "    <tr>\n",
              "      <th>streaming_tv</th>\n",
              "      <td>category</td>\n",
              "    </tr>\n",
              "    <tr>\n",
              "      <th>streaming_movies</th>\n",
              "      <td>category</td>\n",
              "    </tr>\n",
              "    <tr>\n",
              "      <th>contract</th>\n",
              "      <td>category</td>\n",
              "    </tr>\n",
              "    <tr>\n",
              "      <th>paperless_billing</th>\n",
              "      <td>category</td>\n",
              "    </tr>\n",
              "    <tr>\n",
              "      <th>payment_method</th>\n",
              "      <td>category</td>\n",
              "    </tr>\n",
              "    <tr>\n",
              "      <th>charges_monthly</th>\n",
              "      <td>float64</td>\n",
              "    </tr>\n",
              "    <tr>\n",
              "      <th>charges_total</th>\n",
              "      <td>object</td>\n",
              "    </tr>\n",
              "  </tbody>\n",
              "</table>\n",
              "</div><br><label><b>dtype:</b> object</label>"
            ]
          },
          "metadata": {}
        }
      ]
    },
    {
      "cell_type": "markdown",
      "source": [
        "### 4. Columna Cuentas Diarias\n"
      ],
      "metadata": {
        "id": "eRN9hzVOXmFK"
      }
    },
    {
      "cell_type": "markdown",
      "source": [
        "\n",
        "Ahora que los datos están limpios, es momento de crear la columna \"Cuentas_Diarias\". Utiliza la facturación mensual para calcular el valor diario, proporcionando una visión más detallada del comportamiento de los clientes a lo largo del tiempo.\n",
        "\n",
        "📌 Esta columna te ayudará a profundizar en el análisis y a obtener información valiosa para las siguientes etapas."
      ],
      "metadata": {
        "id": "YUC0pbRMXoRE"
      }
    },
    {
      "cell_type": "code",
      "metadata": {
        "id": "c3c9277b",
        "colab": {
          "base_uri": "https://localhost:8080/",
          "height": 206
        },
        "outputId": "16f5e52c-b4e5-4e4d-f2bf-59201becadb8"
      },
      "source": [
        "# Crear la columna 'daily_accounts' calculando el valor diario de 'charges_monthly'\n",
        "# Usamos un promedio de 30.44 días por mes (365.25 / 12)\n",
        "df_flat['daily_accounts'] = (df_flat['charges_monthly'] / 30.44).round(1)\n",
        "\n",
        "# Mostrar las primeras filas con la nueva columna para verificar\n",
        "display(df_flat[['charges_monthly', 'daily_accounts']].head())\n"
      ],
      "execution_count": null,
      "outputs": [
        {
          "output_type": "display_data",
          "data": {
            "text/plain": [
              "   charges_monthly  daily_accounts\n",
              "0             65.6             2.2\n",
              "1             59.9             2.0\n",
              "2             73.9             2.4\n",
              "3             98.0             3.2\n",
              "4             83.9             2.8"
            ],
            "text/html": [
              "\n",
              "  <div id=\"df-cb42b4f6-5ff8-4e9a-9149-ee1d0f0172ac\" class=\"colab-df-container\">\n",
              "    <div>\n",
              "<style scoped>\n",
              "    .dataframe tbody tr th:only-of-type {\n",
              "        vertical-align: middle;\n",
              "    }\n",
              "\n",
              "    .dataframe tbody tr th {\n",
              "        vertical-align: top;\n",
              "    }\n",
              "\n",
              "    .dataframe thead th {\n",
              "        text-align: right;\n",
              "    }\n",
              "</style>\n",
              "<table border=\"1\" class=\"dataframe\">\n",
              "  <thead>\n",
              "    <tr style=\"text-align: right;\">\n",
              "      <th></th>\n",
              "      <th>charges_monthly</th>\n",
              "      <th>daily_accounts</th>\n",
              "    </tr>\n",
              "  </thead>\n",
              "  <tbody>\n",
              "    <tr>\n",
              "      <th>0</th>\n",
              "      <td>65.6</td>\n",
              "      <td>2.2</td>\n",
              "    </tr>\n",
              "    <tr>\n",
              "      <th>1</th>\n",
              "      <td>59.9</td>\n",
              "      <td>2.0</td>\n",
              "    </tr>\n",
              "    <tr>\n",
              "      <th>2</th>\n",
              "      <td>73.9</td>\n",
              "      <td>2.4</td>\n",
              "    </tr>\n",
              "    <tr>\n",
              "      <th>3</th>\n",
              "      <td>98.0</td>\n",
              "      <td>3.2</td>\n",
              "    </tr>\n",
              "    <tr>\n",
              "      <th>4</th>\n",
              "      <td>83.9</td>\n",
              "      <td>2.8</td>\n",
              "    </tr>\n",
              "  </tbody>\n",
              "</table>\n",
              "</div>\n",
              "    <div class=\"colab-df-buttons\">\n",
              "\n",
              "  <div class=\"colab-df-container\">\n",
              "    <button class=\"colab-df-convert\" onclick=\"convertToInteractive('df-cb42b4f6-5ff8-4e9a-9149-ee1d0f0172ac')\"\n",
              "            title=\"Convert this dataframe to an interactive table.\"\n",
              "            style=\"display:none;\">\n",
              "\n",
              "  <svg xmlns=\"http://www.w3.org/2000/svg\" height=\"24px\" viewBox=\"0 -960 960 960\">\n",
              "    <path d=\"M120-120v-720h720v720H120Zm60-500h600v-160H180v160Zm220 220h160v-160H400v160Zm0 220h160v-160H400v160ZM180-400h160v-160H180v160Zm440 0h160v-160H620v160ZM180-180h160v-160H180v160Zm440 0h160v-160H620v160Z\"/>\n",
              "  </svg>\n",
              "    </button>\n",
              "\n",
              "  <style>\n",
              "    .colab-df-container {\n",
              "      display:flex;\n",
              "      gap: 12px;\n",
              "    }\n",
              "\n",
              "    .colab-df-convert {\n",
              "      background-color: #E8F0FE;\n",
              "      border: none;\n",
              "      border-radius: 50%;\n",
              "      cursor: pointer;\n",
              "      display: none;\n",
              "      fill: #1967D2;\n",
              "      height: 32px;\n",
              "      padding: 0 0 0 0;\n",
              "      width: 32px;\n",
              "    }\n",
              "\n",
              "    .colab-df-convert:hover {\n",
              "      background-color: #E2EBFA;\n",
              "      box-shadow: 0px 1px 2px rgba(60, 64, 67, 0.3), 0px 1px 3px 1px rgba(60, 64, 67, 0.15);\n",
              "      fill: #174EA6;\n",
              "    }\n",
              "\n",
              "    .colab-df-buttons div {\n",
              "      margin-bottom: 4px;\n",
              "    }\n",
              "\n",
              "    [theme=dark] .colab-df-convert {\n",
              "      background-color: #3B4455;\n",
              "      fill: #D2E3FC;\n",
              "    }\n",
              "\n",
              "    [theme=dark] .colab-df-convert:hover {\n",
              "      background-color: #434B5C;\n",
              "      box-shadow: 0px 1px 3px 1px rgba(0, 0, 0, 0.15);\n",
              "      filter: drop-shadow(0px 1px 2px rgba(0, 0, 0, 0.3));\n",
              "      fill: #FFFFFF;\n",
              "    }\n",
              "  </style>\n",
              "\n",
              "    <script>\n",
              "      const buttonEl =\n",
              "        document.querySelector('#df-cb42b4f6-5ff8-4e9a-9149-ee1d0f0172ac button.colab-df-convert');\n",
              "      buttonEl.style.display =\n",
              "        google.colab.kernel.accessAllowed ? 'block' : 'none';\n",
              "\n",
              "      async function convertToInteractive(key) {\n",
              "        const element = document.querySelector('#df-cb42b4f6-5ff8-4e9a-9149-ee1d0f0172ac');\n",
              "        const dataTable =\n",
              "          await google.colab.kernel.invokeFunction('convertToInteractive',\n",
              "                                                    [key], {});\n",
              "        if (!dataTable) return;\n",
              "\n",
              "        const docLinkHtml = 'Like what you see? Visit the ' +\n",
              "          '<a target=\"_blank\" href=https://colab.research.google.com/notebooks/data_table.ipynb>data table notebook</a>'\n",
              "          + ' to learn more about interactive tables.';\n",
              "        element.innerHTML = '';\n",
              "        dataTable['output_type'] = 'display_data';\n",
              "        await google.colab.output.renderOutput(dataTable, element);\n",
              "        const docLink = document.createElement('div');\n",
              "        docLink.innerHTML = docLinkHtml;\n",
              "        element.appendChild(docLink);\n",
              "      }\n",
              "    </script>\n",
              "  </div>\n",
              "\n",
              "\n",
              "    <div id=\"df-df4e2b2e-8ef0-4f70-89dd-87af354485e4\">\n",
              "      <button class=\"colab-df-quickchart\" onclick=\"quickchart('df-df4e2b2e-8ef0-4f70-89dd-87af354485e4')\"\n",
              "                title=\"Suggest charts\"\n",
              "                style=\"display:none;\">\n",
              "\n",
              "<svg xmlns=\"http://www.w3.org/2000/svg\" height=\"24px\"viewBox=\"0 0 24 24\"\n",
              "     width=\"24px\">\n",
              "    <g>\n",
              "        <path d=\"M19 3H5c-1.1 0-2 .9-2 2v14c0 1.1.9 2 2 2h14c1.1 0 2-.9 2-2V5c0-1.1-.9-2-2-2zM9 17H7v-7h2v7zm4 0h-2V7h2v10zm4 0h-2v-4h2v4z\"/>\n",
              "    </g>\n",
              "</svg>\n",
              "      </button>\n",
              "\n",
              "<style>\n",
              "  .colab-df-quickchart {\n",
              "      --bg-color: #E8F0FE;\n",
              "      --fill-color: #1967D2;\n",
              "      --hover-bg-color: #E2EBFA;\n",
              "      --hover-fill-color: #174EA6;\n",
              "      --disabled-fill-color: #AAA;\n",
              "      --disabled-bg-color: #DDD;\n",
              "  }\n",
              "\n",
              "  [theme=dark] .colab-df-quickchart {\n",
              "      --bg-color: #3B4455;\n",
              "      --fill-color: #D2E3FC;\n",
              "      --hover-bg-color: #434B5C;\n",
              "      --hover-fill-color: #FFFFFF;\n",
              "      --disabled-bg-color: #3B4455;\n",
              "      --disabled-fill-color: #666;\n",
              "  }\n",
              "\n",
              "  .colab-df-quickchart {\n",
              "    background-color: var(--bg-color);\n",
              "    border: none;\n",
              "    border-radius: 50%;\n",
              "    cursor: pointer;\n",
              "    display: none;\n",
              "    fill: var(--fill-color);\n",
              "    height: 32px;\n",
              "    padding: 0;\n",
              "    width: 32px;\n",
              "  }\n",
              "\n",
              "  .colab-df-quickchart:hover {\n",
              "    background-color: var(--hover-bg-color);\n",
              "    box-shadow: 0 1px 2px rgba(60, 64, 67, 0.3), 0 1px 3px 1px rgba(60, 64, 67, 0.15);\n",
              "    fill: var(--button-hover-fill-color);\n",
              "  }\n",
              "\n",
              "  .colab-df-quickchart-complete:disabled,\n",
              "  .colab-df-quickchart-complete:disabled:hover {\n",
              "    background-color: var(--disabled-bg-color);\n",
              "    fill: var(--disabled-fill-color);\n",
              "    box-shadow: none;\n",
              "  }\n",
              "\n",
              "  .colab-df-spinner {\n",
              "    border: 2px solid var(--fill-color);\n",
              "    border-color: transparent;\n",
              "    border-bottom-color: var(--fill-color);\n",
              "    animation:\n",
              "      spin 1s steps(1) infinite;\n",
              "  }\n",
              "\n",
              "  @keyframes spin {\n",
              "    0% {\n",
              "      border-color: transparent;\n",
              "      border-bottom-color: var(--fill-color);\n",
              "      border-left-color: var(--fill-color);\n",
              "    }\n",
              "    20% {\n",
              "      border-color: transparent;\n",
              "      border-left-color: var(--fill-color);\n",
              "      border-top-color: var(--fill-color);\n",
              "    }\n",
              "    30% {\n",
              "      border-color: transparent;\n",
              "      border-left-color: var(--fill-color);\n",
              "      border-top-color: var(--fill-color);\n",
              "      border-right-color: var(--fill-color);\n",
              "    }\n",
              "    40% {\n",
              "      border-color: transparent;\n",
              "      border-right-color: var(--fill-color);\n",
              "      border-top-color: var(--fill-color);\n",
              "    }\n",
              "    60% {\n",
              "      border-color: transparent;\n",
              "      border-right-color: var(--fill-color);\n",
              "    }\n",
              "    80% {\n",
              "      border-color: transparent;\n",
              "      border-right-color: var(--fill-color);\n",
              "      border-bottom-color: var(--fill-color);\n",
              "    }\n",
              "    90% {\n",
              "      border-color: transparent;\n",
              "      border-bottom-color: var(--fill-color);\n",
              "    }\n",
              "  }\n",
              "</style>\n",
              "\n",
              "      <script>\n",
              "        async function quickchart(key) {\n",
              "          const quickchartButtonEl =\n",
              "            document.querySelector('#' + key + ' button');\n",
              "          quickchartButtonEl.disabled = true;  // To prevent multiple clicks.\n",
              "          quickchartButtonEl.classList.add('colab-df-spinner');\n",
              "          try {\n",
              "            const charts = await google.colab.kernel.invokeFunction(\n",
              "                'suggestCharts', [key], {});\n",
              "          } catch (error) {\n",
              "            console.error('Error during call to suggestCharts:', error);\n",
              "          }\n",
              "          quickchartButtonEl.classList.remove('colab-df-spinner');\n",
              "          quickchartButtonEl.classList.add('colab-df-quickchart-complete');\n",
              "        }\n",
              "        (() => {\n",
              "          let quickchartButtonEl =\n",
              "            document.querySelector('#df-df4e2b2e-8ef0-4f70-89dd-87af354485e4 button');\n",
              "          quickchartButtonEl.style.display =\n",
              "            google.colab.kernel.accessAllowed ? 'block' : 'none';\n",
              "        })();\n",
              "      </script>\n",
              "    </div>\n",
              "\n",
              "    </div>\n",
              "  </div>\n"
            ],
            "application/vnd.google.colaboratory.intrinsic+json": {
              "type": "dataframe",
              "summary": "{\n  \"name\": \"display(df_flat[['charges_monthly', 'daily_accounts']]\",\n  \"rows\": 5,\n  \"fields\": [\n    {\n      \"column\": \"charges_monthly\",\n      \"properties\": {\n        \"dtype\": \"number\",\n        \"std\": 15.148036176349727,\n        \"min\": 59.9,\n        \"max\": 98.0,\n        \"num_unique_values\": 5,\n        \"samples\": [\n          59.9,\n          83.9,\n          73.9\n        ],\n        \"semantic_type\": \"\",\n        \"description\": \"\"\n      }\n    },\n    {\n      \"column\": \"daily_accounts\",\n      \"properties\": {\n        \"dtype\": \"number\",\n        \"std\": 0.4816637831516918,\n        \"min\": 2.0,\n        \"max\": 3.2,\n        \"num_unique_values\": 5,\n        \"samples\": [\n          2.0,\n          2.8,\n          2.4\n        ],\n        \"semantic_type\": \"\",\n        \"description\": \"\"\n      }\n    }\n  ]\n}"
            }
          },
          "metadata": {}
        }
      ]
    },
    {
      "cell_type": "markdown",
      "source": [
        "### 5. Estandarizacion Transformacion de Datos"
      ],
      "metadata": {
        "id": "gGFqyhE3XwQY"
      }
    },
    {
      "cell_type": "markdown",
      "source": [
        "La estandarización y transformación de datos es una etapa opcional, pero altamente recomendada, ya que busca hacer que la información sea más consistente, comprensible y adecuada para el análisis. Durante esta fase, por ejemplo, puedes convertir valores textuales como \"Sí\" y \"No\" en valores binarios (1 y 0), lo que facilita el procesamiento matemático y la aplicación de modelos analíticos.\n",
        "\n",
        "Además, traducir o renombrar columnas y datos hace que la información sea más accesible y fácil de entender, especialmente cuando se trabaja con fuentes externas o términos técnicos. Aunque no es un paso obligatorio, puede mejorar significativamente la claridad y comunicación de los resultados, facilitando la interpretación y evitando confusiones, especialmente al compartir información con stakeholders no técnicos."
      ],
      "metadata": {
        "id": "LP07yy5JX0hY"
      }
    },
    {
      "cell_type": "markdown",
      "source": [
        "#### Conversion a Binario"
      ],
      "metadata": {
        "id": "Ny8vgwdtFiMo"
      }
    },
    {
      "cell_type": "code",
      "metadata": {
        "colab": {
          "base_uri": "https://localhost:8080/",
          "height": 617
        },
        "id": "50fa61b4",
        "outputId": "c1c63f52-69c6-4c1e-af23-50bec6251e46"
      },
      "source": [
        "# Identificar columnas con valores 'Yes'/'No' (excluyendo 'Churn' por ahora si se va a usar como target)\n",
        "# y excluye tambien columnas con 'No phone service' o 'No internet service' que tienen más de dos categorías\n",
        "\n",
        "# Obtener la lista de columnas con solo 'Yes' y 'No'\n",
        "yes_no_cols = [col for col in df_flat.columns if df_flat[col].isin(['Yes', 'No']).all()]\n",
        "\n",
        "# Excluir 'churn' si está presente (ya que a menudo se maneja por separado como variable objetivo)\n",
        "if 'churn' in yes_no_cols:\n",
        "    yes_no_cols.remove('churn')\n",
        "\n",
        "# Excluir columnas que sabemos que tienen más de dos categorías (como las que tenían 'No phone service' o 'No internet service')\n",
        "# Podemos verificar esto por si acaso, aunque ya las hemos manejado de alguna manera antes\n",
        "cols_to_exclude = ['phone_service', 'multiple_lines', 'internet_service', 'contract', 'payment_method'] # Añade otras si es necesario\n",
        "yes_no_cols = [col for col in yes_no_cols if col not in cols_to_exclude]\n",
        "\n",
        "# Convertir 'Yes' a 1 y 'No' a 0 en las columnas identificadas en df_flat\n",
        "for col in yes_no_cols:\n",
        "    df_flat[col] = df_flat[col].map({'Yes': 1, 'No': 0})\n",
        "\n",
        "# Mostrar las primeras filas de df_flat para verificar la transformación\n",
        "display(df_flat.sample(200))"
      ],
      "execution_count": null,
      "outputs": [
        {
          "output_type": "display_data",
          "data": {
            "text/plain": [
              "     customer_id churn  gender  senior_citizen  partner  dependents  tenure  \\\n",
              "3818  5226-NOZFC    No    Male               0        0           0      26   \n",
              "2574  3588-WSTTJ    No  Female               1        0           0      35   \n",
              "4137  5671-RQRLP    No  Female               1        1           0      70   \n",
              "173   0270-THENM    No    Male               0        1           1      72   \n",
              "5231  7134-MJPDY    No  Female               1        0           0      66   \n",
              "...          ...   ...     ...             ...      ...         ...     ...   \n",
              "5902  8064-RAVOH    No    Male               0        0           1       1   \n",
              "562   0804-YGEQV    No  Female               0        1           1      43   \n",
              "4163  5701-ZIKJE    No    Male               0        0           0      13   \n",
              "5819  7964-YESJC    No  Female               0        1           0      24   \n",
              "4657  6376-GAHQE   Yes    Male               0        0           0       4   \n",
              "\n",
              "     phone_service multiple_lines internet_service  ...    device_protection  \\\n",
              "3818           Yes             No      Fiber optic  ...                   No   \n",
              "2574           Yes            Yes      Fiber optic  ...                   No   \n",
              "4137           Yes            Yes      Fiber optic  ...                   No   \n",
              "173            Yes            Yes              DSL  ...                  Yes   \n",
              "5231           Yes            Yes      Fiber optic  ...                  Yes   \n",
              "...            ...            ...              ...  ...                  ...   \n",
              "5902           Yes             No              DSL  ...                  Yes   \n",
              "562            Yes            Yes               No  ...  No internet service   \n",
              "4163           Yes             No              DSL  ...                   No   \n",
              "5819           Yes            Yes              DSL  ...                  Yes   \n",
              "4657           Yes             No      Fiber optic  ...                   No   \n",
              "\n",
              "             tech_support         streaming_tv     streaming_movies  \\\n",
              "3818                   No                  Yes                   No   \n",
              "2574                   No                  Yes                  Yes   \n",
              "4137                   No                   No                   No   \n",
              "173                   Yes                   No                   No   \n",
              "5231                  Yes                  Yes                  Yes   \n",
              "...                   ...                  ...                  ...   \n",
              "5902                   No                   No                   No   \n",
              "562   No internet service  No internet service  No internet service   \n",
              "4163                  Yes                   No                   No   \n",
              "5819                   No                   No                   No   \n",
              "4657                   No                  Yes                   No   \n",
              "\n",
              "            contract paperless_billing             payment_method  \\\n",
              "3818  Month-to-month                 1           Electronic check   \n",
              "2574  Month-to-month                 1           Electronic check   \n",
              "4137        Two year                 1    Credit card (automatic)   \n",
              "173         Two year                 0  Bank transfer (automatic)   \n",
              "5231        One year                 1    Credit card (automatic)   \n",
              "...              ...               ...                        ...   \n",
              "5902  Month-to-month                 1           Electronic check   \n",
              "562         One year                 1  Bank transfer (automatic)   \n",
              "4163  Month-to-month                 1               Mailed check   \n",
              "5819  Month-to-month                 0               Mailed check   \n",
              "4657  Month-to-month                 0           Electronic check   \n",
              "\n",
              "     charges_monthly charges_total  daily_accounts  \n",
              "3818           85.75        2146.5             2.8  \n",
              "2574           99.05        3554.6             3.3  \n",
              "4137           75.65        5411.4             2.5  \n",
              "173            69.85       5102.35             2.3  \n",
              "5231          102.85       6976.75             3.4  \n",
              "...              ...           ...             ...  \n",
              "5902           49.85         49.85             1.6  \n",
              "562            24.45        993.15             0.8  \n",
              "4163           50.55        610.75             1.7  \n",
              "5819           66.30       1559.45             2.2  \n",
              "4657           77.85         299.2             2.6  \n",
              "\n",
              "[200 rows x 22 columns]"
            ],
            "text/html": [
              "\n",
              "  <div id=\"df-3584e463-4606-42ec-92c0-b05e5c18995e\" class=\"colab-df-container\">\n",
              "    <div>\n",
              "<style scoped>\n",
              "    .dataframe tbody tr th:only-of-type {\n",
              "        vertical-align: middle;\n",
              "    }\n",
              "\n",
              "    .dataframe tbody tr th {\n",
              "        vertical-align: top;\n",
              "    }\n",
              "\n",
              "    .dataframe thead th {\n",
              "        text-align: right;\n",
              "    }\n",
              "</style>\n",
              "<table border=\"1\" class=\"dataframe\">\n",
              "  <thead>\n",
              "    <tr style=\"text-align: right;\">\n",
              "      <th></th>\n",
              "      <th>customer_id</th>\n",
              "      <th>churn</th>\n",
              "      <th>gender</th>\n",
              "      <th>senior_citizen</th>\n",
              "      <th>partner</th>\n",
              "      <th>dependents</th>\n",
              "      <th>tenure</th>\n",
              "      <th>phone_service</th>\n",
              "      <th>multiple_lines</th>\n",
              "      <th>internet_service</th>\n",
              "      <th>...</th>\n",
              "      <th>device_protection</th>\n",
              "      <th>tech_support</th>\n",
              "      <th>streaming_tv</th>\n",
              "      <th>streaming_movies</th>\n",
              "      <th>contract</th>\n",
              "      <th>paperless_billing</th>\n",
              "      <th>payment_method</th>\n",
              "      <th>charges_monthly</th>\n",
              "      <th>charges_total</th>\n",
              "      <th>daily_accounts</th>\n",
              "    </tr>\n",
              "  </thead>\n",
              "  <tbody>\n",
              "    <tr>\n",
              "      <th>3818</th>\n",
              "      <td>5226-NOZFC</td>\n",
              "      <td>No</td>\n",
              "      <td>Male</td>\n",
              "      <td>0</td>\n",
              "      <td>0</td>\n",
              "      <td>0</td>\n",
              "      <td>26</td>\n",
              "      <td>Yes</td>\n",
              "      <td>No</td>\n",
              "      <td>Fiber optic</td>\n",
              "      <td>...</td>\n",
              "      <td>No</td>\n",
              "      <td>No</td>\n",
              "      <td>Yes</td>\n",
              "      <td>No</td>\n",
              "      <td>Month-to-month</td>\n",
              "      <td>1</td>\n",
              "      <td>Electronic check</td>\n",
              "      <td>85.75</td>\n",
              "      <td>2146.5</td>\n",
              "      <td>2.8</td>\n",
              "    </tr>\n",
              "    <tr>\n",
              "      <th>2574</th>\n",
              "      <td>3588-WSTTJ</td>\n",
              "      <td>No</td>\n",
              "      <td>Female</td>\n",
              "      <td>1</td>\n",
              "      <td>0</td>\n",
              "      <td>0</td>\n",
              "      <td>35</td>\n",
              "      <td>Yes</td>\n",
              "      <td>Yes</td>\n",
              "      <td>Fiber optic</td>\n",
              "      <td>...</td>\n",
              "      <td>No</td>\n",
              "      <td>No</td>\n",
              "      <td>Yes</td>\n",
              "      <td>Yes</td>\n",
              "      <td>Month-to-month</td>\n",
              "      <td>1</td>\n",
              "      <td>Electronic check</td>\n",
              "      <td>99.05</td>\n",
              "      <td>3554.6</td>\n",
              "      <td>3.3</td>\n",
              "    </tr>\n",
              "    <tr>\n",
              "      <th>4137</th>\n",
              "      <td>5671-RQRLP</td>\n",
              "      <td>No</td>\n",
              "      <td>Female</td>\n",
              "      <td>1</td>\n",
              "      <td>1</td>\n",
              "      <td>0</td>\n",
              "      <td>70</td>\n",
              "      <td>Yes</td>\n",
              "      <td>Yes</td>\n",
              "      <td>Fiber optic</td>\n",
              "      <td>...</td>\n",
              "      <td>No</td>\n",
              "      <td>No</td>\n",
              "      <td>No</td>\n",
              "      <td>No</td>\n",
              "      <td>Two year</td>\n",
              "      <td>1</td>\n",
              "      <td>Credit card (automatic)</td>\n",
              "      <td>75.65</td>\n",
              "      <td>5411.4</td>\n",
              "      <td>2.5</td>\n",
              "    </tr>\n",
              "    <tr>\n",
              "      <th>173</th>\n",
              "      <td>0270-THENM</td>\n",
              "      <td>No</td>\n",
              "      <td>Male</td>\n",
              "      <td>0</td>\n",
              "      <td>1</td>\n",
              "      <td>1</td>\n",
              "      <td>72</td>\n",
              "      <td>Yes</td>\n",
              "      <td>Yes</td>\n",
              "      <td>DSL</td>\n",
              "      <td>...</td>\n",
              "      <td>Yes</td>\n",
              "      <td>Yes</td>\n",
              "      <td>No</td>\n",
              "      <td>No</td>\n",
              "      <td>Two year</td>\n",
              "      <td>0</td>\n",
              "      <td>Bank transfer (automatic)</td>\n",
              "      <td>69.85</td>\n",
              "      <td>5102.35</td>\n",
              "      <td>2.3</td>\n",
              "    </tr>\n",
              "    <tr>\n",
              "      <th>5231</th>\n",
              "      <td>7134-MJPDY</td>\n",
              "      <td>No</td>\n",
              "      <td>Female</td>\n",
              "      <td>1</td>\n",
              "      <td>0</td>\n",
              "      <td>0</td>\n",
              "      <td>66</td>\n",
              "      <td>Yes</td>\n",
              "      <td>Yes</td>\n",
              "      <td>Fiber optic</td>\n",
              "      <td>...</td>\n",
              "      <td>Yes</td>\n",
              "      <td>Yes</td>\n",
              "      <td>Yes</td>\n",
              "      <td>Yes</td>\n",
              "      <td>One year</td>\n",
              "      <td>1</td>\n",
              "      <td>Credit card (automatic)</td>\n",
              "      <td>102.85</td>\n",
              "      <td>6976.75</td>\n",
              "      <td>3.4</td>\n",
              "    </tr>\n",
              "    <tr>\n",
              "      <th>...</th>\n",
              "      <td>...</td>\n",
              "      <td>...</td>\n",
              "      <td>...</td>\n",
              "      <td>...</td>\n",
              "      <td>...</td>\n",
              "      <td>...</td>\n",
              "      <td>...</td>\n",
              "      <td>...</td>\n",
              "      <td>...</td>\n",
              "      <td>...</td>\n",
              "      <td>...</td>\n",
              "      <td>...</td>\n",
              "      <td>...</td>\n",
              "      <td>...</td>\n",
              "      <td>...</td>\n",
              "      <td>...</td>\n",
              "      <td>...</td>\n",
              "      <td>...</td>\n",
              "      <td>...</td>\n",
              "      <td>...</td>\n",
              "      <td>...</td>\n",
              "    </tr>\n",
              "    <tr>\n",
              "      <th>5902</th>\n",
              "      <td>8064-RAVOH</td>\n",
              "      <td>No</td>\n",
              "      <td>Male</td>\n",
              "      <td>0</td>\n",
              "      <td>0</td>\n",
              "      <td>1</td>\n",
              "      <td>1</td>\n",
              "      <td>Yes</td>\n",
              "      <td>No</td>\n",
              "      <td>DSL</td>\n",
              "      <td>...</td>\n",
              "      <td>Yes</td>\n",
              "      <td>No</td>\n",
              "      <td>No</td>\n",
              "      <td>No</td>\n",
              "      <td>Month-to-month</td>\n",
              "      <td>1</td>\n",
              "      <td>Electronic check</td>\n",
              "      <td>49.85</td>\n",
              "      <td>49.85</td>\n",
              "      <td>1.6</td>\n",
              "    </tr>\n",
              "    <tr>\n",
              "      <th>562</th>\n",
              "      <td>0804-YGEQV</td>\n",
              "      <td>No</td>\n",
              "      <td>Female</td>\n",
              "      <td>0</td>\n",
              "      <td>1</td>\n",
              "      <td>1</td>\n",
              "      <td>43</td>\n",
              "      <td>Yes</td>\n",
              "      <td>Yes</td>\n",
              "      <td>No</td>\n",
              "      <td>...</td>\n",
              "      <td>No internet service</td>\n",
              "      <td>No internet service</td>\n",
              "      <td>No internet service</td>\n",
              "      <td>No internet service</td>\n",
              "      <td>One year</td>\n",
              "      <td>1</td>\n",
              "      <td>Bank transfer (automatic)</td>\n",
              "      <td>24.45</td>\n",
              "      <td>993.15</td>\n",
              "      <td>0.8</td>\n",
              "    </tr>\n",
              "    <tr>\n",
              "      <th>4163</th>\n",
              "      <td>5701-ZIKJE</td>\n",
              "      <td>No</td>\n",
              "      <td>Male</td>\n",
              "      <td>0</td>\n",
              "      <td>0</td>\n",
              "      <td>0</td>\n",
              "      <td>13</td>\n",
              "      <td>Yes</td>\n",
              "      <td>No</td>\n",
              "      <td>DSL</td>\n",
              "      <td>...</td>\n",
              "      <td>No</td>\n",
              "      <td>Yes</td>\n",
              "      <td>No</td>\n",
              "      <td>No</td>\n",
              "      <td>Month-to-month</td>\n",
              "      <td>1</td>\n",
              "      <td>Mailed check</td>\n",
              "      <td>50.55</td>\n",
              "      <td>610.75</td>\n",
              "      <td>1.7</td>\n",
              "    </tr>\n",
              "    <tr>\n",
              "      <th>5819</th>\n",
              "      <td>7964-YESJC</td>\n",
              "      <td>No</td>\n",
              "      <td>Female</td>\n",
              "      <td>0</td>\n",
              "      <td>1</td>\n",
              "      <td>0</td>\n",
              "      <td>24</td>\n",
              "      <td>Yes</td>\n",
              "      <td>Yes</td>\n",
              "      <td>DSL</td>\n",
              "      <td>...</td>\n",
              "      <td>Yes</td>\n",
              "      <td>No</td>\n",
              "      <td>No</td>\n",
              "      <td>No</td>\n",
              "      <td>Month-to-month</td>\n",
              "      <td>0</td>\n",
              "      <td>Mailed check</td>\n",
              "      <td>66.30</td>\n",
              "      <td>1559.45</td>\n",
              "      <td>2.2</td>\n",
              "    </tr>\n",
              "    <tr>\n",
              "      <th>4657</th>\n",
              "      <td>6376-GAHQE</td>\n",
              "      <td>Yes</td>\n",
              "      <td>Male</td>\n",
              "      <td>0</td>\n",
              "      <td>0</td>\n",
              "      <td>0</td>\n",
              "      <td>4</td>\n",
              "      <td>Yes</td>\n",
              "      <td>No</td>\n",
              "      <td>Fiber optic</td>\n",
              "      <td>...</td>\n",
              "      <td>No</td>\n",
              "      <td>No</td>\n",
              "      <td>Yes</td>\n",
              "      <td>No</td>\n",
              "      <td>Month-to-month</td>\n",
              "      <td>0</td>\n",
              "      <td>Electronic check</td>\n",
              "      <td>77.85</td>\n",
              "      <td>299.2</td>\n",
              "      <td>2.6</td>\n",
              "    </tr>\n",
              "  </tbody>\n",
              "</table>\n",
              "<p>200 rows × 22 columns</p>\n",
              "</div>\n",
              "    <div class=\"colab-df-buttons\">\n",
              "\n",
              "  <div class=\"colab-df-container\">\n",
              "    <button class=\"colab-df-convert\" onclick=\"convertToInteractive('df-3584e463-4606-42ec-92c0-b05e5c18995e')\"\n",
              "            title=\"Convert this dataframe to an interactive table.\"\n",
              "            style=\"display:none;\">\n",
              "\n",
              "  <svg xmlns=\"http://www.w3.org/2000/svg\" height=\"24px\" viewBox=\"0 -960 960 960\">\n",
              "    <path d=\"M120-120v-720h720v720H120Zm60-500h600v-160H180v160Zm220 220h160v-160H400v160Zm0 220h160v-160H400v160ZM180-400h160v-160H180v160Zm440 0h160v-160H620v160ZM180-180h160v-160H180v160Zm440 0h160v-160H620v160Z\"/>\n",
              "  </svg>\n",
              "    </button>\n",
              "\n",
              "  <style>\n",
              "    .colab-df-container {\n",
              "      display:flex;\n",
              "      gap: 12px;\n",
              "    }\n",
              "\n",
              "    .colab-df-convert {\n",
              "      background-color: #E8F0FE;\n",
              "      border: none;\n",
              "      border-radius: 50%;\n",
              "      cursor: pointer;\n",
              "      display: none;\n",
              "      fill: #1967D2;\n",
              "      height: 32px;\n",
              "      padding: 0 0 0 0;\n",
              "      width: 32px;\n",
              "    }\n",
              "\n",
              "    .colab-df-convert:hover {\n",
              "      background-color: #E2EBFA;\n",
              "      box-shadow: 0px 1px 2px rgba(60, 64, 67, 0.3), 0px 1px 3px 1px rgba(60, 64, 67, 0.15);\n",
              "      fill: #174EA6;\n",
              "    }\n",
              "\n",
              "    .colab-df-buttons div {\n",
              "      margin-bottom: 4px;\n",
              "    }\n",
              "\n",
              "    [theme=dark] .colab-df-convert {\n",
              "      background-color: #3B4455;\n",
              "      fill: #D2E3FC;\n",
              "    }\n",
              "\n",
              "    [theme=dark] .colab-df-convert:hover {\n",
              "      background-color: #434B5C;\n",
              "      box-shadow: 0px 1px 3px 1px rgba(0, 0, 0, 0.15);\n",
              "      filter: drop-shadow(0px 1px 2px rgba(0, 0, 0, 0.3));\n",
              "      fill: #FFFFFF;\n",
              "    }\n",
              "  </style>\n",
              "\n",
              "    <script>\n",
              "      const buttonEl =\n",
              "        document.querySelector('#df-3584e463-4606-42ec-92c0-b05e5c18995e button.colab-df-convert');\n",
              "      buttonEl.style.display =\n",
              "        google.colab.kernel.accessAllowed ? 'block' : 'none';\n",
              "\n",
              "      async function convertToInteractive(key) {\n",
              "        const element = document.querySelector('#df-3584e463-4606-42ec-92c0-b05e5c18995e');\n",
              "        const dataTable =\n",
              "          await google.colab.kernel.invokeFunction('convertToInteractive',\n",
              "                                                    [key], {});\n",
              "        if (!dataTable) return;\n",
              "\n",
              "        const docLinkHtml = 'Like what you see? Visit the ' +\n",
              "          '<a target=\"_blank\" href=https://colab.research.google.com/notebooks/data_table.ipynb>data table notebook</a>'\n",
              "          + ' to learn more about interactive tables.';\n",
              "        element.innerHTML = '';\n",
              "        dataTable['output_type'] = 'display_data';\n",
              "        await google.colab.output.renderOutput(dataTable, element);\n",
              "        const docLink = document.createElement('div');\n",
              "        docLink.innerHTML = docLinkHtml;\n",
              "        element.appendChild(docLink);\n",
              "      }\n",
              "    </script>\n",
              "  </div>\n",
              "\n",
              "\n",
              "    <div id=\"df-5f398ae1-2f5b-47f1-81ca-25744a7ef0e7\">\n",
              "      <button class=\"colab-df-quickchart\" onclick=\"quickchart('df-5f398ae1-2f5b-47f1-81ca-25744a7ef0e7')\"\n",
              "                title=\"Suggest charts\"\n",
              "                style=\"display:none;\">\n",
              "\n",
              "<svg xmlns=\"http://www.w3.org/2000/svg\" height=\"24px\"viewBox=\"0 0 24 24\"\n",
              "     width=\"24px\">\n",
              "    <g>\n",
              "        <path d=\"M19 3H5c-1.1 0-2 .9-2 2v14c0 1.1.9 2 2 2h14c1.1 0 2-.9 2-2V5c0-1.1-.9-2-2-2zM9 17H7v-7h2v7zm4 0h-2V7h2v10zm4 0h-2v-4h2v4z\"/>\n",
              "    </g>\n",
              "</svg>\n",
              "      </button>\n",
              "\n",
              "<style>\n",
              "  .colab-df-quickchart {\n",
              "      --bg-color: #E8F0FE;\n",
              "      --fill-color: #1967D2;\n",
              "      --hover-bg-color: #E2EBFA;\n",
              "      --hover-fill-color: #174EA6;\n",
              "      --disabled-fill-color: #AAA;\n",
              "      --disabled-bg-color: #DDD;\n",
              "  }\n",
              "\n",
              "  [theme=dark] .colab-df-quickchart {\n",
              "      --bg-color: #3B4455;\n",
              "      --fill-color: #D2E3FC;\n",
              "      --hover-bg-color: #434B5C;\n",
              "      --hover-fill-color: #FFFFFF;\n",
              "      --disabled-bg-color: #3B4455;\n",
              "      --disabled-fill-color: #666;\n",
              "  }\n",
              "\n",
              "  .colab-df-quickchart {\n",
              "    background-color: var(--bg-color);\n",
              "    border: none;\n",
              "    border-radius: 50%;\n",
              "    cursor: pointer;\n",
              "    display: none;\n",
              "    fill: var(--fill-color);\n",
              "    height: 32px;\n",
              "    padding: 0;\n",
              "    width: 32px;\n",
              "  }\n",
              "\n",
              "  .colab-df-quickchart:hover {\n",
              "    background-color: var(--hover-bg-color);\n",
              "    box-shadow: 0 1px 2px rgba(60, 64, 67, 0.3), 0 1px 3px 1px rgba(60, 64, 67, 0.15);\n",
              "    fill: var(--button-hover-fill-color);\n",
              "  }\n",
              "\n",
              "  .colab-df-quickchart-complete:disabled,\n",
              "  .colab-df-quickchart-complete:disabled:hover {\n",
              "    background-color: var(--disabled-bg-color);\n",
              "    fill: var(--disabled-fill-color);\n",
              "    box-shadow: none;\n",
              "  }\n",
              "\n",
              "  .colab-df-spinner {\n",
              "    border: 2px solid var(--fill-color);\n",
              "    border-color: transparent;\n",
              "    border-bottom-color: var(--fill-color);\n",
              "    animation:\n",
              "      spin 1s steps(1) infinite;\n",
              "  }\n",
              "\n",
              "  @keyframes spin {\n",
              "    0% {\n",
              "      border-color: transparent;\n",
              "      border-bottom-color: var(--fill-color);\n",
              "      border-left-color: var(--fill-color);\n",
              "    }\n",
              "    20% {\n",
              "      border-color: transparent;\n",
              "      border-left-color: var(--fill-color);\n",
              "      border-top-color: var(--fill-color);\n",
              "    }\n",
              "    30% {\n",
              "      border-color: transparent;\n",
              "      border-left-color: var(--fill-color);\n",
              "      border-top-color: var(--fill-color);\n",
              "      border-right-color: var(--fill-color);\n",
              "    }\n",
              "    40% {\n",
              "      border-color: transparent;\n",
              "      border-right-color: var(--fill-color);\n",
              "      border-top-color: var(--fill-color);\n",
              "    }\n",
              "    60% {\n",
              "      border-color: transparent;\n",
              "      border-right-color: var(--fill-color);\n",
              "    }\n",
              "    80% {\n",
              "      border-color: transparent;\n",
              "      border-right-color: var(--fill-color);\n",
              "      border-bottom-color: var(--fill-color);\n",
              "    }\n",
              "    90% {\n",
              "      border-color: transparent;\n",
              "      border-bottom-color: var(--fill-color);\n",
              "    }\n",
              "  }\n",
              "</style>\n",
              "\n",
              "      <script>\n",
              "        async function quickchart(key) {\n",
              "          const quickchartButtonEl =\n",
              "            document.querySelector('#' + key + ' button');\n",
              "          quickchartButtonEl.disabled = true;  // To prevent multiple clicks.\n",
              "          quickchartButtonEl.classList.add('colab-df-spinner');\n",
              "          try {\n",
              "            const charts = await google.colab.kernel.invokeFunction(\n",
              "                'suggestCharts', [key], {});\n",
              "          } catch (error) {\n",
              "            console.error('Error during call to suggestCharts:', error);\n",
              "          }\n",
              "          quickchartButtonEl.classList.remove('colab-df-spinner');\n",
              "          quickchartButtonEl.classList.add('colab-df-quickchart-complete');\n",
              "        }\n",
              "        (() => {\n",
              "          let quickchartButtonEl =\n",
              "            document.querySelector('#df-5f398ae1-2f5b-47f1-81ca-25744a7ef0e7 button');\n",
              "          quickchartButtonEl.style.display =\n",
              "            google.colab.kernel.accessAllowed ? 'block' : 'none';\n",
              "        })();\n",
              "      </script>\n",
              "    </div>\n",
              "\n",
              "    </div>\n",
              "  </div>\n"
            ],
            "application/vnd.google.colaboratory.intrinsic+json": {
              "type": "dataframe"
            }
          },
          "metadata": {}
        }
      ]
    },
    {
      "cell_type": "markdown",
      "source": [
        "#### Opcionales"
      ],
      "metadata": {
        "id": "x5y7MfjcFzPP"
      }
    },
    {
      "cell_type": "code",
      "source": [],
      "metadata": {
        "id": "NBivW7kdF1MK"
      },
      "execution_count": null,
      "outputs": []
    },
    {
      "cell_type": "code",
      "source": [
        "# Opcional: Revisar si hay valores no numéricos en columnas que deberían ser numéricas\n",
        "print(\"\\n--- Comprobación de Valores no Numéricos en Columnas Numéricas ---\")\n",
        "\n",
        "# Identificar columnas que se espera que sean numéricas (excluyendo 'customer_id')\n",
        "numeric_cols_to_check = ['tenure', 'charges_monthly', 'charges_total', 'daily_accounts']\n",
        "\n",
        "for col in numeric_cols_to_check:\n",
        "    if col in df_flat.columns:\n",
        "        try:\n",
        "            # Intenta convertir la columna a numérico, los errores indicarán valores no numéricos\n",
        "            pd.to_numeric(df_flat[col])\n",
        "            print(f\"La columna '{col}' es completamente numérica.\")\n",
        "        except ValueError as e:\n",
        "            print(f\"Se encontraron valores no numéricos en '{col}': {e}\")\n",
        "            # Para ver los valores no numéricos, puedes usar:\n",
        "            non_numeric_values = df_flat[pd.to_numeric(df_flat[col], errors='coerce').isna()][col].unique()\n",
        "            print(f\"Ejemplos de valores no numéricos en '{col}':\")\n",
        "            display(non_numeric_values)\n",
        "\n",
        "# *** APLICAR CORRECCIÓN A charges_total DIRECTAMENTE EN df_flat ***\n",
        "# Identificamos que 'charges_total' tiene valores ' '\n",
        "# Convertir 'charges_total' a numérico, reemplazando ' ' (que se convierten a NaN por errors='coerce') con 0 o la media,\n",
        "# pero primero vamos a reemplazar explícitamente los ' ' con NaN\n",
        "df_flat['charges_total'] = df_flat['charges_total'].replace(' ', pd.NA) # Reemplazar ' ' con NaN\n",
        "\n",
        "# Ahora convertir a numérico. Los NaN se mantendrán como NaN.\n",
        "df_flat['charges_total'] = pd.to_numeric(df_flat['charges_total'])\n",
        "\n",
        "# Opcional: Rellenar los valores NaN creados en 'charges_total' si es necesario (ej. con 0 o la media)\n",
        "# Por ahora, solo nos aseguraremos de que sea numérico y tenga NaN donde antes había ' '\n",
        "# Si decides rellenar, podrías usar: df_flat['charges_total'].fillna(0, inplace=True) o df_flat['charges_total'].fillna(df_flat['charges_total'].mean(), inplace=True)\n",
        "\n",
        "# Verificar el tipo de dato después de la conversión\n",
        "print(\"\\nTipo de dato de 'charges_total' después de la corrección:\")\n",
        "print(df_flat['charges_total'].dtype)\n",
        "\n",
        "print(\"\\nVerificar valores nulos en 'charges_total' después de reemplazar ' ' con NaN:\")\n",
        "display(df_flat['charges_total'].isnull().sum())"
      ],
      "metadata": {
        "colab": {
          "base_uri": "https://localhost:8080/",
          "height": 260
        },
        "id": "4UHG8ud0UCKc",
        "outputId": "686ee012-bcdb-41e5-e2ac-0a5be7af7791"
      },
      "execution_count": null,
      "outputs": [
        {
          "output_type": "stream",
          "name": "stdout",
          "text": [
            "\n",
            "--- Comprobación de Valores no Numéricos en Columnas Numéricas ---\n",
            "La columna 'tenure' es completamente numérica.\n",
            "La columna 'charges_monthly' es completamente numérica.\n",
            "Se encontraron valores no numéricos en 'charges_total': Unable to parse string \" \" at position 975\n",
            "Ejemplos de valores no numéricos en 'charges_total':\n"
          ]
        },
        {
          "output_type": "display_data",
          "data": {
            "text/plain": [
              "array([' '], dtype=object)"
            ]
          },
          "metadata": {}
        },
        {
          "output_type": "stream",
          "name": "stdout",
          "text": [
            "La columna 'daily_accounts' es completamente numérica.\n",
            "\n",
            "Tipo de dato de 'charges_total' después de la corrección:\n",
            "float64\n",
            "\n",
            "Verificar valores nulos en 'charges_total' después de reemplazar ' ' con NaN:\n"
          ]
        },
        {
          "output_type": "display_data",
          "data": {
            "text/plain": [
              "np.int64(11)"
            ]
          },
          "metadata": {}
        }
      ]
    },
    {
      "cell_type": "markdown",
      "source": [
        "#### # Convertir 'churn' a binario (Yes=1, No=0) y reemplazar '' con NaN\n"
      ],
      "metadata": {
        "id": "oOitnGx0JykV"
      }
    },
    {
      "cell_type": "code",
      "metadata": {
        "colab": {
          "base_uri": "https://localhost:8080/",
          "height": 263
        },
        "id": "149d89ac",
        "outputId": "d5a62a31-08c8-4d94-fd7c-6dac2de7bf6d"
      },
      "source": [
        "# Generando el grafico del siguiente punto note un valor adicional en la columna\n",
        "#Check unique values in the 'churn' column\n",
        "print(\"Valores únicos en la columna 'churn':\")\n",
        "display(df_flat['churn'].unique())\n",
        "# df_flat.sample(5) # No mostramos sample aquí para enfocarnos en la corrección\n",
        "\n",
        "\n",
        "# *** APLICAR CORRECCIÓN A churn DIRECTAMENTE EN df_flat ***\n",
        "# Vemos que 'churn' tiene valores '', 'No', 'Yes'. Queremos convertir a binario y manejar '' como NaN.\n",
        "# Convertir '' a None (NaN)\n",
        "df_flat['churn'] = df_flat['churn'].replace('', None)\n",
        "\n",
        "# Convertir 'Yes' a 1 y 'No' a 0, forzando a NaN cualquier valor no numérico restante\n",
        "# Los NaN (que antes eran '') se mantendrán como NaN en este paso.\n",
        "df_flat['churn'] = pd.to_numeric(df_flat['churn'].replace({'Yes': 1, 'No': 0}), errors='coerce')\n",
        "\n",
        "\n",
        "# Opcional: Eliminar o rellenar filas donde 'churn' es NaN si es necesario.\n",
        "# Si decides eliminar, puedes usar: df_flat.dropna(subset=['churn'], inplace=True)\n",
        "# Si decides rellenar, puedes usar: df_flat['churn'].fillna(valor, inplace=True)\n",
        "# Por ahora, solo nos aseguraremos de que sea numérico y tenga NaN donde antes había ''\n",
        "\n",
        "# Verificar valores únicos y tipo de dato después de la corrección\n",
        "print(\"\\nValores únicos en la columna 'churn' después de la corrección:\")\n",
        "display(df_flat['churn'].unique())\n",
        "print(\"\\nTipo de dato de 'churn' después de la corrección:\")\n",
        "print(df_flat['churn'].dtype)\n",
        "print(\"\\nVerificar valores nulos en 'churn' después de reemplazar '' con NaN:\")\n",
        "display(df_flat['churn'].isnull().sum())"
      ],
      "execution_count": null,
      "outputs": [
        {
          "output_type": "stream",
          "name": "stdout",
          "text": [
            "Valores únicos en la columna 'churn':\n"
          ]
        },
        {
          "output_type": "display_data",
          "data": {
            "text/plain": [
              "array(['No', 'Yes', ''], dtype=object)"
            ]
          },
          "metadata": {}
        },
        {
          "output_type": "stream",
          "name": "stdout",
          "text": [
            "\n",
            "Valores únicos en la columna 'churn' después de la corrección:\n"
          ]
        },
        {
          "output_type": "stream",
          "name": "stderr",
          "text": [
            "/tmp/ipython-input-119-684479899.py:15: FutureWarning: Downcasting behavior in `replace` is deprecated and will be removed in a future version. To retain the old behavior, explicitly call `result.infer_objects(copy=False)`. To opt-in to the future behavior, set `pd.set_option('future.no_silent_downcasting', True)`\n",
            "  df_flat['churn'] = pd.to_numeric(df_flat['churn'].replace({'Yes': 1, 'No': 0}), errors='coerce')\n"
          ]
        },
        {
          "output_type": "display_data",
          "data": {
            "text/plain": [
              "array([ 0.,  1., nan])"
            ]
          },
          "metadata": {}
        },
        {
          "output_type": "stream",
          "name": "stdout",
          "text": [
            "\n",
            "Tipo de dato de 'churn' después de la corrección:\n",
            "float64\n",
            "\n",
            "Verificar valores nulos en 'churn' después de reemplazar '' con NaN:\n"
          ]
        },
        {
          "output_type": "display_data",
          "data": {
            "text/plain": [
              "np.int64(224)"
            ]
          },
          "metadata": {}
        }
      ]
    },
    {
      "cell_type": "markdown",
      "source": [
        "## C)  Carga y Analisis L - Load & Analysis"
      ],
      "metadata": {
        "id": "Q4Qfm8M8ZZJ5"
      }
    },
    {
      "cell_type": "markdown",
      "source": [
        "### Analisis descriptivo"
      ],
      "metadata": {
        "id": "O1TbM0yhZi8O"
      }
    },
    {
      "cell_type": "markdown",
      "source": [
        "Para comenzar, realiza un análisis descriptivo de los datos, calculando métricas como media, mediana, desviación estándar y otras medidas que ayuden a comprender mejor la distribución y el comportamiento de los clientes.\n",
        "\n",
        "📌 Consejos:\n",
        "\n",
        "🔗 Documentación de DataFrame.describe()"
      ],
      "metadata": {
        "id": "9DwtrSn3Zrtd"
      }
    },
    {
      "cell_type": "code",
      "source": [
        "# Realizar análisis descriptivo del DataFrame df_flat\n",
        "display(df_flat.describe())"
      ],
      "metadata": {
        "colab": {
          "base_uri": "https://localhost:8080/",
          "height": 300
        },
        "id": "cn-OnNQiImG5",
        "outputId": "7a68447c-39ee-42df-e981-9a88d9d981b7"
      },
      "execution_count": null,
      "outputs": [
        {
          "output_type": "display_data",
          "data": {
            "text/plain": [
              "             churn  senior_citizen      partner   dependents       tenure  \\\n",
              "count  7043.000000     7267.000000  7267.000000  7267.000000  7267.000000   \n",
              "mean      0.265370        0.162653     0.484106     0.300124    32.346498   \n",
              "std       0.441561        0.369074     0.499782     0.458343    24.571773   \n",
              "min       0.000000        0.000000     0.000000     0.000000     0.000000   \n",
              "25%       0.000000        0.000000     0.000000     0.000000     9.000000   \n",
              "50%       0.000000        0.000000     0.000000     0.000000    29.000000   \n",
              "75%       1.000000        0.000000     1.000000     1.000000    55.000000   \n",
              "max       1.000000        1.000000     1.000000     1.000000    72.000000   \n",
              "\n",
              "       charges_monthly  charges_total  daily_accounts  \n",
              "count      7267.000000    7256.000000     7267.000000  \n",
              "mean         64.720098    2280.634213        2.127329  \n",
              "std          30.129572    2268.632997        0.989183  \n",
              "min          18.250000      18.800000        0.600000  \n",
              "25%          35.425000     400.225000        1.200000  \n",
              "50%          70.300000    1391.000000        2.300000  \n",
              "75%          89.875000    3785.300000        3.000000  \n",
              "max         118.750000    8684.800000        3.900000  "
            ],
            "text/html": [
              "\n",
              "  <div id=\"df-69c80b25-3a56-4a31-8b98-4f40dc8c0ca3\" class=\"colab-df-container\">\n",
              "    <div>\n",
              "<style scoped>\n",
              "    .dataframe tbody tr th:only-of-type {\n",
              "        vertical-align: middle;\n",
              "    }\n",
              "\n",
              "    .dataframe tbody tr th {\n",
              "        vertical-align: top;\n",
              "    }\n",
              "\n",
              "    .dataframe thead th {\n",
              "        text-align: right;\n",
              "    }\n",
              "</style>\n",
              "<table border=\"1\" class=\"dataframe\">\n",
              "  <thead>\n",
              "    <tr style=\"text-align: right;\">\n",
              "      <th></th>\n",
              "      <th>churn</th>\n",
              "      <th>senior_citizen</th>\n",
              "      <th>partner</th>\n",
              "      <th>dependents</th>\n",
              "      <th>tenure</th>\n",
              "      <th>charges_monthly</th>\n",
              "      <th>charges_total</th>\n",
              "      <th>daily_accounts</th>\n",
              "    </tr>\n",
              "  </thead>\n",
              "  <tbody>\n",
              "    <tr>\n",
              "      <th>count</th>\n",
              "      <td>7043.000000</td>\n",
              "      <td>7267.000000</td>\n",
              "      <td>7267.000000</td>\n",
              "      <td>7267.000000</td>\n",
              "      <td>7267.000000</td>\n",
              "      <td>7267.000000</td>\n",
              "      <td>7256.000000</td>\n",
              "      <td>7267.000000</td>\n",
              "    </tr>\n",
              "    <tr>\n",
              "      <th>mean</th>\n",
              "      <td>0.265370</td>\n",
              "      <td>0.162653</td>\n",
              "      <td>0.484106</td>\n",
              "      <td>0.300124</td>\n",
              "      <td>32.346498</td>\n",
              "      <td>64.720098</td>\n",
              "      <td>2280.634213</td>\n",
              "      <td>2.127329</td>\n",
              "    </tr>\n",
              "    <tr>\n",
              "      <th>std</th>\n",
              "      <td>0.441561</td>\n",
              "      <td>0.369074</td>\n",
              "      <td>0.499782</td>\n",
              "      <td>0.458343</td>\n",
              "      <td>24.571773</td>\n",
              "      <td>30.129572</td>\n",
              "      <td>2268.632997</td>\n",
              "      <td>0.989183</td>\n",
              "    </tr>\n",
              "    <tr>\n",
              "      <th>min</th>\n",
              "      <td>0.000000</td>\n",
              "      <td>0.000000</td>\n",
              "      <td>0.000000</td>\n",
              "      <td>0.000000</td>\n",
              "      <td>0.000000</td>\n",
              "      <td>18.250000</td>\n",
              "      <td>18.800000</td>\n",
              "      <td>0.600000</td>\n",
              "    </tr>\n",
              "    <tr>\n",
              "      <th>25%</th>\n",
              "      <td>0.000000</td>\n",
              "      <td>0.000000</td>\n",
              "      <td>0.000000</td>\n",
              "      <td>0.000000</td>\n",
              "      <td>9.000000</td>\n",
              "      <td>35.425000</td>\n",
              "      <td>400.225000</td>\n",
              "      <td>1.200000</td>\n",
              "    </tr>\n",
              "    <tr>\n",
              "      <th>50%</th>\n",
              "      <td>0.000000</td>\n",
              "      <td>0.000000</td>\n",
              "      <td>0.000000</td>\n",
              "      <td>0.000000</td>\n",
              "      <td>29.000000</td>\n",
              "      <td>70.300000</td>\n",
              "      <td>1391.000000</td>\n",
              "      <td>2.300000</td>\n",
              "    </tr>\n",
              "    <tr>\n",
              "      <th>75%</th>\n",
              "      <td>1.000000</td>\n",
              "      <td>0.000000</td>\n",
              "      <td>1.000000</td>\n",
              "      <td>1.000000</td>\n",
              "      <td>55.000000</td>\n",
              "      <td>89.875000</td>\n",
              "      <td>3785.300000</td>\n",
              "      <td>3.000000</td>\n",
              "    </tr>\n",
              "    <tr>\n",
              "      <th>max</th>\n",
              "      <td>1.000000</td>\n",
              "      <td>1.000000</td>\n",
              "      <td>1.000000</td>\n",
              "      <td>1.000000</td>\n",
              "      <td>72.000000</td>\n",
              "      <td>118.750000</td>\n",
              "      <td>8684.800000</td>\n",
              "      <td>3.900000</td>\n",
              "    </tr>\n",
              "  </tbody>\n",
              "</table>\n",
              "</div>\n",
              "    <div class=\"colab-df-buttons\">\n",
              "\n",
              "  <div class=\"colab-df-container\">\n",
              "    <button class=\"colab-df-convert\" onclick=\"convertToInteractive('df-69c80b25-3a56-4a31-8b98-4f40dc8c0ca3')\"\n",
              "            title=\"Convert this dataframe to an interactive table.\"\n",
              "            style=\"display:none;\">\n",
              "\n",
              "  <svg xmlns=\"http://www.w3.org/2000/svg\" height=\"24px\" viewBox=\"0 -960 960 960\">\n",
              "    <path d=\"M120-120v-720h720v720H120Zm60-500h600v-160H180v160Zm220 220h160v-160H400v160Zm0 220h160v-160H400v160ZM180-400h160v-160H180v160Zm440 0h160v-160H620v160ZM180-180h160v-160H180v160Zm440 0h160v-160H620v160Z\"/>\n",
              "  </svg>\n",
              "    </button>\n",
              "\n",
              "  <style>\n",
              "    .colab-df-container {\n",
              "      display:flex;\n",
              "      gap: 12px;\n",
              "    }\n",
              "\n",
              "    .colab-df-convert {\n",
              "      background-color: #E8F0FE;\n",
              "      border: none;\n",
              "      border-radius: 50%;\n",
              "      cursor: pointer;\n",
              "      display: none;\n",
              "      fill: #1967D2;\n",
              "      height: 32px;\n",
              "      padding: 0 0 0 0;\n",
              "      width: 32px;\n",
              "    }\n",
              "\n",
              "    .colab-df-convert:hover {\n",
              "      background-color: #E2EBFA;\n",
              "      box-shadow: 0px 1px 2px rgba(60, 64, 67, 0.3), 0px 1px 3px 1px rgba(60, 64, 67, 0.15);\n",
              "      fill: #174EA6;\n",
              "    }\n",
              "\n",
              "    .colab-df-buttons div {\n",
              "      margin-bottom: 4px;\n",
              "    }\n",
              "\n",
              "    [theme=dark] .colab-df-convert {\n",
              "      background-color: #3B4455;\n",
              "      fill: #D2E3FC;\n",
              "    }\n",
              "\n",
              "    [theme=dark] .colab-df-convert:hover {\n",
              "      background-color: #434B5C;\n",
              "      box-shadow: 0px 1px 3px 1px rgba(0, 0, 0, 0.15);\n",
              "      filter: drop-shadow(0px 1px 2px rgba(0, 0, 0, 0.3));\n",
              "      fill: #FFFFFF;\n",
              "    }\n",
              "  </style>\n",
              "\n",
              "    <script>\n",
              "      const buttonEl =\n",
              "        document.querySelector('#df-69c80b25-3a56-4a31-8b98-4f40dc8c0ca3 button.colab-df-convert');\n",
              "      buttonEl.style.display =\n",
              "        google.colab.kernel.accessAllowed ? 'block' : 'none';\n",
              "\n",
              "      async function convertToInteractive(key) {\n",
              "        const element = document.querySelector('#df-69c80b25-3a56-4a31-8b98-4f40dc8c0ca3');\n",
              "        const dataTable =\n",
              "          await google.colab.kernel.invokeFunction('convertToInteractive',\n",
              "                                                    [key], {});\n",
              "        if (!dataTable) return;\n",
              "\n",
              "        const docLinkHtml = 'Like what you see? Visit the ' +\n",
              "          '<a target=\"_blank\" href=https://colab.research.google.com/notebooks/data_table.ipynb>data table notebook</a>'\n",
              "          + ' to learn more about interactive tables.';\n",
              "        element.innerHTML = '';\n",
              "        dataTable['output_type'] = 'display_data';\n",
              "        await google.colab.output.renderOutput(dataTable, element);\n",
              "        const docLink = document.createElement('div');\n",
              "        docLink.innerHTML = docLinkHtml;\n",
              "        element.appendChild(docLink);\n",
              "      }\n",
              "    </script>\n",
              "  </div>\n",
              "\n",
              "\n",
              "    <div id=\"df-5f5319a1-108f-4ebf-bd6e-2e479ad8bc23\">\n",
              "      <button class=\"colab-df-quickchart\" onclick=\"quickchart('df-5f5319a1-108f-4ebf-bd6e-2e479ad8bc23')\"\n",
              "                title=\"Suggest charts\"\n",
              "                style=\"display:none;\">\n",
              "\n",
              "<svg xmlns=\"http://www.w3.org/2000/svg\" height=\"24px\"viewBox=\"0 0 24 24\"\n",
              "     width=\"24px\">\n",
              "    <g>\n",
              "        <path d=\"M19 3H5c-1.1 0-2 .9-2 2v14c0 1.1.9 2 2 2h14c1.1 0 2-.9 2-2V5c0-1.1-.9-2-2-2zM9 17H7v-7h2v7zm4 0h-2V7h2v10zm4 0h-2v-4h2v4z\"/>\n",
              "    </g>\n",
              "</svg>\n",
              "      </button>\n",
              "\n",
              "<style>\n",
              "  .colab-df-quickchart {\n",
              "      --bg-color: #E8F0FE;\n",
              "      --fill-color: #1967D2;\n",
              "      --hover-bg-color: #E2EBFA;\n",
              "      --hover-fill-color: #174EA6;\n",
              "      --disabled-fill-color: #AAA;\n",
              "      --disabled-bg-color: #DDD;\n",
              "  }\n",
              "\n",
              "  [theme=dark] .colab-df-quickchart {\n",
              "      --bg-color: #3B4455;\n",
              "      --fill-color: #D2E3FC;\n",
              "      --hover-bg-color: #434B5C;\n",
              "      --hover-fill-color: #FFFFFF;\n",
              "      --disabled-bg-color: #3B4455;\n",
              "      --disabled-fill-color: #666;\n",
              "  }\n",
              "\n",
              "  .colab-df-quickchart {\n",
              "    background-color: var(--bg-color);\n",
              "    border: none;\n",
              "    border-radius: 50%;\n",
              "    cursor: pointer;\n",
              "    display: none;\n",
              "    fill: var(--fill-color);\n",
              "    height: 32px;\n",
              "    padding: 0;\n",
              "    width: 32px;\n",
              "  }\n",
              "\n",
              "  .colab-df-quickchart:hover {\n",
              "    background-color: var(--hover-bg-color);\n",
              "    box-shadow: 0 1px 2px rgba(60, 64, 67, 0.3), 0 1px 3px 1px rgba(60, 64, 67, 0.15);\n",
              "    fill: var(--button-hover-fill-color);\n",
              "  }\n",
              "\n",
              "  .colab-df-quickchart-complete:disabled,\n",
              "  .colab-df-quickchart-complete:disabled:hover {\n",
              "    background-color: var(--disabled-bg-color);\n",
              "    fill: var(--disabled-fill-color);\n",
              "    box-shadow: none;\n",
              "  }\n",
              "\n",
              "  .colab-df-spinner {\n",
              "    border: 2px solid var(--fill-color);\n",
              "    border-color: transparent;\n",
              "    border-bottom-color: var(--fill-color);\n",
              "    animation:\n",
              "      spin 1s steps(1) infinite;\n",
              "  }\n",
              "\n",
              "  @keyframes spin {\n",
              "    0% {\n",
              "      border-color: transparent;\n",
              "      border-bottom-color: var(--fill-color);\n",
              "      border-left-color: var(--fill-color);\n",
              "    }\n",
              "    20% {\n",
              "      border-color: transparent;\n",
              "      border-left-color: var(--fill-color);\n",
              "      border-top-color: var(--fill-color);\n",
              "    }\n",
              "    30% {\n",
              "      border-color: transparent;\n",
              "      border-left-color: var(--fill-color);\n",
              "      border-top-color: var(--fill-color);\n",
              "      border-right-color: var(--fill-color);\n",
              "    }\n",
              "    40% {\n",
              "      border-color: transparent;\n",
              "      border-right-color: var(--fill-color);\n",
              "      border-top-color: var(--fill-color);\n",
              "    }\n",
              "    60% {\n",
              "      border-color: transparent;\n",
              "      border-right-color: var(--fill-color);\n",
              "    }\n",
              "    80% {\n",
              "      border-color: transparent;\n",
              "      border-right-color: var(--fill-color);\n",
              "      border-bottom-color: var(--fill-color);\n",
              "    }\n",
              "    90% {\n",
              "      border-color: transparent;\n",
              "      border-bottom-color: var(--fill-color);\n",
              "    }\n",
              "  }\n",
              "</style>\n",
              "\n",
              "      <script>\n",
              "        async function quickchart(key) {\n",
              "          const quickchartButtonEl =\n",
              "            document.querySelector('#' + key + ' button');\n",
              "          quickchartButtonEl.disabled = true;  // To prevent multiple clicks.\n",
              "          quickchartButtonEl.classList.add('colab-df-spinner');\n",
              "          try {\n",
              "            const charts = await google.colab.kernel.invokeFunction(\n",
              "                'suggestCharts', [key], {});\n",
              "          } catch (error) {\n",
              "            console.error('Error during call to suggestCharts:', error);\n",
              "          }\n",
              "          quickchartButtonEl.classList.remove('colab-df-spinner');\n",
              "          quickchartButtonEl.classList.add('colab-df-quickchart-complete');\n",
              "        }\n",
              "        (() => {\n",
              "          let quickchartButtonEl =\n",
              "            document.querySelector('#df-5f5319a1-108f-4ebf-bd6e-2e479ad8bc23 button');\n",
              "          quickchartButtonEl.style.display =\n",
              "            google.colab.kernel.accessAllowed ? 'block' : 'none';\n",
              "        })();\n",
              "      </script>\n",
              "    </div>\n",
              "\n",
              "    </div>\n",
              "  </div>\n"
            ],
            "application/vnd.google.colaboratory.intrinsic+json": {
              "type": "dataframe",
              "summary": "{\n  \"name\": \"display(df_flat\",\n  \"rows\": 8,\n  \"fields\": [\n    {\n      \"column\": \"churn\",\n      \"properties\": {\n        \"dtype\": \"number\",\n        \"std\": 2489.939844235915,\n        \"min\": 0.0,\n        \"max\": 7043.0,\n        \"num_unique_values\": 5,\n        \"samples\": [\n          0.2653698707936959,\n          1.0,\n          0.4415613051219502\n        ],\n        \"semantic_type\": \"\",\n        \"description\": \"\"\n      }\n    },\n    {\n      \"column\": \"senior_citizen\",\n      \"properties\": {\n        \"dtype\": \"number\",\n        \"std\": 2569.19514853371,\n        \"min\": 0.0,\n        \"max\": 7267.0,\n        \"num_unique_values\": 5,\n        \"samples\": [\n          0.16265308930782993,\n          1.0,\n          0.3690742557820031\n        ],\n        \"semantic_type\": \"\",\n        \"description\": \"\"\n      }\n    },\n    {\n      \"column\": \"partner\",\n      \"properties\": {\n        \"dtype\": \"number\",\n        \"std\": 2569.1218140436854,\n        \"min\": 0.0,\n        \"max\": 7267.0,\n        \"num_unique_values\": 5,\n        \"samples\": [\n          0.48410623365900646,\n          1.0,\n          0.49978171260213444\n        ],\n        \"semantic_type\": \"\",\n        \"description\": \"\"\n      }\n    },\n    {\n      \"column\": \"dependents\",\n      \"properties\": {\n        \"dtype\": \"number\",\n        \"std\": 2569.1331995473306,\n        \"min\": 0.0,\n        \"max\": 7267.0,\n        \"num_unique_values\": 5,\n        \"samples\": [\n          0.3001238475299298,\n          1.0,\n          0.4583431380785336\n        ],\n        \"semantic_type\": \"\",\n        \"description\": \"\"\n      }\n    },\n    {\n      \"column\": \"tenure\",\n      \"properties\": {\n        \"dtype\": \"number\",\n        \"std\": 2558.1685122560853,\n        \"min\": 0.0,\n        \"max\": 7267.0,\n        \"num_unique_values\": 8,\n        \"samples\": [\n          32.34649786707032,\n          29.0,\n          7267.0\n        ],\n        \"semantic_type\": \"\",\n        \"description\": \"\"\n      }\n    },\n    {\n      \"column\": \"charges_monthly\",\n      \"properties\": {\n        \"dtype\": \"number\",\n        \"std\": 2547.8989994186936,\n        \"min\": 18.25,\n        \"max\": 7267.0,\n        \"num_unique_values\": 8,\n        \"samples\": [\n          64.72009770194028,\n          70.3,\n          7267.0\n        ],\n        \"semantic_type\": \"\",\n        \"description\": \"\"\n      }\n    },\n    {\n      \"column\": \"charges_total\",\n      \"properties\": {\n        \"dtype\": \"number\",\n        \"std\": 3157.558389134042,\n        \"min\": 18.8,\n        \"max\": 8684.8,\n        \"num_unique_values\": 8,\n        \"samples\": [\n          2280.6342130650496,\n          1391.0,\n          7256.0\n        ],\n        \"semantic_type\": \"\",\n        \"description\": \"\"\n      }\n    },\n    {\n      \"column\": \"daily_accounts\",\n      \"properties\": {\n        \"dtype\": \"number\",\n        \"std\": 2568.559729747105,\n        \"min\": 0.6,\n        \"max\": 7267.0,\n        \"num_unique_values\": 8,\n        \"samples\": [\n          2.1273290216045133,\n          2.3,\n          7267.0\n        ],\n        \"semantic_type\": \"\",\n        \"description\": \"\"\n      }\n    }\n  ]\n}"
            }
          },
          "metadata": {}
        }
      ]
    },
    {
      "cell_type": "markdown",
      "source": [
        "### Distribucion de Evasion"
      ],
      "metadata": {
        "id": "8qQsWKRuZusZ"
      }
    },
    {
      "cell_type": "markdown",
      "source": [
        "En este paso, el objetivo es comprender cómo está distribuida la variable \"churn\" (evasión) entre los clientes. Utiliza gráficos para visualizar la proporción de clientes que permanecieron y los que se dieron de baja."
      ],
      "metadata": {
        "id": "KysKe4jrZvdE"
      }
    },
    {
      "cell_type": "code",
      "metadata": {
        "colab": {
          "base_uri": "https://localhost:8080/",
          "height": 410
        },
        "id": "bee80193",
        "outputId": "5608f691-b470-4fde-a817-0ad7c4798569"
      },
      "source": [
        "import matplotlib.pyplot as plt\n",
        "import seaborn as sns\n",
        "\n",
        "# Contar la cantidad de clientes por cada valor de 'churn'\n",
        "churn_counts = df_flat['churn'].value_counts()\n",
        "\n",
        "# Crear el gráfico de barras\n",
        "plt.figure(figsize=(6, 4))\n",
        "sns.barplot(x=churn_counts.index, y=churn_counts.values)\n",
        "plt.title('Distribución de Churn')\n",
        "plt.xlabel('Churn')\n",
        "plt.ylabel('Número de Clientes')\n",
        "plt.show()"
      ],
      "execution_count": null,
      "outputs": [
        {
          "output_type": "display_data",
          "data": {
            "text/plain": [
              "<Figure size 600x400 with 1 Axes>"
            ],
            "image/png": "[encoded data removed]"
          },
          "metadata": {}
        }
      ]
    },
    {
      "cell_type": "markdown",
      "source": [
        "### Recuento de evasión por variables categóricas"
      ],
      "metadata": {
        "id": "dbOIp31LZ7oe"
      }
    },
    {
      "cell_type": "markdown",
      "source": [
        "Ahora, exploraremos cómo se distribuye la evasión según variables categóricas, como género, tipo de contrato, método de pago, entre otras.\n",
        "\n",
        "Este análisis puede revelar patrones interesantes, por ejemplo, si los clientes de ciertos perfiles tienen una mayor tendencia a cancelar el servicio, lo que ayudará a orientar acciones estratégicas."
      ],
      "metadata": {
        "id": "C4xwTT7hZ8z8"
      }
    },
    {
      "cell_type": "code",
      "source": [],
      "metadata": {
        "id": "XlDKAMuF_UoX"
      },
      "execution_count": null,
      "outputs": []
    },
    {
      "cell_type": "code",
      "metadata": {
        "id": "df98cec7",
        "outputId": "5ecd1385-0485-402c-f7c8-b04247aee09b",
        "colab": {
          "base_uri": "https://localhost:8080/",
          "height": 1000
        }
      },
      "source": [
        "import matplotlib.pyplot as plt\n",
        "import seaborn as sns\n",
        "import pandas as pd\n",
        "\n",
        "# Manejar los valores de cadena vacía en la columna 'churn' y convertir a numérico\n",
        "# Convertir '' a None (NaN) primero\n",
        "df_flat['churn'] = df_flat['churn'].replace('', None)\n",
        "# Convertir 'Yes' a 1 y 'No' a 0, forzando a NaN cualquier valor no numérico restante\n",
        "df_flat['churn'] = pd.to_numeric(df_flat['churn'].replace({'Yes': 1, 'No': 0}), errors='coerce')\n",
        "\n",
        "# Eliminar filas donde 'churn' es NaN después de la conversión\n",
        "df_flat_cleaned = df_flat.dropna(subset=['churn']).copy()\n",
        "\n",
        "# Identificar columnas relevantes para graficar la tasa de churn por categoría\n",
        "# Excluir 'customer_id' ya que no es una característica para agrupar en este análisis\n",
        "# Excluir 'churn' en sí misma ya que es la variable objetivo\n",
        "categorical_cols_to_plot = [col for col in df_flat_cleaned.select_dtypes(include=['category', 'object']).columns if col not in ['customer_id', 'churn', 'charges_total']]\n",
        "\n",
        "print(\"Generando gráficos de tasa de churn para las siguientes columnas categóricas:\")\n",
        "display(categorical_cols_to_plot)\n",
        "\n",
        "# Iterar a través de cada columna categórica y crear un gráfico de barras\n",
        "for col in categorical_cols_to_plot:\n",
        "    print(f\"\\nGenerando gráfico para '{col}':\")\n",
        "\n",
        "    # Calcular la tasa de churn por categoría (media de la columna binaria 'churn')\n",
        "    churn_rate_by_category = df_flat_cleaned.groupby(col)['churn'].mean().sort_values(ascending=False)\n",
        "\n",
        "    # Crear el gráfico de barras\n",
        "    plt.figure(figsize=(10, 6))\n",
        "    sns.barplot(x=churn_rate_by_category.index, y=churn_rate_by_category.values, palette='viridis')\n",
        "    plt.title(f'Tasa de Churn por {col.replace(\"_\", \" \").title()}', fontsize=14)\n",
        "    plt.xlabel(col.replace(\"_\", \" \").title(), fontsize=12)\n",
        "    plt.ylabel('Tasa de Churn', fontsize=12)\n",
        "    plt.xticks(rotation=45, ha='right') # Rotar etiquetas para una mejor legibilidad\n",
        "    plt.ylim(0, 1) # Establecer límite del eje y entre 0 y 1 para la tasa\n",
        "    plt.grid(axis='y', linestyle='--', alpha=0.7)\n",
        "    plt.tight_layout() # Ajustar el diseño para evitar que las etiquetas se superpongan\n",
        "    plt.show()"
      ],
      "execution_count": null,
      "outputs": [
        {
          "output_type": "stream",
          "name": "stdout",
          "text": [
            "Generando gráficos de tasa de churn para las siguientes columnas categóricas:\n"
          ]
        },
        {
          "output_type": "display_data",
          "data": {
            "text/plain": [
              "['gender',\n",
              " 'phone_service',\n",
              " 'multiple_lines',\n",
              " 'internet_service',\n",
              " 'online_security',\n",
              " 'online_backup',\n",
              " 'device_protection',\n",
              " 'tech_support',\n",
              " 'streaming_tv',\n",
              " 'streaming_movies',\n",
              " 'contract',\n",
              " 'paperless_billing',\n",
              " 'payment_method']"
            ]
          },
          "metadata": {}
        },
        {
          "output_type": "stream",
          "name": "stdout",
          "text": [
            "\n",
            "Generando gráfico para 'gender':\n"
          ]
        },
        {
          "output_type": "stream",
          "name": "stderr",
          "text": [
            "/tmp/ipython-input-122-296404456.py:27: FutureWarning: The default of observed=False is deprecated and will be changed to True in a future version of pandas. Pass observed=False to retain current behavior or observed=True to adopt the future default and silence this warning.\n",
            "  churn_rate_by_category = df_flat_cleaned.groupby(col)['churn'].mean().sort_values(ascending=False)\n",
            "/tmp/ipython-input-122-296404456.py:31: FutureWarning: \n",
            "\n",
            "Passing `palette` without assigning `hue` is deprecated and will be removed in v0.14.0. Assign the `x` variable to `hue` and set `legend=False` for the same effect.\n",
            "\n",
            "  sns.barplot(x=churn_rate_by_category.index, y=churn_rate_by_category.values, palette='viridis')\n"
          ]
        },
        {
          "output_type": "display_data",
          "data": {
            "text/plain": [
              "<Figure size 1000x600 with 1 Axes>"
            ],
            "image/png": "[encoded data removed]"
          },
          "metadata": {}
        },
        {
          "output_type": "stream",
          "name": "stdout",
          "text": [
            "\n",
            "Generando gráfico para 'phone_service':\n"
          ]
        },
        {
          "output_type": "stream",
          "name": "stderr",
          "text": [
            "/tmp/ipython-input-122-296404456.py:27: FutureWarning: The default of observed=False is deprecated and will be changed to True in a future version of pandas. Pass observed=False to retain current behavior or observed=True to adopt the future default and silence this warning.\n",
            "  churn_rate_by_category = df_flat_cleaned.groupby(col)['churn'].mean().sort_values(ascending=False)\n",
            "/tmp/ipython-input-122-296404456.py:31: FutureWarning: \n",
            "\n",
            "Passing `palette` without assigning `hue` is deprecated and will be removed in v0.14.0. Assign the `x` variable to `hue` and set `legend=False` for the same effect.\n",
            "\n",
            "  sns.barplot(x=churn_rate_by_category.index, y=churn_rate_by_category.values, palette='viridis')\n"
          ]
        },
        {
          "output_type": "display_data",
          "data": {
            "text/plain": [
              "<Figure size 1000x600 with 1 Axes>"
            ],
            "image/png": "[encoded data removed]"
          },
          "metadata": {}
        },
        {
          "output_type": "stream",
          "name": "stdout",
          "text": [
            "\n",
            "Generando gráfico para 'multiple_lines':\n"
          ]
        },
        {
          "output_type": "stream",
          "name": "stderr",
          "text": [
            "/tmp/ipython-input-122-296404456.py:27: FutureWarning: The default of observed=False is deprecated and will be changed to True in a future version of pandas. Pass observed=False to retain current behavior or observed=True to adopt the future default and silence this warning.\n",
            "  churn_rate_by_category = df_flat_cleaned.groupby(col)['churn'].mean().sort_values(ascending=False)\n",
            "/tmp/ipython-input-122-296404456.py:31: FutureWarning: \n",
            "\n",
            "Passing `palette` without assigning `hue` is deprecated and will be removed in v0.14.0. Assign the `x` variable to `hue` and set `legend=False` for the same effect.\n",
            "\n",
            "  sns.barplot(x=churn_rate_by_category.index, y=churn_rate_by_category.values, palette='viridis')\n"
          ]
        },
        {
          "output_type": "display_data",
          "data": {
            "text/plain": [
              "<Figure size 1000x600 with 1 Axes>"
            ],
            "image/png": "[encoded data removed]"
          },
          "metadata": {}
        },
        {
          "output_type": "stream",
          "name": "stdout",
          "text": [
            "\n",
            "Generando gráfico para 'internet_service':\n"
          ]
        },
        {
          "output_type": "stream",
          "name": "stderr",
          "text": [
            "/tmp/ipython-input-122-296404456.py:27: FutureWarning: The default of observed=False is deprecated and will be changed to True in a future version of pandas. Pass observed=False to retain current behavior or observed=True to adopt the future default and silence this warning.\n",
            "  churn_rate_by_category = df_flat_cleaned.groupby(col)['churn'].mean().sort_values(ascending=False)\n",
            "/tmp/ipython-input-122-296404456.py:31: FutureWarning: \n",
            "\n",
            "Passing `palette` without assigning `hue` is deprecated and will be removed in v0.14.0. Assign the `x` variable to `hue` and set `legend=False` for the same effect.\n",
            "\n",
            "  sns.barplot(x=churn_rate_by_category.index, y=churn_rate_by_category.values, palette='viridis')\n"
          ]
        },
        {
          "output_type": "display_data",
          "data": {
            "text/plain": [
              "<Figure size 1000x600 with 1 Axes>"
            ],
            "image/png": "[encoded data removed]"
          },
          "metadata": {}
        },
        {
          "output_type": "stream",
          "name": "stdout",
          "text": [
            "\n",
            "Generando gráfico para 'online_security':\n"
          ]
        },
        {
          "output_type": "stream",
          "name": "stderr",
          "text": [
            "/tmp/ipython-input-122-296404456.py:27: FutureWarning: The default of observed=False is deprecated and will be changed to True in a future version of pandas. Pass observed=False to retain current behavior or observed=True to adopt the future default and silence this warning.\n",
            "  churn_rate_by_category = df_flat_cleaned.groupby(col)['churn'].mean().sort_values(ascending=False)\n",
            "/tmp/ipython-input-122-296404456.py:31: FutureWarning: \n",
            "\n",
            "Passing `palette` without assigning `hue` is deprecated and will be removed in v0.14.0. Assign the `x` variable to `hue` and set `legend=False` for the same effect.\n",
            "\n",
            "  sns.barplot(x=churn_rate_by_category.index, y=churn_rate_by_category.values, palette='viridis')\n"
          ]
        },
        {
          "output_type": "display_data",
          "data": {
            "text/plain": [
              "<Figure size 1000x600 with 1 Axes>"
            ],
            "image/png": "[encoded data removed]"
          },
          "metadata": {}
        },
        {
          "output_type": "stream",
          "name": "stdout",
          "text": [
            "\n",
            "Generando gráfico para 'online_backup':\n"
          ]
        },
        {
          "output_type": "stream",
          "name": "stderr",
          "text": [
            "/tmp/ipython-input-122-296404456.py:27: FutureWarning: The default of observed=False is deprecated and will be changed to True in a future version of pandas. Pass observed=False to retain current behavior or observed=True to adopt the future default and silence this warning.\n",
            "  churn_rate_by_category = df_flat_cleaned.groupby(col)['churn'].mean().sort_values(ascending=False)\n",
            "/tmp/ipython-input-122-296404456.py:31: FutureWarning: \n",
            "\n",
            "Passing `palette` without assigning `hue` is deprecated and will be removed in v0.14.0. Assign the `x` variable to `hue` and set `legend=False` for the same effect.\n",
            "\n",
            "  sns.barplot(x=churn_rate_by_category.index, y=churn_rate_by_category.values, palette='viridis')\n"
          ]
        },
        {
          "output_type": "display_data",
          "data": {
            "text/plain": [
              "<Figure size 1000x600 with 1 Axes>"
            ],
            "image/png": "[encoded data removed]"
          },
          "metadata": {}
        },
        {
          "output_type": "stream",
          "name": "stdout",
          "text": [
            "\n",
            "Generando gráfico para 'device_protection':\n"
          ]
        },
        {
          "output_type": "stream",
          "name": "stderr",
          "text": [
            "/tmp/ipython-input-122-296404456.py:27: FutureWarning: The default of observed=False is deprecated and will be changed to True in a future version of pandas. Pass observed=False to retain current behavior or observed=True to adopt the future default and silence this warning.\n",
            "  churn_rate_by_category = df_flat_cleaned.groupby(col)['churn'].mean().sort_values(ascending=False)\n",
            "/tmp/ipython-input-122-296404456.py:31: FutureWarning: \n",
            "\n",
            "Passing `palette` without assigning `hue` is deprecated and will be removed in v0.14.0. Assign the `x` variable to `hue` and set `legend=False` for the same effect.\n",
            "\n",
            "  sns.barplot(x=churn_rate_by_category.index, y=churn_rate_by_category.values, palette='viridis')\n"
          ]
        },
        {
          "output_type": "display_data",
          "data": {
            "text/plain": [
              "<Figure size 1000x600 with 1 Axes>"
            ],
            "image/png": "[encoded data removed]"
          },
          "metadata": {}
        },
        {
          "output_type": "stream",
          "name": "stdout",
          "text": [
            "\n",
            "Generando gráfico para 'tech_support':\n"
          ]
        },
        {
          "output_type": "stream",
          "name": "stderr",
          "text": [
            "/tmp/ipython-input-122-296404456.py:27: FutureWarning: The default of observed=False is deprecated and will be changed to True in a future version of pandas. Pass observed=False to retain current behavior or observed=True to adopt the future default and silence this warning.\n",
            "  churn_rate_by_category = df_flat_cleaned.groupby(col)['churn'].mean().sort_values(ascending=False)\n",
            "/tmp/ipython-input-122-296404456.py:31: FutureWarning: \n",
            "\n",
            "Passing `palette` without assigning `hue` is deprecated and will be removed in v0.14.0. Assign the `x` variable to `hue` and set `legend=False` for the same effect.\n",
            "\n",
            "  sns.barplot(x=churn_rate_by_category.index, y=churn_rate_by_category.values, palette='viridis')\n"
          ]
        },
        {
          "output_type": "display_data",
          "data": {
            "text/plain": [
              "<Figure size 1000x600 with 1 Axes>"
            ],
            "image/png": "[encoded data removed]"
          },
          "metadata": {}
        },
        {
          "output_type": "stream",
          "name": "stdout",
          "text": [
            "\n",
            "Generando gráfico para 'streaming_tv':\n"
          ]
        },
        {
          "output_type": "stream",
          "name": "stderr",
          "text": [
            "/tmp/ipython-input-122-296404456.py:27: FutureWarning: The default of observed=False is deprecated and will be changed to True in a future version of pandas. Pass observed=False to retain current behavior or observed=True to adopt the future default and silence this warning.\n",
            "  churn_rate_by_category = df_flat_cleaned.groupby(col)['churn'].mean().sort_values(ascending=False)\n",
            "/tmp/ipython-input-122-296404456.py:31: FutureWarning: \n",
            "\n",
            "Passing `palette` without assigning `hue` is deprecated and will be removed in v0.14.0. Assign the `x` variable to `hue` and set `legend=False` for the same effect.\n",
            "\n",
            "  sns.barplot(x=churn_rate_by_category.index, y=churn_rate_by_category.values, palette='viridis')\n"
          ]
        },
        {
          "output_type": "display_data",
          "data": {
            "text/plain": [
              "<Figure size 1000x600 with 1 Axes>"
            ],
            "image/png": "[encoded data removed]"
          },
          "metadata": {}
        },
        {
          "output_type": "stream",
          "name": "stdout",
          "text": [
            "\n",
            "Generando gráfico para 'streaming_movies':\n"
          ]
        },
        {
          "output_type": "stream",
          "name": "stderr",
          "text": [
            "/tmp/ipython-input-122-296404456.py:27: FutureWarning: The default of observed=False is deprecated and will be changed to True in a future version of pandas. Pass observed=False to retain current behavior or observed=True to adopt the future default and silence this warning.\n",
            "  churn_rate_by_category = df_flat_cleaned.groupby(col)['churn'].mean().sort_values(ascending=False)\n",
            "/tmp/ipython-input-122-296404456.py:31: FutureWarning: \n",
            "\n",
            "Passing `palette` without assigning `hue` is deprecated and will be removed in v0.14.0. Assign the `x` variable to `hue` and set `legend=False` for the same effect.\n",
            "\n",
            "  sns.barplot(x=churn_rate_by_category.index, y=churn_rate_by_category.values, palette='viridis')\n"
          ]
        },
        {
          "output_type": "display_data",
          "data": {
            "text/plain": [
              "<Figure size 1000x600 with 1 Axes>"
            ],
            "image/png": "[encoded data removed]"
          },
          "metadata": {}
        },
        {
          "output_type": "stream",
          "name": "stdout",
          "text": [
            "\n",
            "Generando gráfico para 'contract':\n"
          ]
        },
        {
          "output_type": "stream",
          "name": "stderr",
          "text": [
            "/tmp/ipython-input-122-296404456.py:27: FutureWarning: The default of observed=False is deprecated and will be changed to True in a future version of pandas. Pass observed=False to retain current behavior or observed=True to adopt the future default and silence this warning.\n",
            "  churn_rate_by_category = df_flat_cleaned.groupby(col)['churn'].mean().sort_values(ascending=False)\n",
            "/tmp/ipython-input-122-296404456.py:31: FutureWarning: \n",
            "\n",
            "Passing `palette` without assigning `hue` is deprecated and will be removed in v0.14.0. Assign the `x` variable to `hue` and set `legend=False` for the same effect.\n",
            "\n",
            "  sns.barplot(x=churn_rate_by_category.index, y=churn_rate_by_category.values, palette='viridis')\n"
          ]
        },
        {
          "output_type": "display_data",
          "data": {
            "text/plain": [
              "<Figure size 1000x600 with 1 Axes>"
            ],
            "image/png": "[encoded data removed]"
          },
          "metadata": {}
        },
        {
          "output_type": "stream",
          "name": "stdout",
          "text": [
            "\n",
            "Generando gráfico para 'paperless_billing':\n"
          ]
        },
        {
          "output_type": "stream",
          "name": "stderr",
          "text": [
            "/tmp/ipython-input-122-296404456.py:27: FutureWarning: The default of observed=False is deprecated and will be changed to True in a future version of pandas. Pass observed=False to retain current behavior or observed=True to adopt the future default and silence this warning.\n",
            "  churn_rate_by_category = df_flat_cleaned.groupby(col)['churn'].mean().sort_values(ascending=False)\n",
            "/tmp/ipython-input-122-296404456.py:31: FutureWarning: \n",
            "\n",
            "Passing `palette` without assigning `hue` is deprecated and will be removed in v0.14.0. Assign the `x` variable to `hue` and set `legend=False` for the same effect.\n",
            "\n",
            "  sns.barplot(x=churn_rate_by_category.index, y=churn_rate_by_category.values, palette='viridis')\n"
          ]
        },
        {
          "output_type": "display_data",
          "data": {
            "text/plain": [
              "<Figure size 1000x600 with 1 Axes>"
            ],
            "image/png": "[encoded data removed]"
          },
          "metadata": {}
        },
        {
          "output_type": "stream",
          "name": "stdout",
          "text": [
            "\n",
            "Generando gráfico para 'payment_method':\n"
          ]
        },
        {
          "output_type": "stream",
          "name": "stderr",
          "text": [
            "/tmp/ipython-input-122-296404456.py:27: FutureWarning: The default of observed=False is deprecated and will be changed to True in a future version of pandas. Pass observed=False to retain current behavior or observed=True to adopt the future default and silence this warning.\n",
            "  churn_rate_by_category = df_flat_cleaned.groupby(col)['churn'].mean().sort_values(ascending=False)\n",
            "/tmp/ipython-input-122-296404456.py:31: FutureWarning: \n",
            "\n",
            "Passing `palette` without assigning `hue` is deprecated and will be removed in v0.14.0. Assign the `x` variable to `hue` and set `legend=False` for the same effect.\n",
            "\n",
            "  sns.barplot(x=churn_rate_by_category.index, y=churn_rate_by_category.values, palette='viridis')\n"
          ]
        },
        {
          "output_type": "display_data",
          "data": {
            "text/plain": [
              "<Figure size 1000x600 with 1 Axes>"
            ],
            "image/png": "[encoded data removed]"
          },
          "metadata": {}
        }
      ]
    },
    {
      "cell_type": "markdown",
      "source": [
        "### Conteo de evasión por variables numéricas"
      ],
      "metadata": {
        "id": "3VsA4DPkaBQ0"
      }
    },
    {
      "cell_type": "markdown",
      "source": [
        "En este paso, explora cómo las variables numéricas, como \"total gastado\" o \"tiempo de contrato\", se distribuyen entre los clientes que cancelaron (evasión) y los que no cancelaron.\n",
        "\n",
        "Este análisis ayuda a entender si ciertos valores numéricos están más asociados con la evasión, proporcionando insights sobre los factores que influyen en el comportamiento de los clientes."
      ],
      "metadata": {
        "id": "Ry6pxuE8aEAw"
      }
    },
    {
      "cell_type": "code",
      "metadata": {
        "colab": {
          "base_uri": "https://localhost:8080/",
          "height": 1000
        },
        "id": "7d9e91b1",
        "outputId": "118232cd-35b4-40c4-a3ae-a6939c4b7ad2"
      },
      "source": [
        "import matplotlib.pyplot as plt\n",
        "import seaborn as sns\n",
        "\n",
        "# Identificar columnas numéricas binarias (0 o 1)\n",
        "binary_numeric_cols = ['senior_citizen', 'partner', 'dependents']\n",
        "\n",
        "print(\"Generando gráficos de tasa de churn para las siguientes columnas numéricas binarias:\")\n",
        "display(binary_numeric_cols)\n",
        "\n",
        "# Iterar a través de cada columna numérica binaria y crear un gráfico de barras\n",
        "for col in binary_numeric_cols:\n",
        "    print(f\"\\nGenerando gráfico para '{col}':\")\n",
        "\n",
        "    # Calcular la tasa de churn por categoría (media de la columna binaria 'churn')\n",
        "    churn_rate_by_category = df_flat_cleaned.groupby(col)['churn'].mean().sort_values(ascending=False)\n",
        "\n",
        "    # Crear el gráfico de barras\n",
        "    plt.figure(figsize=(8, 5))\n",
        "    sns.barplot(x=churn_rate_by_category.index, y=churn_rate_by_category.values, palette='viridis')\n",
        "    plt.title(f'Tasa de Churn por {col.replace(\"_\", \" \").title()}', fontsize=14)\n",
        "    plt.xlabel(col.replace(\"_\", \" \").title(), fontsize=12)\n",
        "    plt.ylabel('Tasa de Churn', fontsize=12)\n",
        "    plt.xticks(ticks=[0, 1], labels=['No', 'Yes']) # Etiquetas para 0 y 1\n",
        "    plt.ylim(0, 1) # Establecer límite del eje y entre 0 y 1 para la tasa\n",
        "    plt.grid(axis='y', linestyle='--', alpha=0.7)\n",
        "    plt.tight_layout() # Ajustar el diseño para evitar que las etiquetas se superpongan\n",
        "    plt.show()"
      ],
      "execution_count": null,
      "outputs": [
        {
          "output_type": "stream",
          "name": "stdout",
          "text": [
            "Generando gráficos de tasa de churn para las siguientes columnas numéricas binarias:\n"
          ]
        },
        {
          "output_type": "display_data",
          "data": {
            "text/plain": [
              "['senior_citizen', 'partner', 'dependents']"
            ]
          },
          "metadata": {}
        },
        {
          "output_type": "stream",
          "name": "stdout",
          "text": [
            "\n",
            "Generando gráfico para 'senior_citizen':\n"
          ]
        },
        {
          "output_type": "stream",
          "name": "stderr",
          "text": [
            "/tmp/ipython-input-123-1924766832.py:19: FutureWarning: \n",
            "\n",
            "Passing `palette` without assigning `hue` is deprecated and will be removed in v0.14.0. Assign the `x` variable to `hue` and set `legend=False` for the same effect.\n",
            "\n",
            "  sns.barplot(x=churn_rate_by_category.index, y=churn_rate_by_category.values, palette='viridis')\n"
          ]
        },
        {
          "output_type": "display_data",
          "data": {
            "text/plain": [
              "<Figure size 800x500 with 1 Axes>"
            ],
            "image/png": "[encoded data removed]"
          },
          "metadata": {}
        },
        {
          "output_type": "stream",
          "name": "stdout",
          "text": [
            "\n",
            "Generando gráfico para 'partner':\n"
          ]
        },
        {
          "output_type": "stream",
          "name": "stderr",
          "text": [
            "/tmp/ipython-input-123-1924766832.py:19: FutureWarning: \n",
            "\n",
            "Passing `palette` without assigning `hue` is deprecated and will be removed in v0.14.0. Assign the `x` variable to `hue` and set `legend=False` for the same effect.\n",
            "\n",
            "  sns.barplot(x=churn_rate_by_category.index, y=churn_rate_by_category.values, palette='viridis')\n"
          ]
        },
        {
          "output_type": "display_data",
          "data": {
            "text/plain": [
              "<Figure size 800x500 with 1 Axes>"
            ],
            "image/png": "[encoded data removed]"
          },
          "metadata": {}
        },
        {
          "output_type": "stream",
          "name": "stdout",
          "text": [
            "\n",
            "Generando gráfico para 'dependents':\n"
          ]
        },
        {
          "output_type": "stream",
          "name": "stderr",
          "text": [
            "/tmp/ipython-input-123-1924766832.py:19: FutureWarning: \n",
            "\n",
            "Passing `palette` without assigning `hue` is deprecated and will be removed in v0.14.0. Assign the `x` variable to `hue` and set `legend=False` for the same effect.\n",
            "\n",
            "  sns.barplot(x=churn_rate_by_category.index, y=churn_rate_by_category.values, palette='viridis')\n"
          ]
        },
        {
          "output_type": "display_data",
          "data": {
            "text/plain": [
              "<Figure size 800x500 with 1 Axes>"
            ],
            "image/png": "[encoded data removed]"
          },
          "metadata": {}
        }
      ]
    },
    {
      "cell_type": "code",
      "metadata": {
        "colab": {
          "base_uri": "https://localhost:8080/",
          "height": 608
        },
        "id": "45831493",
        "outputId": "b79cd231-83bd-4f4c-8a13-f2ea68d0a68b"
      },
      "source": [
        "import matplotlib.pyplot as plt\n",
        "import seaborn as sns\n",
        "import pandas as pd\n",
        "\n",
        "# Identificar columnas numéricas binarias (0 o 1)\n",
        "binary_numeric_cols = ['senior_citizen', 'partner', 'dependents']\n",
        "\n",
        "print(\"Generando gráficos unificados de tasa de churn para las columnas numéricas binarias:\")\n",
        "\n",
        "# Crear una figura con subplots\n",
        "n_cols = len(binary_numeric_cols)\n",
        "fig, axes = plt.subplots(1, n_cols, figsize=(6 * n_cols, 5)) # Ajustar tamaño según el número de columnas\n",
        "\n",
        "# Asegurarse de que axes sea un array en caso de que solo haya una columna\n",
        "if n_cols == 1:\n",
        "    axes = [axes]\n",
        "\n",
        "# Iterar a través de cada columna binaria y crear un gráfico de barras en su subplot\n",
        "for i, col in enumerate(binary_numeric_cols):\n",
        "    # Calcular la tasa de churn por categoría\n",
        "    churn_rate_by_category = df_flat_cleaned.groupby(col)['churn'].mean().sort_values(ascending=False)\n",
        "\n",
        "    # Crear el gráfico de barras en el subplot actual\n",
        "    sns.barplot(x=churn_rate_by_category.index, y=churn_rate_by_category.values, palette='viridis', ax=axes[i])\n",
        "    axes[i].set_title(f'Tasa de Churn por {col.replace(\"_\", \" \").title()}', fontsize=14)\n",
        "    axes[i].set_xlabel(col.replace(\"_\", \" \").title(), fontsize=12)\n",
        "    axes[i].set_ylabel('Tasa de Churn', fontsize=12)\n",
        "    axes[i].set_xticks(ticks=[0, 1], labels=['No', 'Yes'])\n",
        "    axes[i].set_ylim(0, 1)\n",
        "    axes[i].grid(axis='y', linestyle='--', alpha=0.7)\n",
        "\n",
        "plt.tight_layout() # Ajustar el diseño para evitar superposiciones\n",
        "plt.show()"
      ],
      "execution_count": null,
      "outputs": [
        {
          "output_type": "stream",
          "name": "stdout",
          "text": [
            "Generando gráficos unificados de tasa de churn para las columnas numéricas binarias:\n"
          ]
        },
        {
          "output_type": "stream",
          "name": "stderr",
          "text": [
            "/tmp/ipython-input-124-3367190248.py:24: FutureWarning: \n",
            "\n",
            "Passing `palette` without assigning `hue` is deprecated and will be removed in v0.14.0. Assign the `x` variable to `hue` and set `legend=False` for the same effect.\n",
            "\n",
            "  sns.barplot(x=churn_rate_by_category.index, y=churn_rate_by_category.values, palette='viridis', ax=axes[i])\n",
            "/tmp/ipython-input-124-3367190248.py:24: FutureWarning: \n",
            "\n",
            "Passing `palette` without assigning `hue` is deprecated and will be removed in v0.14.0. Assign the `x` variable to `hue` and set `legend=False` for the same effect.\n",
            "\n",
            "  sns.barplot(x=churn_rate_by_category.index, y=churn_rate_by_category.values, palette='viridis', ax=axes[i])\n",
            "/tmp/ipython-input-124-3367190248.py:24: FutureWarning: \n",
            "\n",
            "Passing `palette` without assigning `hue` is deprecated and will be removed in v0.14.0. Assign the `x` variable to `hue` and set `legend=False` for the same effect.\n",
            "\n",
            "  sns.barplot(x=churn_rate_by_category.index, y=churn_rate_by_category.values, palette='viridis', ax=axes[i])\n"
          ]
        },
        {
          "output_type": "display_data",
          "data": {
            "text/plain": [
              "<Figure size 1800x500 with 3 Axes>"
            ],
            "image/png": "[encoded data removed]"
          },
          "metadata": {}
        }
      ]
    },
    {
      "cell_type": "markdown",
      "metadata": {
        "id": "7418113d"
      },
      "source": [
        "## Informe Final: Análisis de Churn de Clientes en Telecom X\n",
        "\n",
        "### Introducción\n",
        "\n",
        "Este informe presenta un análisis exploratorio de datos (EDA) sobre el churn de clientes en la empresa Telecom X. El objetivo principal es identificar los factores que contribuyen a que los clientes cancelen sus servicios, con el fin de proponer estrategias para reducir la tasa de evasión. El churn de clientes representa una pérdida significativa de ingresos y recursos para la empresa, por lo que comprender sus causas es crucial para la retención y el crecimiento del negocio.\n",
        "\n",
        "### Limpieza y Tratamiento de Datos\n",
        "\n",
        "En esta sección, se describen los pasos realizados para preparar los datos para el análisis:\n",
        "\n",
        "*   **Carga de Datos:** Los datos fueron cargados desde un archivo JSON.\n",
        "*   **Normalización:** Las columnas anidadas ('customer', 'phone', 'internet', 'account') fueron normalizadas para extraer la información relevante.\n",
        "*   **Renombrado de Columnas:** Los nombres de las columnas se estandarizaron a minúsculas y se reemplazaron caracteres especiales por guiones bajos para facilitar el acceso.\n",
        "*   **Tratamiento de Valores Faltantes y Duplicados:** Se verificó la presencia de valores nulos y filas duplicadas. Se identificó y manejó un valor atípico (' ') en la columna `charges_total`. Se convirtió la columna `churn` a formato numérico (1 para 'Yes', 0 para 'No') y se trataron los valores vacíos como nulos para su posterior manejo en el análisis.\n",
        "*   **Conversión de Tipos de Datos:** Se convirtieron columnas categóricas al tipo 'category' para optimizar el uso de memoria y algunas columnas numéricas a tipos numéricos adecuados.\n",
        "*   **Creación de Nueva Columna:** Se creó la columna `daily_accounts` calculando el cargo diario a partir de la columna `charges_monthly`.\n",
        "\n",
        "### Análisis Exploratorio de Datos\n",
        "\n",
        "Se realizaron diversos análisis para comprender la distribución de los datos y la relación entre las variables y el churn:\n",
        "\n",
        "*   **Análisis Descriptivo:** Se calcularon estadísticas descriptivas (media, mediana, desviación estándar, etc.) para las columnas numéricas.\n",
        "*   **Distribución de Churn:** Se visualizó la proporción de clientes con y sin churn mediante un gráfico de barras.\n",
        "*   **Recuento de Churn por Variables Categóricas:** Se generaron gráficos de barras para mostrar la tasa de churn para cada categoría en las columnas categóricas relevantes. (Insertar aquí descripciones de los hallazgos clave de estos gráficos, por ejemplo, \"Los clientes con contrato mes a mes tienen una tasa de churn significativamente mayor que aquellos con contratos a largo plazo\").\n",
        "*   **Recuento de Churn por Variables Numéricas:** Se crearon histogramas y box plots para visualizar la distribución de variables numéricas (como `tenure`, `charges_monthly`, `charges_total`, `daily_accounts`) comparando los grupos con y sin churn. (Insertar aquí descripciones de los hallazgos clave de estos gráficos, por ejemplo, \"Los clientes con menor tiempo de contrato (`tenure`) muestran una mayor propensión al churn\").\n",
        "\n",
        "### Conclusiones e Insights\n",
        "\n",
        "Basado en el análisis exploratorio, se identificaron los siguientes puntos clave:\n",
        "\n",
        "Servicio de Internet: Los clientes con servicio de internet de Fibra Óptica parecen tener una tasa de churn más alta que aquellos con DSL o sin servicio de internet. Esto podría indicar problemas con la calidad o el costo del servicio de fibra.\n",
        "\n",
        "\n",
        "\n",
        "Servicios Adicionales de Internet: Los clientes que no tienen servicios adicionales como OnlineSecurity, OnlineBackup, DeviceProtection y TechSupport tienden a tener una tasa de churn más alta que aquellos que sí los tienen o no tienen servicio de internet. Esto sugiere que estos servicios de seguridad y soporte son importantes para la retención.\n",
        "\n",
        "\n",
        "\n",
        "\n",
        "\n",
        "Facturación Electrónica (PaperlessBilling): Los clientes que optan por la facturación electrónica (Yes/1) muestran una tasa de churn ligeramente más alta que aquellos que prefieren la facturación en papel (No/0).\n",
        "Método de Pago: El método de pago de Cheque Electrónico (Electronic check) está asociado con una tasa de churn notablemente más alta en comparación con otros métodos de pago (cheque enviado, transferencia bancaria automática, tarjeta de crédito automática).\n",
        "\n",
        "\n",
        "\n",
        "Tiempo de Permanencia (Tenure): (Basado en los gráficos de rangos de tenure) Generalmente, los clientes con menor tiempo de permanencia en la empresa tienen una tasa de churn más alta. La probabilidad de churn parece disminuir a medida que los clientes permanecen más tiempo.\n",
        "\n",
        "\n",
        "\n",
        "Cargos Mensuales (Charges.Monthly): (Basado en los gráficos de rangos de charges_monthly) Los clientes con cargos mensuales más altos tienden a tener una tasa de churn más alta. Esto podría relacionarse con el tipo de servicios contratados (como fibra óptica) o la percepción del valor.\n",
        "\n",
        "\n",
        "\n",
        "Cargos Totales (Charges.Total): (Basado en los gráficos de rangos de charges_total) La relación entre los cargos totales y el churn es menos lineal que los cargos mensuales, pero los rangos de cargos totales más bajos (que a menudo corresponden a menor tiempo de permanencia) muestran tasas de churn más altas.\n",
        "\n",
        "\n",
        "\n",
        "Ciudadano Mayor (SeniorCitizen): Los ciudadanos mayores (Yes/1) tienen una tasa de churn ligeramente más alta que los no ciudadanos mayores (No/0).\n",
        "Pareja (Partner) y Dependientes (Dependents): Los clientes que no tienen pareja (No/0) o dependientes (No/0) tienden a tener tasas de churn más altas que aquellos que sí los tienen (Yes/1). Esto podría indicar que los clientes con vínculos familiares tienen más razones para permanecer con el servicio.\n",
        "Estos hallazgos sugieren que el tipo de contrato, el tiempo de permanencia, y los cargos mensuales son factores importantes a considerar en la estrategia de retención de clientes.\n",
        "\n",
        "### Recomendaciones\n",
        "\n",
        "Con base en los hallazgos del análisis, se proponen las siguientes recomendaciones para reducir el churn de clientes:\n",
        "\n",
        "*   **Estrategias de Retención para Clientes con Contratos Mes a Mes:** Considerar ofrecer incentivos o descuentos para que los clientes con contratos mes a mes opten por planes a más largo plazo.\n",
        "*   **Programas de Fidelización para Clientes con Menor Antigüedad:** Implementar programas de bienvenida o seguimiento proactivo para los clientes nuevos o con pocos meses de servicio para asegurar su satisfacción.\n",
        "*   **Análisis de Clientes con Altos Cargos Mensuales:** Investigar las razones detrás del churn en el segmento de clientes con altos cargos mensuales para identificar posibles problemas con el servicio o la percepción de valor.\n",
        "\n",
        "\n",
        "Implementar estas recomendaciones, respaldadas por un seguimiento continuo y un análisis más profundo, puede ayudar a Telecom X a reducir su tasa de churn y mejorar la retención de clientes."
      ]
    },
    {
      "cell_type": "code",
      "source": [],
      "metadata": {
        "id": "uaUXIhG_Apib"
      },
      "execution_count": null,
      "outputs": []
    },
    {
      "cell_type": "markdown",
      "source": [
        "## D) Entrega del Desafio"
      ],
      "metadata": {
        "id": "_OuIm3alatwY"
      }
    },
    {
      "cell_type": "markdown",
      "source": [
        "### Readme"
      ],
      "metadata": {
        "id": "h9t9kYJRawi9"
      }
    },
    {
      "cell_type": "markdown",
      "metadata": {
        "id": "99257e1f"
      },
      "source": [
        "# Proyecto: Análisis de Churn de Clientes en Telecom X\n",
        "\n",
        "## Descripción del Proyecto\n",
        "\n",
        "Este proyecto tiene como objetivo principal analizar el comportamiento de los clientes de la empresa Telecom X para identificar los factores que influyen en la tasa de cancelación de servicios (churn). A través de la exploración y visualización de datos, buscamos comprender por qué los clientes se van y proponer estrategias basadas en datos para mejorar la retención de clientes.\n",
        "\n",
        "Los datos utilizados provienen de una base de datos de clientes de Telecom X en formato JSON, conteniendo información demográfica, servicios contratados y estado de churn.\n",
        "\n",
        "## Estructura del Proyecto\n",
        "\n",
        "El proyecto está organizado en un cuaderno de Google Colab que sigue un flujo de trabajo típico de análisis de datos:\n",
        "\n",
        "1.  **Extracción de Datos:** Carga inicial de los datos desde la fuente JSON.\n",
        "2.  **Conocimiento del Conjunto de Datos:** Exploración inicial de la estructura, tipos de datos y valores únicos.\n",
        "3.  **Limpieza y Tratamiento de Datos:** Normalización de columnas anidadas, manejo de valores faltantes y duplicados, corrección de tipos de datos y estandarización de nombres.\n",
        "4.  **Análisis Exploratorio de Datos (EDA):** Realización de análisis descriptivos y visualizaciones (gráficos de distribución, tasas de churn por categoría) para identificar patrones y relaciones.\n",
        "5.  **Informe Final:** Resumen de los hallazgos clave, conclusiones e insights, y recomendaciones estratégicas.\n",
        "\n",
        "## Datos\n",
        "\n",
        "El conjunto de datos utilizado para este análisis se encuentra en formato JSON y está disponible en el siguiente enlace:\n",
        "\n",
        "`https://raw.githubusercontent.com/ingridcristh/challenge2-data-science-LATAM/main/TelecomX_Data.json`\n",
        "\n",
        "Se incluye un diccionario de datos en formato Markdown en el siguiente enlace:\n",
        "\n",
        "`https://raw.githubusercontent.com/ingridcristh/challenge2-data-science-LATAM/main/TelecomX_diccionario.md`\n",
        "\n",
        "## Cómo Ejecutar el Cuaderno\n",
        "\n",
        "Para ejecutar este análisis, sigue los siguientes pasos:\n",
        "\n",
        "1.  Abre el cuaderno en Google Colab.\n",
        "2.  Asegúrate de tener una conexión a internet para descargar los datos.\n",
        "3.  Ejecuta cada celda de código secuencialmente. El cuaderno contiene comentarios y texto explicativo para guiarte a través del proceso.\n",
        "\n",
        "## Dependencias\n",
        "\n",
        "El cuaderno utiliza las siguientes bibliotecas de Python:\n",
        "\n",
        "*   `pandas`: Para manipulación y análisis de datos.\n",
        "*   `matplotlib`: Para la creación de visualizaciones estáticas.\n",
        "*   `seaborn`: Para la creación de visualizaciones estadísticas atractivas.\n",
        "*   `requests`: Para descargar el diccionario de datos desde una URL.\n",
        "\n",
        "Estas bibliotecas están preinstaladas en el entorno de Google Colab.\n",
        "\n",
        "## Hallazgos Clave\n",
        "\n",
        "(Esta sección debe ser completada después de ejecutar el análisis y revisar el informe final. Puedes resumir los principales hallazgos sobre qué factores están más relacionados con el churn).\n",
        "\n",
        "## Recomendaciones\n",
        "\n",
        "(Esta sección debe ser completada después de revisar las recomendaciones en el informe final. Puedes listar las sugerencias estratégicas para reducir el churn).\n",
        "\n"
      ]
    },
    {
      "cell_type": "code",
      "source": [
        "\n",
        "# Mostrar información general del DataFrame df_flat\n",
        "print(\"\\nInformación general del DataFrame df_flat:\")\n",
        "display(df_flat.info())"
      ],
      "metadata": {
        "colab": {
          "base_uri": "https://localhost:8080/",
          "height": 572
        },
        "id": "q3Bit8XZ9WTa",
        "outputId": "0483d119-efc8-4df3-a371-c88acc2bcd76"
      },
      "execution_count": null,
      "outputs": [
        {
          "output_type": "stream",
          "name": "stdout",
          "text": [
            "\n",
            "Información general del DataFrame df_flat:\n",
            "<class 'pandas.core.frame.DataFrame'>\n",
            "RangeIndex: 7267 entries, 0 to 7266\n",
            "Data columns (total 22 columns):\n",
            " #   Column             Non-Null Count  Dtype   \n",
            "---  ------             --------------  -----   \n",
            " 0   customer_id        7267 non-null   object  \n",
            " 1   churn              7043 non-null   float64 \n",
            " 2   gender             7267 non-null   category\n",
            " 3   senior_citizen     7267 non-null   int64   \n",
            " 4   partner            7267 non-null   int64   \n",
            " 5   dependents         7267 non-null   int64   \n",
            " 6   tenure             7267 non-null   int64   \n",
            " 7   phone_service      7267 non-null   category\n",
            " 8   multiple_lines     7267 non-null   category\n",
            " 9   internet_service   7267 non-null   category\n",
            " 10  online_security    7267 non-null   category\n",
            " 11  online_backup      7267 non-null   category\n",
            " 12  device_protection  7267 non-null   category\n",
            " 13  tech_support       7267 non-null   category\n",
            " 14  streaming_tv       7267 non-null   category\n",
            " 15  streaming_movies   7267 non-null   category\n",
            " 16  contract           7267 non-null   category\n",
            " 17  paperless_billing  7267 non-null   category\n",
            " 18  payment_method     7267 non-null   category\n",
            " 19  charges_monthly    7267 non-null   float64 \n",
            " 20  charges_total      7256 non-null   float64 \n",
            " 21  daily_accounts     7267 non-null   float64 \n",
            "dtypes: category(13), float64(4), int64(4), object(1)\n",
            "memory usage: 605.1+ KB\n"
          ]
        },
        {
          "output_type": "display_data",
          "data": {
            "text/plain": [
              "None"
            ]
          },
          "metadata": {}
        }
      ]
    }
  ]
}